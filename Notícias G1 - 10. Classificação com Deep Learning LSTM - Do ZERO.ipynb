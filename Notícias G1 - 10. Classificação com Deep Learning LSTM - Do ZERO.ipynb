{
 "cells": [
  {
   "cell_type": "markdown",
   "metadata": {},
   "source": [
    "# Notícias G1 - 10. Classificação com Deep Learning LSTM"
   ]
  },
  {
   "cell_type": "markdown",
   "metadata": {},
   "source": [
    "Será feita a classificação das notícias de categoria desconhecida com base no modelo Long Short Term Memory.\n",
    "\n"
   ]
  },
  {
   "cell_type": "markdown",
   "metadata": {},
   "source": [
    "## Imports:"
   ]
  },
  {
   "cell_type": "markdown",
   "metadata": {},
   "source": [
    "Importes de bibliotecas usadas com frequência no código."
   ]
  },
  {
   "cell_type": "code",
   "execution_count": 212,
   "metadata": {},
   "outputs": [],
   "source": [
    "import pandas as pd\n",
    "import numpy as np"
   ]
  },
  {
   "cell_type": "markdown",
   "metadata": {},
   "source": [
    "## Recuperando Dados Gravados:"
   ]
  },
  {
   "cell_type": "markdown",
   "metadata": {},
   "source": [
    "Recuperando dados gravados após higienização, stemmer e stop words."
   ]
  },
  {
   "cell_type": "code",
   "execution_count": 213,
   "metadata": {},
   "outputs": [
    {
     "name": "stdout",
     "output_type": "stream",
     "text": [
      "(3834, 5)\n"
     ]
    },
    {
     "data": {
      "text/html": [
       "<div>\n",
       "<style scoped>\n",
       "    .dataframe tbody tr th:only-of-type {\n",
       "        vertical-align: middle;\n",
       "    }\n",
       "\n",
       "    .dataframe tbody tr th {\n",
       "        vertical-align: top;\n",
       "    }\n",
       "\n",
       "    .dataframe thead th {\n",
       "        text-align: right;\n",
       "    }\n",
       "</style>\n",
       "<table border=\"1\" class=\"dataframe\">\n",
       "  <thead>\n",
       "    <tr style=\"text-align: right;\">\n",
       "      <th></th>\n",
       "      <th>titulo</th>\n",
       "      <th>url</th>\n",
       "      <th>texto</th>\n",
       "      <th>categoria</th>\n",
       "      <th>dado_tratado</th>\n",
       "    </tr>\n",
       "  </thead>\n",
       "  <tbody>\n",
       "    <tr>\n",
       "      <td>0</td>\n",
       "      <td>Entenda como uma ampla coalizão tirou Netanyah...</td>\n",
       "      <td>https://g1.globo.com/mundo/noticia/2021/06/13/...</td>\n",
       "      <td>O Parlamento de Israel confirmou neste doming...</td>\n",
       "      <td>FALTANDO</td>\n",
       "      <td>['entend', 'ampl', 'coaliz', 'tir', 'netanyahu...</td>\n",
       "    </tr>\n",
       "    <tr>\n",
       "      <td>1</td>\n",
       "      <td>Milionário de direita: quem é Naftali Bennett,...</td>\n",
       "      <td>https://g1.globo.com/mundo/noticia/2021/06/13/...</td>\n",
       "      <td>Milionário do setor de tecnologia, Naftali Be...</td>\n",
       "      <td>FALTANDO</td>\n",
       "      <td>['milionri', 'direit', 'naftal', 'bennett', 'n...</td>\n",
       "    </tr>\n",
       "    <tr>\n",
       "      <td>2</td>\n",
       "      <td>Governo de SP antecipa datas de vacinação; vej...</td>\n",
       "      <td>https://g1.globo.com/sp/sao-paulo/noticia/2021...</td>\n",
       "      <td>O governo de São Paulo antecipou em 30 dias o...</td>\n",
       "      <td>FALTANDO</td>\n",
       "      <td>['govern', 'sp', 'antecip', 'dat', 'vacina', '...</td>\n",
       "    </tr>\n",
       "    <tr>\n",
       "      <td>3</td>\n",
       "      <td>PMs que mataram homens dentro de carro em SP s...</td>\n",
       "      <td>https://g1.globo.com/sp/sao-paulo/noticia/2021...</td>\n",
       "      <td>A Polícia Militar instaurou um inquérito poli...</td>\n",
       "      <td>FALTANDO</td>\n",
       "      <td>['pm', 'mat', 'hom', 'dentr', 'carr', 'sp', 's...</td>\n",
       "    </tr>\n",
       "    <tr>\n",
       "      <td>4</td>\n",
       "      <td>Após Venezuela e Bolívia, Colômbia confirma 2 ...</td>\n",
       "      <td>https://ge.globo.com/futebol/copa-america/noti...</td>\n",
       "      <td>A Federação Colombiana de Futebol informou ne...</td>\n",
       "      <td>diversos</td>\n",
       "      <td>['ap', 'venezuel', 'bolv', 'colmb', 'confirm',...</td>\n",
       "    </tr>\n",
       "  </tbody>\n",
       "</table>\n",
       "</div>"
      ],
      "text/plain": [
       "                                              titulo  \\\n",
       "0  Entenda como uma ampla coalizão tirou Netanyah...   \n",
       "1  Milionário de direita: quem é Naftali Bennett,...   \n",
       "2  Governo de SP antecipa datas de vacinação; vej...   \n",
       "3  PMs que mataram homens dentro de carro em SP s...   \n",
       "4  Após Venezuela e Bolívia, Colômbia confirma 2 ...   \n",
       "\n",
       "                                                 url  \\\n",
       "0  https://g1.globo.com/mundo/noticia/2021/06/13/...   \n",
       "1  https://g1.globo.com/mundo/noticia/2021/06/13/...   \n",
       "2  https://g1.globo.com/sp/sao-paulo/noticia/2021...   \n",
       "3  https://g1.globo.com/sp/sao-paulo/noticia/2021...   \n",
       "4  https://ge.globo.com/futebol/copa-america/noti...   \n",
       "\n",
       "                                               texto categoria  \\\n",
       "0   O Parlamento de Israel confirmou neste doming...  FALTANDO   \n",
       "1   Milionário do setor de tecnologia, Naftali Be...  FALTANDO   \n",
       "2   O governo de São Paulo antecipou em 30 dias o...  FALTANDO   \n",
       "3   A Polícia Militar instaurou um inquérito poli...  FALTANDO   \n",
       "4   A Federação Colombiana de Futebol informou ne...  diversos   \n",
       "\n",
       "                                        dado_tratado  \n",
       "0  ['entend', 'ampl', 'coaliz', 'tir', 'netanyahu...  \n",
       "1  ['milionri', 'direit', 'naftal', 'bennett', 'n...  \n",
       "2  ['govern', 'sp', 'antecip', 'dat', 'vacina', '...  \n",
       "3  ['pm', 'mat', 'hom', 'dentr', 'carr', 'sp', 's...  \n",
       "4  ['ap', 'venezuel', 'bolv', 'colmb', 'confirm',...  "
      ]
     },
     "execution_count": 213,
     "metadata": {},
     "output_type": "execute_result"
    }
   ],
   "source": [
    "noticias = pd.read_csv('noticias_g1_higienizadas.csv')\n",
    "print(noticias.shape)\n",
    "noticias.head()"
   ]
  },
  {
   "cell_type": "markdown",
   "metadata": {},
   "source": [
    "## Separando Massa Conhecida e Desconhecida:"
   ]
  },
  {
   "cell_type": "markdown",
   "metadata": {},
   "source": [
    "Parte dos dados dessa base está marcada na coluna \"categoria\" como \"FALTANDO\". Essa é a massa de dados que desejamos classificar após o treinamento do modelo. As demais linhas já contém uma categoria conhecida e vamos usar essa massa para treino e teste do modelo."
   ]
  },
  {
   "cell_type": "code",
   "execution_count": 214,
   "metadata": {},
   "outputs": [
    {
     "name": "stdout",
     "output_type": "stream",
     "text": [
      "Dados separados: Massa conhecida=(1723, 5), Massa desconhecida=(2111, 5)\n"
     ]
    }
   ],
   "source": [
    "know_data = noticias[noticias.categoria != 'FALTANDO']\n",
    "unknow_data = noticias[noticias.categoria == 'FALTANDO']\n",
    "print(\"Dados separados: Massa conhecida={}, Massa desconhecida={}\".format(know_data.shape, unknow_data.shape))"
   ]
  },
  {
   "cell_type": "markdown",
   "metadata": {},
   "source": [
    "## Dicionário de Palavras:"
   ]
  },
  {
   "cell_type": "markdown",
   "metadata": {},
   "source": [
    "A seguir iremos gerar o dicionário de palavras do problema conforme parâmetros abaixo:\n",
    "* num_words é o tamanho máximo do dicionário de palavras.\n",
    "* filters são filtros para remover caracteres especiais caso haja.\n",
    "* lower transforma as palavras em caracteres minúsculos."
   ]
  },
  {
   "cell_type": "code",
   "execution_count": 215,
   "metadata": {},
   "outputs": [
    {
     "name": "stdout",
     "output_type": "stream",
     "text": [
      "Found 25758 unique tokens.\n"
     ]
    }
   ],
   "source": [
    "from tensorflow.keras.preprocessing.text import Tokenizer\n",
    "\n",
    "tokenizer = Tokenizer(num_words=50000, filters='\\'!\"#$%&()*+,-./:;<=>?@[\\]^_`{|}~', lower=True)\n",
    "tokenizer.fit_on_texts(noticias['dado_tratado'])\n",
    "vocabulary = tokenizer.word_index\n",
    "\n",
    "print('Found %s unique tokens.' % len(vocabulary))"
   ]
  },
  {
   "cell_type": "markdown",
   "metadata": {},
   "source": [
    "## Vetorização:"
   ]
  },
  {
   "cell_type": "markdown",
   "metadata": {},
   "source": [
    "Precisamos vetorizar o texto de modo que seja transformado em uma sequencia de números inteiros que possa ser processado pela rede neural."
   ]
  },
  {
   "cell_type": "code",
   "execution_count": 216,
   "metadata": {},
   "outputs": [
    {
     "name": "stdout",
     "output_type": "stream",
     "text": [
      "Resultado da vetorização:\n",
      "\n",
      " [640, 270, 1868, 3160, 68, 698, 640, 1097, 13327, 86, 82, 2, 329, 56, 42, 59, 5115, 1868, 3160, 301, 230, 2, 30, 1868, 511, 868, 319, 20, 1958, 1052, 1405, 1990, 271, 77, 2412, 1155, 133, 3850, 3941, 1050, 1868, 31, 67, 633, 12, 698, 2, 186, 42, 234, 4, 82, 207, 997, 13328, 1868, 558, 2019, 424, 821, 1854, 56, 770, 914, 234, 5, 4662, 1868, 3011, 921, 3779, 33, 1759, 76, 3861, 1368, 186, 4, 6226, 217, 113, 295, 1585, 87, 350, 260, 92, 359, 9090, 11335, 1211, 6227, 4663, 472, 11336, 720, 11337, 11338, 11339, 11340, 794, 11341, 720, 11342, 11343, 11344, 11345, 10014, 11346, 345, 2829, 170, 2137, 1681, 278, 11347, 580, 11348, 471, 706, 489, 1052, 1489, 4, 34, 278, 1328, 720, 11349, 11350] \n",
      "\n",
      " [3155, 3372, 2063, 57, 1138, 153, 4324, 6899, 3155, 3372, 2063, 57, 13, 284, 35, 1, 147, 1840, 1138, 3373, 5287, 1138, 4324, 6899, 1261, 595, 2157, 3155, 486, 4324, 6899, 32, 84, 50, 784, 147, 57, 111, 1138, 2134, 5103, 5946, 1327, 35, 4541, 970, 2226, 1852, 1824, 351, 841, 351, 1558, 2968, 154, 449, 126, 65, 152, 872, 1138, 3373, 33, 784, 147, 5717, 193, 1181, 1825, 1278, 808, 6, 3372, 2063, 17, 1, 249, 297, 28, 1669, 145, 524, 460, 1114, 339, 1208, 1412, 1639, 246, 3155, 125, 2938, 2755, 5477, 860, 4542, 113, 5288, 16, 828, 111, 351, 547, 298, 1706, 124, 1840, 1138, 41, 5478, 44, 40, 4543, 1221, 2645, 7292, 230, 1317, 299, 71, 287, 812, 477, 2157, 32, 65, 784, 17, 65, 2, 3155, 1046, 2, 918, 19, 35, 449, 3846, 11314, 1626, 1514]\n"
     ]
    }
   ],
   "source": [
    "from tensorflow.keras.preprocessing.sequence import pad_sequences\n",
    "\n",
    "X_know = tokenizer.texts_to_sequences(know_data['dado_tratado'].values)\n",
    "X_unknow = tokenizer.texts_to_sequences(unknow_data['dado_tratado'].values)\n",
    "\n",
    "print('Resultado da vetorização:\\n\\n', X_know[4], '\\n\\n', X_unknow[4])"
   ]
  },
  {
   "cell_type": "markdown",
   "metadata": {},
   "source": [
    "## Padronizando Tamanho das Notícias"
   ]
  },
  {
   "cell_type": "markdown",
   "metadata": {},
   "source": [
    "Vamos padronizar o tamanho das notícias truncando a partir de um número máximo de palavras e completando com zeros à esquerda nos casos em que a notícia não satisfizer esse máximo. Para tanto os seguintes parâmetros serão usados:\n",
    "\n",
    "* padding: indica em que posição (antes ou depois do texto) será feito o complemento com zeros caso a notícia tenha menos que a quantidade de palavras esperada;\n",
    "\n",
    "* truncating: indica em que posição (no início ou no final) o texto será truncado;\n",
    "\n",
    "* maxlen: é o número máximo de palavras por notícia."
   ]
  },
  {
   "cell_type": "code",
   "execution_count": 217,
   "metadata": {},
   "outputs": [
    {
     "name": "stdout",
     "output_type": "stream",
     "text": [
      "Resultado da padronização: (1723, 250) (2111, 250) \n",
      "\n",
      " [  640   270  1868  3160    68   698   640  1097 13327    86    82     2\n",
      "   329    56    42    59  5115  1868  3160   301   230     2    30  1868\n",
      "   511   868   319    20  1958  1052  1405  1990   271    77  2412  1155\n",
      "   133  3850  3941  1050  1868    31    67   633    12   698     2   186\n",
      "    42   234     4    82   207   997 13328  1868   558  2019   424   821\n",
      "  1854    56   770   914   234     5  4662  1868  3011   921  3779    33\n",
      "  1759    76  3861  1368   186     4  6226   217   113   295  1585    87\n",
      "   350   260    92   359  9090 11335  1211  6227  4663   472 11336   720\n",
      " 11337 11338 11339 11340   794 11341   720 11342 11343 11344 11345 10014\n",
      " 11346   345  2829   170  2137  1681   278 11347   580 11348   471   706\n",
      "   489  1052  1489     4    34   278  1328   720 11349 11350     0     0\n",
      "     0     0     0     0     0     0     0     0     0     0     0     0\n",
      "     0     0     0     0     0     0     0     0     0     0     0     0\n",
      "     0     0     0     0     0     0     0     0     0     0     0     0\n",
      "     0     0     0     0     0     0     0     0     0     0     0     0\n",
      "     0     0     0     0     0     0     0     0     0     0     0     0\n",
      "     0     0     0     0     0     0     0     0     0     0     0     0\n",
      "     0     0     0     0     0     0     0     0     0     0     0     0\n",
      "     0     0     0     0     0     0     0     0     0     0     0     0\n",
      "     0     0     0     0     0     0     0     0     0     0     0     0\n",
      "     0     0     0     0     0     0     0     0     0     0] \n",
      "\n",
      " [ 3155  3372  2063    57  1138   153  4324  6899  3155  3372  2063    57\n",
      "    13   284    35     1   147  1840  1138  3373  5287  1138  4324  6899\n",
      "  1261   595  2157  3155   486  4324  6899    32    84    50   784   147\n",
      "    57   111  1138  2134  5103  5946  1327    35  4541   970  2226  1852\n",
      "  1824   351   841   351  1558  2968   154   449   126    65   152   872\n",
      "  1138  3373    33   784   147  5717   193  1181  1825  1278   808     6\n",
      "  3372  2063    17     1   249   297    28  1669   145   524   460  1114\n",
      "   339  1208  1412  1639   246  3155   125  2938  2755  5477   860  4542\n",
      "   113  5288    16   828   111   351   547   298  1706   124  1840  1138\n",
      "    41  5478    44    40  4543  1221  2645  7292   230  1317   299    71\n",
      "   287   812   477  2157    32    65   784    17    65     2  3155  1046\n",
      "     2   918    19    35   449  3846 11314  1626  1514     0     0     0\n",
      "     0     0     0     0     0     0     0     0     0     0     0     0\n",
      "     0     0     0     0     0     0     0     0     0     0     0     0\n",
      "     0     0     0     0     0     0     0     0     0     0     0     0\n",
      "     0     0     0     0     0     0     0     0     0     0     0     0\n",
      "     0     0     0     0     0     0     0     0     0     0     0     0\n",
      "     0     0     0     0     0     0     0     0     0     0     0     0\n",
      "     0     0     0     0     0     0     0     0     0     0     0     0\n",
      "     0     0     0     0     0     0     0     0     0     0     0     0\n",
      "     0     0     0     0     0     0     0     0     0     0]\n"
     ]
    }
   ],
   "source": [
    "X_know = pad_sequences(X_know, padding='post', truncating='post', maxlen=250)\n",
    "X_unknow = pad_sequences(X_unknow, padding='post', truncating='post', maxlen=250)\n",
    "\n",
    "print('Resultado da padronização:', X_know.shape, X_unknow.shape, '\\n\\n', X_know[4], '\\n\\n', X_unknow[4])"
   ]
  },
  {
   "cell_type": "markdown",
   "metadata": {},
   "source": [
    "## Divisão em Treino e Teste:"
   ]
  },
  {
   "cell_type": "markdown",
   "metadata": {},
   "source": [
    "Vamos dividir a base de dados em massa para treino (70%) e massa para teste (30%)."
   ]
  },
  {
   "cell_type": "code",
   "execution_count": 218,
   "metadata": {},
   "outputs": [
    {
     "name": "stdout",
     "output_type": "stream",
     "text": [
      "(1206, 250) (517, 250) (1206,) (517,)\n"
     ]
    }
   ],
   "source": [
    "# ver se tem train_test_split stratified\n",
    "\n",
    "from sklearn.model_selection import train_test_split\n",
    "\n",
    "X_train, X_test, y_train, y_test = train_test_split(\n",
    "    X_know, know_data['categoria'], test_size=0.30, \n",
    "    random_state=33, stratify=know_data['categoria'])\n",
    "\n",
    "print(X_train.shape, X_test.shape, y_train.shape, y_test.shape)"
   ]
  },
  {
   "cell_type": "markdown",
   "metadata": {},
   "source": [
    "## One Hot Encoder:"
   ]
  },
  {
   "cell_type": "markdown",
   "metadata": {},
   "source": [
    "Como trata-se de um problema multiclasse vamos precisar utilizar a técnica one-hot-encoding. Nessa técnica é criada uma matriz onde cada classe torna-se uma coluna e, para cada registro, apenas a coluna da classe correta é sinalizada com valor 1, as demais colunas permanecem com zeros. \n",
    "\n",
    "O objetivo disso e tornar variáveis categóricas processáveis pela rede neural sem, contudo, utilizar ordem de grandeza pela atribuição de números inteiros - técnica conhecida como label enconding."
   ]
  },
  {
   "cell_type": "code",
   "execution_count": 219,
   "metadata": {},
   "outputs": [
    {
     "data": {
      "text/html": [
       "<div>\n",
       "<style scoped>\n",
       "    .dataframe tbody tr th:only-of-type {\n",
       "        vertical-align: middle;\n",
       "    }\n",
       "\n",
       "    .dataframe tbody tr th {\n",
       "        vertical-align: top;\n",
       "    }\n",
       "\n",
       "    .dataframe thead tr th {\n",
       "        text-align: left;\n",
       "    }\n",
       "</style>\n",
       "<table border=\"1\" class=\"dataframe\">\n",
       "  <thead>\n",
       "    <tr>\n",
       "      <th></th>\n",
       "      <th>diversos</th>\n",
       "      <th>economia</th>\n",
       "      <th>educacao</th>\n",
       "      <th>politica</th>\n",
       "      <th>pop-arte</th>\n",
       "      <th>saude</th>\n",
       "    </tr>\n",
       "  </thead>\n",
       "  <tbody>\n",
       "    <tr>\n",
       "      <td>0</td>\n",
       "      <td>0.0</td>\n",
       "      <td>1.0</td>\n",
       "      <td>0.0</td>\n",
       "      <td>0.0</td>\n",
       "      <td>0.0</td>\n",
       "      <td>0.0</td>\n",
       "    </tr>\n",
       "    <tr>\n",
       "      <td>1</td>\n",
       "      <td>0.0</td>\n",
       "      <td>1.0</td>\n",
       "      <td>0.0</td>\n",
       "      <td>0.0</td>\n",
       "      <td>0.0</td>\n",
       "      <td>0.0</td>\n",
       "    </tr>\n",
       "    <tr>\n",
       "      <td>2</td>\n",
       "      <td>0.0</td>\n",
       "      <td>0.0</td>\n",
       "      <td>0.0</td>\n",
       "      <td>1.0</td>\n",
       "      <td>0.0</td>\n",
       "      <td>0.0</td>\n",
       "    </tr>\n",
       "    <tr>\n",
       "      <td>3</td>\n",
       "      <td>1.0</td>\n",
       "      <td>0.0</td>\n",
       "      <td>0.0</td>\n",
       "      <td>0.0</td>\n",
       "      <td>0.0</td>\n",
       "      <td>0.0</td>\n",
       "    </tr>\n",
       "    <tr>\n",
       "      <td>4</td>\n",
       "      <td>0.0</td>\n",
       "      <td>0.0</td>\n",
       "      <td>0.0</td>\n",
       "      <td>1.0</td>\n",
       "      <td>0.0</td>\n",
       "      <td>0.0</td>\n",
       "    </tr>\n",
       "    <tr>\n",
       "      <td>...</td>\n",
       "      <td>...</td>\n",
       "      <td>...</td>\n",
       "      <td>...</td>\n",
       "      <td>...</td>\n",
       "      <td>...</td>\n",
       "      <td>...</td>\n",
       "    </tr>\n",
       "    <tr>\n",
       "      <td>1201</td>\n",
       "      <td>0.0</td>\n",
       "      <td>0.0</td>\n",
       "      <td>0.0</td>\n",
       "      <td>1.0</td>\n",
       "      <td>0.0</td>\n",
       "      <td>0.0</td>\n",
       "    </tr>\n",
       "    <tr>\n",
       "      <td>1202</td>\n",
       "      <td>0.0</td>\n",
       "      <td>0.0</td>\n",
       "      <td>0.0</td>\n",
       "      <td>1.0</td>\n",
       "      <td>0.0</td>\n",
       "      <td>0.0</td>\n",
       "    </tr>\n",
       "    <tr>\n",
       "      <td>1203</td>\n",
       "      <td>0.0</td>\n",
       "      <td>0.0</td>\n",
       "      <td>1.0</td>\n",
       "      <td>0.0</td>\n",
       "      <td>0.0</td>\n",
       "      <td>0.0</td>\n",
       "    </tr>\n",
       "    <tr>\n",
       "      <td>1204</td>\n",
       "      <td>0.0</td>\n",
       "      <td>0.0</td>\n",
       "      <td>0.0</td>\n",
       "      <td>1.0</td>\n",
       "      <td>0.0</td>\n",
       "      <td>0.0</td>\n",
       "    </tr>\n",
       "    <tr>\n",
       "      <td>1205</td>\n",
       "      <td>0.0</td>\n",
       "      <td>0.0</td>\n",
       "      <td>0.0</td>\n",
       "      <td>1.0</td>\n",
       "      <td>0.0</td>\n",
       "      <td>0.0</td>\n",
       "    </tr>\n",
       "  </tbody>\n",
       "</table>\n",
       "<p>1206 rows × 6 columns</p>\n",
       "</div>"
      ],
      "text/plain": [
       "     diversos economia educacao politica pop-arte saude\n",
       "0         0.0      1.0      0.0      0.0      0.0   0.0\n",
       "1         0.0      1.0      0.0      0.0      0.0   0.0\n",
       "2         0.0      0.0      0.0      1.0      0.0   0.0\n",
       "3         1.0      0.0      0.0      0.0      0.0   0.0\n",
       "4         0.0      0.0      0.0      1.0      0.0   0.0\n",
       "...       ...      ...      ...      ...      ...   ...\n",
       "1201      0.0      0.0      0.0      1.0      0.0   0.0\n",
       "1202      0.0      0.0      0.0      1.0      0.0   0.0\n",
       "1203      0.0      0.0      1.0      0.0      0.0   0.0\n",
       "1204      0.0      0.0      0.0      1.0      0.0   0.0\n",
       "1205      0.0      0.0      0.0      1.0      0.0   0.0\n",
       "\n",
       "[1206 rows x 6 columns]"
      ]
     },
     "execution_count": 219,
     "metadata": {},
     "output_type": "execute_result"
    }
   ],
   "source": [
    "from sklearn.preprocessing import OneHotEncoder\n",
    "\n",
    "df_cat_treino = pd.DataFrame(y_train)\n",
    "\n",
    "one_hot_encoder = OneHotEncoder(sparse=False)\n",
    "one_hot_encoder.fit(df_cat_treino.to_numpy())\n",
    "ohe_cat_treino = one_hot_encoder.transform(df_cat_treino.to_numpy())\n",
    "\n",
    "df_one_hot_encoder = pd.DataFrame(ohe_cat_treino)\n",
    "df_one_hot_encoder.columns = one_hot_encoder.categories_\n",
    "\n",
    "df_one_hot_encoder"
   ]
  },
  {
   "cell_type": "markdown",
   "metadata": {},
   "source": [
    "## Tratando Desbalanceamento das Classes:"
   ]
  },
  {
   "cell_type": "markdown",
   "metadata": {},
   "source": [
    "Como as classes estão muito desbalanceadas faremos o tratamento desse problema por meio do ajuste dos pesos para cada categoria. Isso será feito usando o sklearn."
   ]
  },
  {
   "cell_type": "code",
   "execution_count": 220,
   "metadata": {},
   "outputs": [
    {
     "data": {
      "text/plain": [
       "{0: 28.714285714285715,\n",
       " 1: 0.44370860927152317,\n",
       " 2: 5.911764705882353,\n",
       " 3: 0.5809248554913294,\n",
       " 4: 0.8893805309734514,\n",
       " 5: 1.4357142857142857}"
      ]
     },
     "execution_count": 220,
     "metadata": {},
     "output_type": "execute_result"
    }
   ],
   "source": [
    "from sklearn.utils import class_weight\n",
    "\n",
    "sm_one_hot_encoder = np.array(ohe_cat_treino)\n",
    "\n",
    "y_integers = np.argmax(sm_one_hot_encoder, axis=1)\n",
    "class_weights = class_weight.compute_class_weight('balanced', np.unique(y_integers), y_integers)\n",
    "d_class_weights = dict(enumerate(class_weights))\n",
    "d_class_weights"
   ]
  },
  {
   "cell_type": "markdown",
   "metadata": {},
   "source": [
    "## Transformando Labels das Categorias em Números:"
   ]
  },
  {
   "cell_type": "markdown",
   "metadata": {},
   "source": [
    "Cria uma coluna com o índice correspondente a cada classe no dataframe de categorias da amostra de teste."
   ]
  },
  {
   "cell_type": "code",
   "execution_count": 221,
   "metadata": {},
   "outputs": [
    {
     "data": {
      "text/html": [
       "<div>\n",
       "<style scoped>\n",
       "    .dataframe tbody tr th:only-of-type {\n",
       "        vertical-align: middle;\n",
       "    }\n",
       "\n",
       "    .dataframe tbody tr th {\n",
       "        vertical-align: top;\n",
       "    }\n",
       "\n",
       "    .dataframe thead th {\n",
       "        text-align: right;\n",
       "    }\n",
       "</style>\n",
       "<table border=\"1\" class=\"dataframe\">\n",
       "  <thead>\n",
       "    <tr style=\"text-align: right;\">\n",
       "      <th></th>\n",
       "      <th>categoria</th>\n",
       "      <th>index</th>\n",
       "    </tr>\n",
       "  </thead>\n",
       "  <tbody>\n",
       "    <tr>\n",
       "      <td>2521</td>\n",
       "      <td>politica</td>\n",
       "      <td>3.0</td>\n",
       "    </tr>\n",
       "    <tr>\n",
       "      <td>2234</td>\n",
       "      <td>politica</td>\n",
       "      <td>3.0</td>\n",
       "    </tr>\n",
       "    <tr>\n",
       "      <td>697</td>\n",
       "      <td>economia</td>\n",
       "      <td>1.0</td>\n",
       "    </tr>\n",
       "    <tr>\n",
       "      <td>682</td>\n",
       "      <td>economia</td>\n",
       "      <td>1.0</td>\n",
       "    </tr>\n",
       "    <tr>\n",
       "      <td>3421</td>\n",
       "      <td>economia</td>\n",
       "      <td>1.0</td>\n",
       "    </tr>\n",
       "    <tr>\n",
       "      <td>...</td>\n",
       "      <td>...</td>\n",
       "      <td>...</td>\n",
       "    </tr>\n",
       "    <tr>\n",
       "      <td>917</td>\n",
       "      <td>saude</td>\n",
       "      <td>5.0</td>\n",
       "    </tr>\n",
       "    <tr>\n",
       "      <td>170</td>\n",
       "      <td>economia</td>\n",
       "      <td>1.0</td>\n",
       "    </tr>\n",
       "    <tr>\n",
       "      <td>1031</td>\n",
       "      <td>saude</td>\n",
       "      <td>5.0</td>\n",
       "    </tr>\n",
       "    <tr>\n",
       "      <td>349</td>\n",
       "      <td>economia</td>\n",
       "      <td>1.0</td>\n",
       "    </tr>\n",
       "    <tr>\n",
       "      <td>2071</td>\n",
       "      <td>economia</td>\n",
       "      <td>1.0</td>\n",
       "    </tr>\n",
       "  </tbody>\n",
       "</table>\n",
       "<p>517 rows × 2 columns</p>\n",
       "</div>"
      ],
      "text/plain": [
       "     categoria  index\n",
       "2521  politica    3.0\n",
       "2234  politica    3.0\n",
       "697   economia    1.0\n",
       "682   economia    1.0\n",
       "3421  economia    1.0\n",
       "...        ...    ...\n",
       "917      saude    5.0\n",
       "170   economia    1.0\n",
       "1031     saude    5.0\n",
       "349   economia    1.0\n",
       "2071  economia    1.0\n",
       "\n",
       "[517 rows x 2 columns]"
      ]
     },
     "execution_count": 221,
     "metadata": {},
     "output_type": "execute_result"
    }
   ],
   "source": [
    "categorys = one_hot_encoder.categories_[0]\n",
    "df_cat_teste = pd.DataFrame(y_test)\n",
    "\n",
    "for x in range (0, len(categorys)):\n",
    "    df_cat_teste.loc[df_cat_teste['categoria'] == categorys[x], 'index'] = x\n",
    "\n",
    "df_cat_teste"
   ]
  },
  {
   "cell_type": "markdown",
   "metadata": {},
   "source": [
    "## LSTM - Configuração:"
   ]
  },
  {
   "cell_type": "markdown",
   "metadata": {},
   "source": [
    "Configura a rede para classificação com LSTM."
   ]
  },
  {
   "cell_type": "code",
   "execution_count": 222,
   "metadata": {},
   "outputs": [
    {
     "name": "stdout",
     "output_type": "stream",
     "text": [
      "Model: \"sequential_19\"\n",
      "_________________________________________________________________\n",
      "Layer (type)                 Output Shape              Param #   \n",
      "=================================================================\n",
      "embedding_19 (Embedding)     (None, 250, 64)           1648512   \n",
      "_________________________________________________________________\n",
      "bidirectional_19 (Bidirectio (None, 128)               66048     \n",
      "_________________________________________________________________\n",
      "dense_38 (Dense)             (None, 32)                4128      \n",
      "_________________________________________________________________\n",
      "dense_39 (Dense)             (None, 6)                 198       \n",
      "=================================================================\n",
      "Total params: 1,718,886\n",
      "Trainable params: 1,718,886\n",
      "Non-trainable params: 0\n",
      "_________________________________________________________________\n"
     ]
    }
   ],
   "source": [
    "import tensorflow as tf\n",
    "\n",
    "model = tf.keras.Sequential([\n",
    "\n",
    "    # Add an embedding layer expecting input vocab and output embedding dimension\n",
    "    tf.keras.layers.Embedding(input_dim=len(vocabulary), output_dim=64, input_length=250),\n",
    "    \n",
    "    # Bidiretional layer with LSTM\n",
    "    tf.keras.layers.Bidirectional(tf.keras.layers.LSTM(units=64)),\n",
    "    \n",
    "    # use ReLU in place of tanh function since they are very good alternatives of each other.\n",
    "    tf.keras.layers.Dense(32, activation='relu'),\n",
    "    \n",
    "    # Add a Dense layer with 6 units and softmax activation.\n",
    "    # When we have multiple outputs, softmax convert outputs layers into a probability distribution.\n",
    "    tf.keras.layers.Dense(6, activation='softmax')\n",
    "])\n",
    "\n",
    "model.summary()"
   ]
  },
  {
   "cell_type": "markdown",
   "metadata": {},
   "source": [
    "## LSTM - Treinamento:"
   ]
  },
  {
   "cell_type": "markdown",
   "metadata": {},
   "source": [
    "Realiza o treinamento para classificação com LSTM."
   ]
  },
  {
   "cell_type": "code",
   "execution_count": 223,
   "metadata": {},
   "outputs": [
    {
     "name": "stdout",
     "output_type": "stream",
     "text": [
      "Epoch 1/150\n",
      "38/38 - 13s - loss: 0.1260 - accuracy: 0.3673 - val_loss: 8.1457 - val_accuracy: 0.0000e+00\n",
      "Epoch 2/150\n",
      "38/38 - 8s - loss: 0.0790 - accuracy: 0.6418 - val_loss: 8.2088 - val_accuracy: 0.0000e+00\n",
      "Epoch 3/150\n",
      "38/38 - 8s - loss: 0.0363 - accuracy: 0.8408 - val_loss: 8.2005 - val_accuracy: 0.0000e+00\n",
      "Epoch 4/150\n",
      "38/38 - 8s - loss: 0.0222 - accuracy: 0.9312 - val_loss: 8.2238 - val_accuracy: 0.0000e+00\n",
      "Epoch 5/150\n",
      "38/38 - 8s - loss: 0.0139 - accuracy: 0.9527 - val_loss: 8.2296 - val_accuracy: 0.0000e+00\n",
      "Epoch 6/150\n",
      "38/38 - 7s - loss: 0.0114 - accuracy: 0.9585 - val_loss: 8.2251 - val_accuracy: 0.0000e+00\n",
      "Epoch 7/150\n",
      "38/38 - 7s - loss: 0.0100 - accuracy: 0.9594 - val_loss: 8.2266 - val_accuracy: 0.0000e+00\n",
      "Epoch 8/150\n",
      "38/38 - 8s - loss: 0.0079 - accuracy: 0.9652 - val_loss: 8.2187 - val_accuracy: 0.0000e+00\n",
      "Epoch 9/150\n",
      "38/38 - 7s - loss: 0.0052 - accuracy: 0.9818 - val_loss: 8.2238 - val_accuracy: 0.0000e+00\n",
      "Epoch 10/150\n",
      "38/38 - 8s - loss: 0.0038 - accuracy: 0.9884 - val_loss: 8.2345 - val_accuracy: 0.0000e+00\n",
      "Epoch 11/150\n",
      "38/38 - 9s - loss: 0.0032 - accuracy: 0.9892 - val_loss: 8.2280 - val_accuracy: 0.0000e+00\n",
      "Epoch 12/150\n",
      "38/38 - 8s - loss: 0.0026 - accuracy: 0.9925 - val_loss: 8.2333 - val_accuracy: 0.0000e+00\n",
      "Epoch 13/150\n",
      "38/38 - 9s - loss: 0.0022 - accuracy: 0.9917 - val_loss: 8.2337 - val_accuracy: 0.0000e+00\n",
      "Epoch 14/150\n",
      "38/38 - 10s - loss: 0.0020 - accuracy: 0.9925 - val_loss: 8.2362 - val_accuracy: 0.0000e+00\n",
      "Epoch 15/150\n",
      "38/38 - 10s - loss: 0.0020 - accuracy: 0.9925 - val_loss: 8.2389 - val_accuracy: 0.0019\n",
      "Epoch 16/150\n",
      "38/38 - 10s - loss: 0.0021 - accuracy: 0.9934 - val_loss: 8.2322 - val_accuracy: 0.0077\n",
      "Epoch 17/150\n",
      "38/38 - 8s - loss: 0.0019 - accuracy: 0.9934 - val_loss: 8.2358 - val_accuracy: 0.0116\n",
      "Epoch 18/150\n",
      "38/38 - 8s - loss: 0.0017 - accuracy: 0.9942 - val_loss: 8.2318 - val_accuracy: 0.0135\n",
      "Epoch 19/150\n",
      "38/38 - 8s - loss: 0.0061 - accuracy: 0.9768 - val_loss: 8.2283 - val_accuracy: 0.0077\n",
      "Epoch 20/150\n",
      "38/38 - 8s - loss: 0.0054 - accuracy: 0.9784 - val_loss: 8.2373 - val_accuracy: 0.0000e+00\n",
      "Epoch 21/150\n",
      "38/38 - 8s - loss: 0.0023 - accuracy: 0.9917 - val_loss: 8.2355 - val_accuracy: 0.0000e+00\n",
      "Epoch 22/150\n",
      "38/38 - 9s - loss: 0.0016 - accuracy: 0.9925 - val_loss: 8.2359 - val_accuracy: 0.0019\n",
      "Epoch 23/150\n",
      "38/38 - 8s - loss: 0.0011 - accuracy: 0.9959 - val_loss: 8.2363 - val_accuracy: 0.0077\n",
      "Epoch 24/150\n",
      "38/38 - 8s - loss: 9.4331e-04 - accuracy: 0.9975 - val_loss: 8.2359 - val_accuracy: 0.0097\n",
      "Epoch 25/150\n",
      "38/38 - 8s - loss: 7.8840e-04 - accuracy: 0.9983 - val_loss: 8.2371 - val_accuracy: 0.0077\n",
      "Epoch 26/150\n",
      "38/38 - 8s - loss: 6.4651e-04 - accuracy: 0.9983 - val_loss: 8.2368 - val_accuracy: 0.0077\n",
      "Epoch 27/150\n",
      "38/38 - 8s - loss: 3.7907e-04 - accuracy: 0.9992 - val_loss: 8.2384 - val_accuracy: 0.0077\n",
      "Epoch 28/150\n",
      "38/38 - 8s - loss: 3.4666e-04 - accuracy: 0.9992 - val_loss: 8.2393 - val_accuracy: 0.0077\n",
      "Epoch 29/150\n",
      "38/38 - 8s - loss: 3.3070e-04 - accuracy: 0.9992 - val_loss: 8.2400 - val_accuracy: 0.0077\n",
      "Epoch 30/150\n",
      "38/38 - 8s - loss: 3.2038e-04 - accuracy: 0.9992 - val_loss: 8.2406 - val_accuracy: 0.0077\n",
      "Epoch 31/150\n",
      "38/38 - 8s - loss: 3.1372e-04 - accuracy: 0.9992 - val_loss: 8.2410 - val_accuracy: 0.0077\n",
      "Epoch 32/150\n",
      "38/38 - 8s - loss: 3.0731e-04 - accuracy: 0.9992 - val_loss: 8.2415 - val_accuracy: 0.0077\n",
      "Epoch 33/150\n",
      "38/38 - 8s - loss: 3.0312e-04 - accuracy: 0.9992 - val_loss: 8.2420 - val_accuracy: 0.0077\n",
      "Epoch 34/150\n",
      "38/38 - 8s - loss: 2.9991e-04 - accuracy: 0.9992 - val_loss: 8.2424 - val_accuracy: 0.0077\n",
      "Epoch 35/150\n",
      "38/38 - 9s - loss: 2.9706e-04 - accuracy: 0.9992 - val_loss: 8.2427 - val_accuracy: 0.0077\n",
      "Epoch 36/150\n",
      "38/38 - 9s - loss: 2.9493e-04 - accuracy: 0.9992 - val_loss: 8.2430 - val_accuracy: 0.0077\n",
      "Epoch 37/150\n",
      "38/38 - 9s - loss: 2.9306e-04 - accuracy: 0.9992 - val_loss: 8.2433 - val_accuracy: 0.0077\n",
      "Epoch 38/150\n",
      "38/38 - 9s - loss: 2.9149e-04 - accuracy: 0.9992 - val_loss: 8.2435 - val_accuracy: 0.0077\n",
      "Epoch 39/150\n",
      "38/38 - 9s - loss: 2.9000e-04 - accuracy: 0.9992 - val_loss: 8.2438 - val_accuracy: 0.0077\n",
      "Epoch 40/150\n",
      "38/38 - 8s - loss: 2.8893e-04 - accuracy: 0.9992 - val_loss: 8.2440 - val_accuracy: 0.0077\n",
      "Epoch 41/150\n",
      "38/38 - 8s - loss: 2.8781e-04 - accuracy: 0.9992 - val_loss: 8.2442 - val_accuracy: 0.0077\n",
      "Epoch 42/150\n",
      "38/38 - 9s - loss: 2.8693e-04 - accuracy: 0.9992 - val_loss: 8.2444 - val_accuracy: 0.0077\n",
      "Epoch 43/150\n",
      "38/38 - 9s - loss: 2.8618e-04 - accuracy: 0.9992 - val_loss: 8.2446 - val_accuracy: 0.0077\n",
      "Epoch 44/150\n",
      "38/38 - 8s - loss: 2.8552e-04 - accuracy: 0.9992 - val_loss: 8.2448 - val_accuracy: 0.0077\n",
      "Epoch 45/150\n",
      "38/38 - 8s - loss: 2.8486e-04 - accuracy: 0.9992 - val_loss: 8.2449 - val_accuracy: 0.0077\n",
      "Epoch 46/150\n",
      "38/38 - 8s - loss: 2.8421e-04 - accuracy: 0.9992 - val_loss: 8.2451 - val_accuracy: 0.0077\n",
      "Epoch 47/150\n",
      "38/38 - 8s - loss: 2.8370e-04 - accuracy: 0.9992 - val_loss: 8.2453 - val_accuracy: 0.0077\n",
      "Epoch 48/150\n",
      "38/38 - 8s - loss: 2.8324e-04 - accuracy: 0.9992 - val_loss: 8.2454 - val_accuracy: 0.0077\n",
      "Epoch 49/150\n",
      "38/38 - 10s - loss: 2.8280e-04 - accuracy: 0.9992 - val_loss: 8.2455 - val_accuracy: 0.0077\n",
      "Epoch 50/150\n",
      "38/38 - 11s - loss: 2.8241e-04 - accuracy: 0.9992 - val_loss: 8.2457 - val_accuracy: 0.0077\n",
      "Epoch 51/150\n",
      "38/38 - 12s - loss: 2.8208e-04 - accuracy: 0.9992 - val_loss: 8.2458 - val_accuracy: 0.0077\n",
      "Epoch 52/150\n",
      "38/38 - 18s - loss: 2.8175e-04 - accuracy: 0.9992 - val_loss: 8.2459 - val_accuracy: 0.0077\n",
      "Epoch 53/150\n",
      "38/38 - 15s - loss: 2.8145e-04 - accuracy: 0.9992 - val_loss: 8.2460 - val_accuracy: 0.0077\n",
      "Epoch 54/150\n",
      "38/38 - 9s - loss: 2.8116e-04 - accuracy: 0.9992 - val_loss: 8.2461 - val_accuracy: 0.0077\n",
      "Epoch 55/150\n",
      "38/38 - 9s - loss: 2.8092e-04 - accuracy: 0.9992 - val_loss: 8.2462 - val_accuracy: 0.0077\n",
      "Epoch 56/150\n",
      "38/38 - 11s - loss: 2.8068e-04 - accuracy: 0.9992 - val_loss: 8.2463 - val_accuracy: 0.0077\n",
      "Epoch 57/150\n",
      "38/38 - 11s - loss: 2.8046e-04 - accuracy: 0.9992 - val_loss: 8.2464 - val_accuracy: 0.0077\n",
      "Epoch 58/150\n",
      "38/38 - 11s - loss: 2.8025e-04 - accuracy: 0.9992 - val_loss: 8.2465 - val_accuracy: 0.0077\n",
      "Epoch 59/150\n",
      "38/38 - 9s - loss: 2.8007e-04 - accuracy: 0.9992 - val_loss: 8.2466 - val_accuracy: 0.0077\n",
      "Epoch 60/150\n",
      "38/38 - 8s - loss: 2.7989e-04 - accuracy: 0.9992 - val_loss: 8.2467 - val_accuracy: 0.0077\n",
      "Epoch 61/150\n",
      "38/38 - 8s - loss: 2.7975e-04 - accuracy: 0.9992 - val_loss: 8.2468 - val_accuracy: 0.0077\n",
      "Epoch 62/150\n",
      "38/38 - 8s - loss: 2.7956e-04 - accuracy: 0.9992 - val_loss: 8.2468 - val_accuracy: 0.0077\n",
      "Epoch 63/150\n",
      "38/38 - 8s - loss: 2.7941e-04 - accuracy: 0.9992 - val_loss: 8.2469 - val_accuracy: 0.0077\n",
      "Epoch 64/150\n",
      "38/38 - 9s - loss: 2.7927e-04 - accuracy: 0.9992 - val_loss: 8.2470 - val_accuracy: 0.0077\n",
      "Epoch 65/150\n",
      "38/38 - 8s - loss: 2.7912e-04 - accuracy: 0.9992 - val_loss: 8.2471 - val_accuracy: 0.0077\n",
      "Epoch 66/150\n",
      "38/38 - 9s - loss: 2.7900e-04 - accuracy: 0.9992 - val_loss: 8.2471 - val_accuracy: 0.0077\n",
      "Epoch 67/150\n",
      "38/38 - 8s - loss: 2.7887e-04 - accuracy: 0.9992 - val_loss: 8.2472 - val_accuracy: 0.0077\n",
      "Epoch 68/150\n",
      "38/38 - 8s - loss: 2.7875e-04 - accuracy: 0.9992 - val_loss: 8.2472 - val_accuracy: 0.0077\n",
      "Epoch 69/150\n",
      "38/38 - 8s - loss: 2.7864e-04 - accuracy: 0.9992 - val_loss: 8.2473 - val_accuracy: 0.0077\n",
      "Epoch 70/150\n",
      "38/38 - 8s - loss: 2.7852e-04 - accuracy: 0.9992 - val_loss: 8.2474 - val_accuracy: 0.0077\n",
      "Epoch 71/150\n",
      "38/38 - 8s - loss: 2.7841e-04 - accuracy: 0.9992 - val_loss: 8.2474 - val_accuracy: 0.0077\n",
      "Epoch 72/150\n",
      "38/38 - 8s - loss: 2.7830e-04 - accuracy: 0.9992 - val_loss: 8.2475 - val_accuracy: 0.0077\n",
      "Epoch 73/150\n",
      "38/38 - 8s - loss: 2.7820e-04 - accuracy: 0.9992 - val_loss: 8.2475 - val_accuracy: 0.0077\n",
      "Epoch 74/150\n",
      "38/38 - 8s - loss: 2.7809e-04 - accuracy: 0.9992 - val_loss: 8.2475 - val_accuracy: 0.0077\n",
      "Epoch 75/150\n",
      "38/38 - 8s - loss: 2.7796e-04 - accuracy: 0.9992 - val_loss: 8.2476 - val_accuracy: 0.0077\n",
      "Epoch 76/150\n",
      "38/38 - 8s - loss: 2.7784e-04 - accuracy: 0.9992 - val_loss: 8.2476 - val_accuracy: 0.0077\n",
      "Epoch 77/150\n",
      "38/38 - 8s - loss: 2.7771e-04 - accuracy: 0.9992 - val_loss: 8.2477 - val_accuracy: 0.0077\n",
      "Epoch 78/150\n",
      "38/38 - 8s - loss: 2.7754e-04 - accuracy: 0.9992 - val_loss: 8.2477 - val_accuracy: 0.0077\n",
      "Epoch 79/150\n",
      "38/38 - 8s - loss: 2.7735e-04 - accuracy: 0.9992 - val_loss: 8.2477 - val_accuracy: 0.0077\n",
      "Epoch 80/150\n"
     ]
    },
    {
     "name": "stdout",
     "output_type": "stream",
     "text": [
      "38/38 - 8s - loss: 2.7704e-04 - accuracy: 0.9992 - val_loss: 8.2477 - val_accuracy: 0.0077\n",
      "Epoch 81/150\n",
      "38/38 - 8s - loss: 2.7657e-04 - accuracy: 0.9992 - val_loss: 8.2477 - val_accuracy: 0.0077\n",
      "Epoch 82/150\n",
      "38/38 - 8s - loss: 2.7551e-04 - accuracy: 0.9992 - val_loss: 8.2476 - val_accuracy: 0.0077\n",
      "Epoch 83/150\n",
      "38/38 - 7s - loss: 2.7203e-04 - accuracy: 0.9992 - val_loss: 8.2473 - val_accuracy: 0.0077\n",
      "Epoch 84/150\n",
      "38/38 - 8s - loss: 2.3997e-04 - accuracy: 0.9992 - val_loss: 8.2440 - val_accuracy: 0.0077\n",
      "Epoch 85/150\n",
      "38/38 - 8s - loss: 7.2395e-04 - accuracy: 0.9983 - val_loss: 8.2401 - val_accuracy: 0.0135\n",
      "Epoch 86/150\n",
      "38/38 - 8s - loss: 0.0045 - accuracy: 0.9842 - val_loss: 8.2424 - val_accuracy: 0.0097\n",
      "Epoch 87/150\n",
      "38/38 - 7s - loss: 0.0053 - accuracy: 0.9809 - val_loss: 8.2423 - val_accuracy: 0.0000e+00\n",
      "Epoch 88/150\n",
      "38/38 - 8s - loss: 0.0036 - accuracy: 0.9867 - val_loss: 8.2381 - val_accuracy: 0.0000e+00\n",
      "Epoch 89/150\n",
      "38/38 - 8s - loss: 0.0023 - accuracy: 0.9934 - val_loss: 8.2452 - val_accuracy: 0.0000e+00\n",
      "Epoch 90/150\n",
      "38/38 - 8s - loss: 0.0022 - accuracy: 0.9925 - val_loss: 8.2432 - val_accuracy: 0.0000e+00\n",
      "Epoch 91/150\n",
      "38/38 - 8s - loss: 0.0013 - accuracy: 0.9942 - val_loss: 8.2413 - val_accuracy: 0.0097\n",
      "Epoch 92/150\n",
      "38/38 - 8s - loss: 0.0011 - accuracy: 0.9967 - val_loss: 8.2388 - val_accuracy: 0.0271\n",
      "Epoch 93/150\n",
      "38/38 - 8s - loss: 5.9057e-04 - accuracy: 0.9983 - val_loss: 8.2399 - val_accuracy: 0.0251\n",
      "Epoch 94/150\n",
      "38/38 - 8s - loss: 5.0703e-04 - accuracy: 0.9983 - val_loss: 8.2402 - val_accuracy: 0.0251\n",
      "Epoch 95/150\n",
      "38/38 - 8s - loss: 4.8821e-04 - accuracy: 0.9983 - val_loss: 8.2402 - val_accuracy: 0.0213\n",
      "Epoch 96/150\n",
      "38/38 - 9s - loss: 4.9787e-04 - accuracy: 0.9983 - val_loss: 8.2403 - val_accuracy: 0.0271\n",
      "Epoch 97/150\n",
      "38/38 - 8s - loss: 4.7976e-04 - accuracy: 0.9983 - val_loss: 8.2404 - val_accuracy: 0.0251\n",
      "Epoch 98/150\n",
      "38/38 - 8s - loss: 4.6413e-04 - accuracy: 0.9983 - val_loss: 8.2404 - val_accuracy: 0.0251\n",
      "Epoch 99/150\n",
      "38/38 - 8s - loss: 4.5868e-04 - accuracy: 0.9983 - val_loss: 8.2407 - val_accuracy: 0.0271\n",
      "Epoch 100/150\n",
      "38/38 - 8s - loss: 4.5548e-04 - accuracy: 0.9983 - val_loss: 8.2410 - val_accuracy: 0.0251\n",
      "Epoch 101/150\n",
      "38/38 - 8s - loss: 4.5408e-04 - accuracy: 0.9983 - val_loss: 8.2412 - val_accuracy: 0.0251\n",
      "Epoch 102/150\n",
      "38/38 - 8s - loss: 4.5235e-04 - accuracy: 0.9983 - val_loss: 8.2414 - val_accuracy: 0.0251\n",
      "Epoch 103/150\n",
      "38/38 - 8s - loss: 4.5208e-04 - accuracy: 0.9983 - val_loss: 8.2415 - val_accuracy: 0.0251\n",
      "Epoch 104/150\n",
      "38/38 - 8s - loss: 4.5112e-04 - accuracy: 0.9983 - val_loss: 8.2417 - val_accuracy: 0.0251\n",
      "Epoch 105/150\n",
      "38/38 - 8s - loss: 4.5350e-04 - accuracy: 0.9983 - val_loss: 8.2416 - val_accuracy: 0.0251\n",
      "Epoch 106/150\n",
      "38/38 - 8s - loss: 4.5039e-04 - accuracy: 0.9983 - val_loss: 8.2418 - val_accuracy: 0.0271\n",
      "Epoch 107/150\n",
      "38/38 - 8s - loss: 4.5350e-04 - accuracy: 0.9983 - val_loss: 8.2417 - val_accuracy: 0.0271\n",
      "Epoch 108/150\n",
      "38/38 - 8s - loss: 4.4710e-04 - accuracy: 0.9983 - val_loss: 8.2419 - val_accuracy: 0.0271\n",
      "Epoch 109/150\n",
      "38/38 - 8s - loss: 4.4767e-04 - accuracy: 0.9983 - val_loss: 8.2420 - val_accuracy: 0.0271\n",
      "Epoch 110/150\n",
      "38/38 - 8s - loss: 4.4509e-04 - accuracy: 0.9983 - val_loss: 8.2421 - val_accuracy: 0.0271\n",
      "Epoch 111/150\n",
      "38/38 - 8s - loss: 4.4829e-04 - accuracy: 0.9983 - val_loss: 8.2422 - val_accuracy: 0.0290\n",
      "Epoch 112/150\n",
      "38/38 - 8s - loss: 4.5392e-04 - accuracy: 0.9983 - val_loss: 8.2421 - val_accuracy: 0.0290\n",
      "Epoch 113/150\n",
      "38/38 - 8s - loss: 4.4733e-04 - accuracy: 0.9983 - val_loss: 8.2421 - val_accuracy: 0.0309\n",
      "Epoch 114/150\n",
      "38/38 - 8s - loss: 4.4449e-04 - accuracy: 0.9983 - val_loss: 8.2423 - val_accuracy: 0.0309\n",
      "Epoch 115/150\n",
      "38/38 - 8s - loss: 4.4578e-04 - accuracy: 0.9983 - val_loss: 8.2423 - val_accuracy: 0.0271\n",
      "Epoch 116/150\n",
      "38/38 - 8s - loss: 4.4880e-04 - accuracy: 0.9983 - val_loss: 8.2422 - val_accuracy: 0.0290\n",
      "Epoch 117/150\n",
      "38/38 - 8s - loss: 4.4740e-04 - accuracy: 0.9983 - val_loss: 8.2423 - val_accuracy: 0.0290\n",
      "Epoch 118/150\n",
      "38/38 - 8s - loss: 4.4153e-04 - accuracy: 0.9983 - val_loss: 8.2425 - val_accuracy: 0.0251\n",
      "Epoch 119/150\n",
      "38/38 - 8s - loss: 4.4051e-04 - accuracy: 0.9983 - val_loss: 8.2426 - val_accuracy: 0.0271\n",
      "Epoch 120/150\n",
      "38/38 - 8s - loss: 4.3855e-04 - accuracy: 0.9983 - val_loss: 8.2428 - val_accuracy: 0.0251\n",
      "Epoch 121/150\n",
      "38/38 - 8s - loss: 4.3324e-04 - accuracy: 0.9983 - val_loss: 8.2431 - val_accuracy: 0.0309\n",
      "Epoch 122/150\n",
      "38/38 - 8s - loss: 3.6279e-04 - accuracy: 0.9992 - val_loss: 8.2458 - val_accuracy: 0.0309\n",
      "Epoch 123/150\n",
      "38/38 - 8s - loss: 3.0042e-04 - accuracy: 0.9992 - val_loss: 8.2431 - val_accuracy: 0.0290\n",
      "Epoch 124/150\n",
      "38/38 - 8s - loss: 2.8108e-04 - accuracy: 0.9992 - val_loss: 8.2431 - val_accuracy: 0.0232\n",
      "Epoch 125/150\n",
      "38/38 - 8s - loss: 2.7846e-04 - accuracy: 0.9992 - val_loss: 8.2431 - val_accuracy: 0.0213\n",
      "Epoch 126/150\n",
      "38/38 - 8s - loss: 2.7821e-04 - accuracy: 0.9992 - val_loss: 8.2431 - val_accuracy: 0.0213\n",
      "Epoch 127/150\n",
      "38/38 - 8s - loss: 2.7801e-04 - accuracy: 0.9992 - val_loss: 8.2432 - val_accuracy: 0.0193\n",
      "Epoch 128/150\n",
      "38/38 - 8s - loss: 2.7786e-04 - accuracy: 0.9992 - val_loss: 8.2432 - val_accuracy: 0.0193\n",
      "Epoch 129/150\n",
      "38/38 - 8s - loss: 2.7775e-04 - accuracy: 0.9992 - val_loss: 8.2433 - val_accuracy: 0.0193\n",
      "Epoch 130/150\n",
      "38/38 - 8s - loss: 2.7765e-04 - accuracy: 0.9992 - val_loss: 8.2433 - val_accuracy: 0.0193\n",
      "Epoch 131/150\n",
      "38/38 - 8s - loss: 2.7756e-04 - accuracy: 0.9992 - val_loss: 8.2434 - val_accuracy: 0.0193\n",
      "Epoch 132/150\n",
      "38/38 - 8s - loss: 2.7749e-04 - accuracy: 0.9992 - val_loss: 8.2434 - val_accuracy: 0.0193\n",
      "Epoch 133/150\n",
      "38/38 - 8s - loss: 2.7742e-04 - accuracy: 0.9992 - val_loss: 8.2434 - val_accuracy: 0.0193\n",
      "Epoch 134/150\n",
      "38/38 - 7s - loss: 2.7736e-04 - accuracy: 0.9992 - val_loss: 8.2435 - val_accuracy: 0.0193\n",
      "Epoch 135/150\n",
      "38/38 - 8s - loss: 2.7731e-04 - accuracy: 0.9992 - val_loss: 8.2435 - val_accuracy: 0.0193\n",
      "Epoch 136/150\n",
      "38/38 - 8s - loss: 2.7726e-04 - accuracy: 0.9992 - val_loss: 8.2436 - val_accuracy: 0.0193\n",
      "Epoch 137/150\n",
      "38/38 - 9s - loss: 2.7721e-04 - accuracy: 0.9992 - val_loss: 8.2436 - val_accuracy: 0.0193\n",
      "Epoch 138/150\n",
      "38/38 - 9s - loss: 2.7718e-04 - accuracy: 0.9992 - val_loss: 8.2436 - val_accuracy: 0.0193\n",
      "Epoch 139/150\n",
      "38/38 - 8s - loss: 2.7714e-04 - accuracy: 0.9992 - val_loss: 8.2437 - val_accuracy: 0.0193\n",
      "Epoch 140/150\n",
      "38/38 - 8s - loss: 2.7710e-04 - accuracy: 0.9992 - val_loss: 8.2437 - val_accuracy: 0.0193\n",
      "Epoch 141/150\n",
      "38/38 - 8s - loss: 2.7707e-04 - accuracy: 0.9992 - val_loss: 8.2437 - val_accuracy: 0.0193\n",
      "Epoch 142/150\n",
      "38/38 - 9s - loss: 2.7704e-04 - accuracy: 0.9992 - val_loss: 8.2438 - val_accuracy: 0.0193\n",
      "Epoch 143/150\n",
      "38/38 - 8s - loss: 2.7701e-04 - accuracy: 0.9992 - val_loss: 8.2438 - val_accuracy: 0.0193\n",
      "Epoch 144/150\n",
      "38/38 - 8s - loss: 2.7698e-04 - accuracy: 0.9992 - val_loss: 8.2438 - val_accuracy: 0.0193\n",
      "Epoch 145/150\n",
      "38/38 - 9s - loss: 2.7696e-04 - accuracy: 0.9992 - val_loss: 8.2439 - val_accuracy: 0.0193\n",
      "Epoch 146/150\n",
      "38/38 - 8s - loss: 2.7694e-04 - accuracy: 0.9992 - val_loss: 8.2439 - val_accuracy: 0.0174\n",
      "Epoch 147/150\n",
      "38/38 - 9s - loss: 2.7691e-04 - accuracy: 0.9992 - val_loss: 8.2439 - val_accuracy: 0.0174\n",
      "Epoch 148/150\n",
      "38/38 - 9s - loss: 2.7689e-04 - accuracy: 0.9992 - val_loss: 8.2440 - val_accuracy: 0.0174\n",
      "Epoch 149/150\n",
      "38/38 - 8s - loss: 2.7687e-04 - accuracy: 0.9992 - val_loss: 8.2440 - val_accuracy: 0.0174\n",
      "Epoch 150/150\n",
      "38/38 - 8s - loss: 2.7686e-04 - accuracy: 0.9992 - val_loss: 8.2440 - val_accuracy: 0.0174\n"
     ]
    }
   ],
   "source": [
    "model.compile(loss='mse', optimizer='adam', metrics=['accuracy'])\n",
    "\n",
    "history = model.fit(\n",
    "    pd.DataFrame(X_train),\n",
    "    df_one_hot_encoder,\n",
    "    batch_size=32,\n",
    "    epochs = 150,\n",
    "    validation_data=(pd.DataFrame(X_test), df_cat_teste['index']), \n",
    "    #callbacks=[tf.keras.callbacks.EarlyStopping(monitor='val_loss', patience=5, min_delta=0.0001)],\n",
    "    #validation_split=0.1,\n",
    "    verbose = 2\n",
    ")"
   ]
  },
  {
   "cell_type": "markdown",
   "metadata": {},
   "source": [
    "## Resultado do Treinamento:"
   ]
  },
  {
   "cell_type": "markdown",
   "metadata": {},
   "source": [
    "Resultado apurado após o treinamento do modelo."
   ]
  },
  {
   "cell_type": "code",
   "execution_count": 224,
   "metadata": {},
   "outputs": [
    {
     "name": "stdout",
     "output_type": "stream",
     "text": [
      "17/17 [==============================] - 1s 52ms/step - loss: 8.2440 - accuracy: 0.0174\n",
      "[8.244032859802246, 0.01740812323987484]\n",
      "Test set\n",
      "  Loss: 8.244\n",
      "  Accuracy: 0.017\n"
     ]
    }
   ],
   "source": [
    "accr = model.evaluate(pd.DataFrame(X_test), df_cat_teste['index'])\n",
    "print(accr)\n",
    "print('Test set\\n  Loss: {:0.3f}\\n  Accuracy: {:0.3f}'.format(accr[0],accr[1]))"
   ]
  },
  {
   "cell_type": "code",
   "execution_count": 225,
   "metadata": {},
   "outputs": [
    {
     "data": {
      "image/png": "[encoded data removed]",
      "text/plain": [
       "<Figure size 432x288 with 1 Axes>"
      ]
     },
     "metadata": {
      "needs_background": "light"
     },
     "output_type": "display_data"
    },
    {
     "data": {
      "image/png": "[encoded data removed]",
      "text/plain": [
       "<Figure size 432x288 with 1 Axes>"
      ]
     },
     "metadata": {
      "needs_background": "light"
     },
     "output_type": "display_data"
    }
   ],
   "source": [
    "import matplotlib.pyplot as plt\n",
    "\n",
    "def plot_graphs(history, string):\n",
    "  plt.plot(history.history[string])\n",
    "  plt.plot(history.history['val_'+string])\n",
    "  plt.xlabel(\"Epochs\")\n",
    "  plt.ylabel(string)\n",
    "  plt.legend([string, 'val_'+string])\n",
    "  plt.show()\n",
    "  \n",
    "plot_graphs(history, \"accuracy\")\n",
    "plot_graphs(history, \"loss\")"
   ]
  },
  {
   "cell_type": "markdown",
   "metadata": {},
   "source": [
    "## Classificação da Massa de Teste:"
   ]
  },
  {
   "cell_type": "markdown",
   "metadata": {},
   "source": [
    "Será realizado teste com a massa de dados separada para esse fim. Os resultados serão avaliados mais abaixo."
   ]
  },
  {
   "cell_type": "code",
   "execution_count": 226,
   "metadata": {},
   "outputs": [
    {
     "data": {
      "text/plain": [
       "517"
      ]
     },
     "execution_count": 226,
     "metadata": {},
     "output_type": "execute_result"
    }
   ],
   "source": [
    "result = model.predict(pd.DataFrame(X_test))\n",
    "classificacao_massa_teste = []\n",
    "for pred in result:\n",
    "    classificacao_massa_teste.append(categorys[np.argmax(pred)])\n",
    "len(classificacao_massa_teste)"
   ]
  },
  {
   "cell_type": "markdown",
   "metadata": {},
   "source": [
    "## Teste com Notícias Fictícias:"
   ]
  },
  {
   "cell_type": "markdown",
   "metadata": {},
   "source": [
    "Teste com algumas notícias fictícias cujo contexto seja bastante claro."
   ]
  },
  {
   "cell_type": "code",
   "execution_count": 227,
   "metadata": {},
   "outputs": [],
   "source": [
    "def higienizar_texto (texto):\n",
    "  import re\n",
    "  texto = re.sub('[^A-Za-z\\-\\s]', '', texto)\n",
    "  texto = re.sub('(\\-..es)|(\\-..e)|(\\-.e)|(\\-.os)|(\\-ei)', '', texto)\n",
    "  texto = re.sub('\\-+', '', texto)\n",
    "  return texto.lower()"
   ]
  },
  {
   "cell_type": "code",
   "execution_count": 228,
   "metadata": {},
   "outputs": [
    {
     "name": "stderr",
     "output_type": "stream",
     "text": [
      "[nltk_data] Downloading package rslp to /Users/edprata/nltk_data...\n",
      "[nltk_data]   Package rslp is already up-to-date!\n"
     ]
    }
   ],
   "source": [
    "import nltk\n",
    "nltk.download('rslp')\n",
    "\n",
    "from nltk.stem import RSLPStemmer\n",
    "stemmer_ptbr = RSLPStemmer()\n",
    "\n",
    "def apply_stem (text):\n",
    "    return [stemmer_ptbr.stem(word) for word in text]"
   ]
  },
  {
   "cell_type": "code",
   "execution_count": 229,
   "metadata": {},
   "outputs": [],
   "source": [
    "def classificar_noticia(model, nova_noticia):\n",
    "    higi = higienizar_texto(nova_noticia)\n",
    "    stemmed = apply_stem(higi.split())\n",
    "    vectorized = tokenizer.texts_to_sequences([stemmed])\n",
    "    padded = pad_sequences(vectorized, padding='post', truncating='post', maxlen=250)\n",
    "    predic = model.predict(padded)\n",
    "    return predic, categorys[np.argmax(predic)]"
   ]
  },
  {
   "cell_type": "code",
   "execution_count": 230,
   "metadata": {},
   "outputs": [
    {
     "name": "stdout",
     "output_type": "stream",
     "text": [
      "(array([[0.12598488, 0.08178825, 0.38132453, 0.03829517, 0.35120267,\n",
      "        0.0214045 ]], dtype=float32), 'educacao')\n",
      "(array([[0.02817476, 0.03687306, 0.8903814 , 0.02370007, 0.01247162,\n",
      "        0.00839913]], dtype=float32), 'educacao')\n",
      "(array([[0.01316405, 0.26657537, 0.66059524, 0.04668476, 0.00898204,\n",
      "        0.00399859]], dtype=float32), 'educacao')\n",
      "(array([[5.5195154e-03, 2.8310979e-03, 8.7170862e-04, 4.7061265e-05,\n",
      "        9.9071127e-01, 1.9388721e-05]], dtype=float32), 'pop-arte')\n",
      "(array([[0.25213957, 0.00151601, 0.00904335, 0.00301815, 0.69373953,\n",
      "        0.04054344]], dtype=float32), 'pop-arte')\n"
     ]
    }
   ],
   "source": [
    "array_noticias = [\n",
    "    'Exemplo de notícia inventada onde uma ação do governo causou instabilidade na bolsa e aumentou o dolar e o preço das mercadorias.',\n",
    "    'Notícia em que as escolas foram fechadas, professores ficaram parados, meses sem aulas impactando nas vidas das familias, o ministério da educação nada faz.',\n",
    "    'Os prefeitos não trataram adequadamente a crise e a população sofre as consequencias desse problema, os vereadores nada fazem, políticos não prestam',\n",
    "    'Em Minas Gerais acontece grande show com presença de famosos mesmo em plena pandemia para divertir a multidão',\n",
    "    'Um surto de gripe castiga a população do Rio Grande do Norte e os prefeitos buscam por alternativas'\n",
    "]\n",
    "\n",
    "for noticia in array_noticias:\n",
    "    print(classificar_noticia(model, noticia))"
   ]
  },
  {
   "cell_type": "code",
   "execution_count": 231,
   "metadata": {},
   "outputs": [
    {
     "data": {
      "text/plain": [
       "array(['diversos', 'economia', 'educacao', 'politica', 'pop-arte',\n",
       "       'saude'], dtype=object)"
      ]
     },
     "execution_count": 231,
     "metadata": {},
     "output_type": "execute_result"
    }
   ],
   "source": [
    "categorys"
   ]
  },
  {
   "cell_type": "markdown",
   "metadata": {},
   "source": [
    "## Classificação da Base Desconhecida:"
   ]
  },
  {
   "cell_type": "markdown",
   "metadata": {},
   "source": [
    "Classificação da massa de dados cuja categoria não conhecemos a partir do modelo treinado."
   ]
  },
  {
   "cell_type": "code",
   "execution_count": 232,
   "metadata": {},
   "outputs": [
    {
     "data": {
      "text/plain": [
       "array(['diversos', 'economia', 'educacao', 'politica', 'pop-arte',\n",
       "       'saude'], dtype='<U8')"
      ]
     },
     "execution_count": 232,
     "metadata": {},
     "output_type": "execute_result"
    }
   ],
   "source": [
    "# Classificação:\n",
    "classification = model.predict(X_unknow)\n",
    "\n",
    "# Transformando índices em categorias legíveis:\n",
    "result = []\n",
    "for line in classification:\n",
    "    result.append(categorys[np.argmax(line)])\n",
    "\n",
    "classificacao_massa_desconhecida = result\n",
    "np.unique(classificacao_massa_desconhecida)"
   ]
  },
  {
   "cell_type": "markdown",
   "metadata": {},
   "source": [
    "## Análise dos Resultados: Distribuição por Categoria:"
   ]
  },
  {
   "cell_type": "markdown",
   "metadata": {},
   "source": [
    "Elabora gráficos para comparar a distribuição dos dados na massa de treino, de teste, e de classificação (cuja categoria é desconhecida)."
   ]
  },
  {
   "cell_type": "code",
   "execution_count": 233,
   "metadata": {},
   "outputs": [
    {
     "name": "stdout",
     "output_type": "stream",
     "text": [
      "(6, 2) (6, 2) (6, 2)\n"
     ]
    }
   ],
   "source": [
    "# Calculando a distribuição:\n",
    "\n",
    "from collections import Counter, OrderedDict\n",
    "\n",
    "counter = sorted(Counter(df_cat_treino['categoria']).items(), key=lambda i: i[0])\n",
    "dist_treino = pd.DataFrame(counter, columns=['cat', 'qtd'])\n",
    "\n",
    "counter = sorted(Counter(df_cat_teste['categoria']).items(), key=lambda i: i[0])\n",
    "dist_teste = pd.DataFrame(counter, columns=['cat', 'qtd'])\n",
    "\n",
    "counter = sorted(Counter(classificacao_massa_teste).items(), key=lambda i: i[0])\n",
    "dist_teste_ = pd.DataFrame(counter, columns=['cat', 'qtd'])\n",
    "\n",
    "counter = sorted(Counter(classificacao_massa_desconhecida).items(), key=lambda i: i[0])\n",
    "dist_classificacao = pd.DataFrame(counter, columns=['cat', 'qtd'])\n",
    "\n",
    "print(dist_teste.shape, dist_teste_.shape, dist_classificacao.shape)"
   ]
  },
  {
   "cell_type": "code",
   "execution_count": 234,
   "metadata": {},
   "outputs": [
    {
     "name": "stderr",
     "output_type": "stream",
     "text": [
      "/Users/edprata/anaconda3/lib/python3.7/site-packages/ipykernel_launcher.py:9: MatplotlibDeprecationWarning: Non-1D inputs to pie() are currently squeeze()d, but this behavior is deprecated since 3.1 and will be removed in 3.3; pass a 1D array instead.\n",
      "  if __name__ == '__main__':\n"
     ]
    },
    {
     "data": {
      "image/png": "[encoded data removed]",
      "text/plain": [
       "<Figure size 360x360 with 1 Axes>"
      ]
     },
     "metadata": {},
     "output_type": "display_data"
    },
    {
     "data": {
      "image/png": "[encoded data removed]",
      "text/plain": [
       "<Figure size 360x360 with 1 Axes>"
      ]
     },
     "metadata": {},
     "output_type": "display_data"
    },
    {
     "data": {
      "image/png": "[encoded data removed]",
      "text/plain": [
       "<Figure size 360x360 with 1 Axes>"
      ]
     },
     "metadata": {},
     "output_type": "display_data"
    },
    {
     "data": {
      "image/png": "[encoded data removed]",
      "text/plain": [
       "<Figure size 360x360 with 1 Axes>"
      ]
     },
     "metadata": {},
     "output_type": "display_data"
    }
   ],
   "source": [
    "import matplotlib.pyplot as plt\n",
    "\n",
    "def func(pct, allvals):\n",
    "    absolute = int(pct/100.*np.sum(allvals))\n",
    "    return \"{:.1f}% ({:d})\".format(pct, absolute)\n",
    "\n",
    "def pie(title, legend, data, label):\n",
    "  fig, ax = plt.subplots(figsize=(5, 5), subplot_kw=dict(aspect=\"equal\"))\n",
    "  wedges, texts, autotexts = ax.pie(data, autopct=lambda pct: func(pct, data), textprops=dict(color=\"w\"))\n",
    "  ax.legend(wedges, label, title=legend, loc=\"center left\", bbox_to_anchor=(1, 0, 0.5, 1))\n",
    "  plt.setp(autotexts, size=8, weight=\"bold\")\n",
    "  ax.set_title(title)\n",
    "  plt.show()\n",
    "\n",
    "pie(\"Treino: Classificação Real\", \"Categorias\", dist_treino[['qtd']], dist_teste['cat'])\n",
    "pie(\"Teste: Classificação Real\", \"Categorias\", dist_teste[['qtd']], dist_teste['cat'])\n",
    "pie(\"Teste: Classificação da Rede\", \"Categorias\", dist_teste_[['qtd']], dist_teste_['cat'])\n",
    "pie(\"Classificação Final\", \"Categorias\", dist_classificacao[['qtd']], dist_classificacao['cat'])"
   ]
  },
  {
   "cell_type": "code",
   "execution_count": null,
   "metadata": {},
   "outputs": [],
   "source": []
  },
  {
   "cell_type": "code",
   "execution_count": null,
   "metadata": {},
   "outputs": [],
   "source": []
  },
  {
   "cell_type": "code",
   "execution_count": null,
   "metadata": {},
   "outputs": [],
   "source": []
  }
 ],
 "metadata": {
  "kernelspec": {
   "display_name": "Python 3",
   "language": "python",
   "name": "python3"
  },
  "language_info": {
   "codemirror_mode": {
    "name": "ipython",
    "version": 3
   },
   "file_extension": ".py",
   "mimetype": "text/x-python",
   "name": "python",
   "nbconvert_exporter": "python",
   "pygments_lexer": "ipython3",
   "version": "3.7.4"
  }
 },
 "nbformat": 4,
 "nbformat_minor": 2
}
