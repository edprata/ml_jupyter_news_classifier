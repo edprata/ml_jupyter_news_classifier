{
 "cells": [
  {
   "cell_type": "markdown",
   "metadata": {},
   "source": [
    "# Notícias G1 - 6. Carga no Elastic Search"
   ]
  },
  {
   "cell_type": "markdown",
   "metadata": {},
   "source": [
    "Será feita a carga dos dados extraídos a partir do portal do G1 em uma base de dados local com Elastic Search que é um banco no SQL e não relacional."
   ]
  },
  {
   "cell_type": "markdown",
   "metadata": {},
   "source": [
    "## Imports:"
   ]
  },
  {
   "cell_type": "markdown",
   "metadata": {},
   "source": [
    "Importes de bibliotecas usadas com frequência no código."
   ]
  },
  {
   "cell_type": "code",
   "execution_count": 1,
   "metadata": {},
   "outputs": [],
   "source": [
    "import pandas as pd\n",
    "import numpy as np"
   ]
  },
  {
   "cell_type": "markdown",
   "metadata": {},
   "source": [
    "## Recuperando Dados Gravados no Arquivo:"
   ]
  },
  {
   "cell_type": "markdown",
   "metadata": {},
   "source": [
    "Recuperando dados gravados após todos os tratamentos e higienizações necessárias."
   ]
  },
  {
   "cell_type": "code",
   "execution_count": 2,
   "metadata": {},
   "outputs": [
    {
     "data": {
      "text/html": [
       "<div>\n",
       "<style scoped>\n",
       "    .dataframe tbody tr th:only-of-type {\n",
       "        vertical-align: middle;\n",
       "    }\n",
       "\n",
       "    .dataframe tbody tr th {\n",
       "        vertical-align: top;\n",
       "    }\n",
       "\n",
       "    .dataframe thead th {\n",
       "        text-align: right;\n",
       "    }\n",
       "</style>\n",
       "<table border=\"1\" class=\"dataframe\">\n",
       "  <thead>\n",
       "    <tr style=\"text-align: right;\">\n",
       "      <th></th>\n",
       "      <th>titulo</th>\n",
       "      <th>url</th>\n",
       "      <th>texto</th>\n",
       "      <th>categoria</th>\n",
       "      <th>dado_tratado</th>\n",
       "    </tr>\n",
       "  </thead>\n",
       "  <tbody>\n",
       "    <tr>\n",
       "      <td>0</td>\n",
       "      <td>Entenda como uma ampla coalizão tirou Netanyah...</td>\n",
       "      <td>https://g1.globo.com/mundo/noticia/2021/06/13/...</td>\n",
       "      <td>O Parlamento de Israel confirmou neste doming...</td>\n",
       "      <td>FALTANDO</td>\n",
       "      <td>['entend', 'ampl', 'coaliz', 'tir', 'netanyahu...</td>\n",
       "    </tr>\n",
       "    <tr>\n",
       "      <td>1</td>\n",
       "      <td>Milionário de direita: quem é Naftali Bennett,...</td>\n",
       "      <td>https://g1.globo.com/mundo/noticia/2021/06/13/...</td>\n",
       "      <td>Milionário do setor de tecnologia, Naftali Be...</td>\n",
       "      <td>FALTANDO</td>\n",
       "      <td>['milionri', 'direit', 'naftal', 'bennett', 'n...</td>\n",
       "    </tr>\n",
       "    <tr>\n",
       "      <td>2</td>\n",
       "      <td>Governo de SP antecipa datas de vacinação; vej...</td>\n",
       "      <td>https://g1.globo.com/sp/sao-paulo/noticia/2021...</td>\n",
       "      <td>O governo de São Paulo antecipou em 30 dias o...</td>\n",
       "      <td>FALTANDO</td>\n",
       "      <td>['govern', 'sp', 'antecip', 'dat', 'vacina', '...</td>\n",
       "    </tr>\n",
       "    <tr>\n",
       "      <td>3</td>\n",
       "      <td>PMs que mataram homens dentro de carro em SP s...</td>\n",
       "      <td>https://g1.globo.com/sp/sao-paulo/noticia/2021...</td>\n",
       "      <td>A Polícia Militar instaurou um inquérito poli...</td>\n",
       "      <td>FALTANDO</td>\n",
       "      <td>['pm', 'mat', 'hom', 'dentr', 'carr', 'sp', 's...</td>\n",
       "    </tr>\n",
       "    <tr>\n",
       "      <td>4</td>\n",
       "      <td>Após Venezuela e Bolívia, Colômbia confirma 2 ...</td>\n",
       "      <td>https://ge.globo.com/futebol/copa-america/noti...</td>\n",
       "      <td>A Federação Colombiana de Futebol informou ne...</td>\n",
       "      <td>esportes</td>\n",
       "      <td>['ap', 'venezuel', 'bolv', 'colmb', 'confirm',...</td>\n",
       "    </tr>\n",
       "    <tr>\n",
       "      <td>...</td>\n",
       "      <td>...</td>\n",
       "      <td>...</td>\n",
       "      <td>...</td>\n",
       "      <td>...</td>\n",
       "      <td>...</td>\n",
       "    </tr>\n",
       "    <tr>\n",
       "      <td>1907</td>\n",
       "      <td>Segundo suspeito de agredir cabo da PM em bloc...</td>\n",
       "      <td>https://g1.globo.com/rj/regiao-dos-lagos/notic...</td>\n",
       "      <td>O segundo suspeito de espancar um policial mi...</td>\n",
       "      <td>FALTANDO</td>\n",
       "      <td>['segund', 'suspeit', 'agred', 'cab', 'pm', 'b...</td>\n",
       "    </tr>\n",
       "    <tr>\n",
       "      <td>1908</td>\n",
       "      <td>O perigo de definirmos nossa identidade pelo t...</td>\n",
       "      <td>https://g1.globo.com/economia/concursos-e-empr...</td>\n",
       "      <td>O sobrenome mais popular na Alemanha e na Suí...</td>\n",
       "      <td>economia</td>\n",
       "      <td>['perig', 'defin', 'ident', 'trabalh', 'sobren...</td>\n",
       "    </tr>\n",
       "    <tr>\n",
       "      <td>1909</td>\n",
       "      <td>Jogador Arboleda, do São Paulo, diz ter 'noção...</td>\n",
       "      <td>https://g1.globo.com/sp/sao-paulo/noticia/2021...</td>\n",
       "      <td>O zagueiro equatoriano Arboleda, do São Paulo...</td>\n",
       "      <td>FALTANDO</td>\n",
       "      <td>['jog', 'arboled', 'so', 'paul', 'diz', 'ter',...</td>\n",
       "    </tr>\n",
       "    <tr>\n",
       "      <td>1910</td>\n",
       "      <td>Gilberto Gil lança álbum ao vivo em que faz fe...</td>\n",
       "      <td>https://g1.globo.com/pop-arte/musica/blog/maur...</td>\n",
       "      <td>♪ Sem alarde e somente com um ou outro aviso ...</td>\n",
       "      <td>pop-arte</td>\n",
       "      <td>['gilbert', 'gil', 'lan', 'lbum', 'viv', 'faz'...</td>\n",
       "    </tr>\n",
       "    <tr>\n",
       "      <td>1911</td>\n",
       "      <td>Vereadora relata arma apontada para cabeça em ...</td>\n",
       "      <td>https://g1.globo.com/rj/rio-de-janeiro/noticia...</td>\n",
       "      <td>A vereadora carioca Tainá de Paula (PT) relat...</td>\n",
       "      <td>FALTANDO</td>\n",
       "      <td>['vere', 'relat', 'arm', 'apont', 'cabe', 'abo...</td>\n",
       "    </tr>\n",
       "  </tbody>\n",
       "</table>\n",
       "<p>1912 rows × 5 columns</p>\n",
       "</div>"
      ],
      "text/plain": [
       "                                                 titulo  \\\n",
       "0     Entenda como uma ampla coalizão tirou Netanyah...   \n",
       "1     Milionário de direita: quem é Naftali Bennett,...   \n",
       "2     Governo de SP antecipa datas de vacinação; vej...   \n",
       "3     PMs que mataram homens dentro de carro em SP s...   \n",
       "4     Após Venezuela e Bolívia, Colômbia confirma 2 ...   \n",
       "...                                                 ...   \n",
       "1907  Segundo suspeito de agredir cabo da PM em bloc...   \n",
       "1908  O perigo de definirmos nossa identidade pelo t...   \n",
       "1909  Jogador Arboleda, do São Paulo, diz ter 'noção...   \n",
       "1910  Gilberto Gil lança álbum ao vivo em que faz fe...   \n",
       "1911  Vereadora relata arma apontada para cabeça em ...   \n",
       "\n",
       "                                                    url  \\\n",
       "0     https://g1.globo.com/mundo/noticia/2021/06/13/...   \n",
       "1     https://g1.globo.com/mundo/noticia/2021/06/13/...   \n",
       "2     https://g1.globo.com/sp/sao-paulo/noticia/2021...   \n",
       "3     https://g1.globo.com/sp/sao-paulo/noticia/2021...   \n",
       "4     https://ge.globo.com/futebol/copa-america/noti...   \n",
       "...                                                 ...   \n",
       "1907  https://g1.globo.com/rj/regiao-dos-lagos/notic...   \n",
       "1908  https://g1.globo.com/economia/concursos-e-empr...   \n",
       "1909  https://g1.globo.com/sp/sao-paulo/noticia/2021...   \n",
       "1910  https://g1.globo.com/pop-arte/musica/blog/maur...   \n",
       "1911  https://g1.globo.com/rj/rio-de-janeiro/noticia...   \n",
       "\n",
       "                                                  texto categoria  \\\n",
       "0      O Parlamento de Israel confirmou neste doming...  FALTANDO   \n",
       "1      Milionário do setor de tecnologia, Naftali Be...  FALTANDO   \n",
       "2      O governo de São Paulo antecipou em 30 dias o...  FALTANDO   \n",
       "3      A Polícia Militar instaurou um inquérito poli...  FALTANDO   \n",
       "4      A Federação Colombiana de Futebol informou ne...  esportes   \n",
       "...                                                 ...       ...   \n",
       "1907   O segundo suspeito de espancar um policial mi...  FALTANDO   \n",
       "1908   O sobrenome mais popular na Alemanha e na Suí...  economia   \n",
       "1909   O zagueiro equatoriano Arboleda, do São Paulo...  FALTANDO   \n",
       "1910   ♪ Sem alarde e somente com um ou outro aviso ...  pop-arte   \n",
       "1911   A vereadora carioca Tainá de Paula (PT) relat...  FALTANDO   \n",
       "\n",
       "                                           dado_tratado  \n",
       "0     ['entend', 'ampl', 'coaliz', 'tir', 'netanyahu...  \n",
       "1     ['milionri', 'direit', 'naftal', 'bennett', 'n...  \n",
       "2     ['govern', 'sp', 'antecip', 'dat', 'vacina', '...  \n",
       "3     ['pm', 'mat', 'hom', 'dentr', 'carr', 'sp', 's...  \n",
       "4     ['ap', 'venezuel', 'bolv', 'colmb', 'confirm',...  \n",
       "...                                                 ...  \n",
       "1907  ['segund', 'suspeit', 'agred', 'cab', 'pm', 'b...  \n",
       "1908  ['perig', 'defin', 'ident', 'trabalh', 'sobren...  \n",
       "1909  ['jog', 'arboled', 'so', 'paul', 'diz', 'ter',...  \n",
       "1910  ['gilbert', 'gil', 'lan', 'lbum', 'viv', 'faz'...  \n",
       "1911  ['vere', 'relat', 'arm', 'apont', 'cabe', 'abo...  \n",
       "\n",
       "[1912 rows x 5 columns]"
      ]
     },
     "execution_count": 2,
     "metadata": {},
     "output_type": "execute_result"
    }
   ],
   "source": [
    "noticias = pd.read_csv('noticias_g1_higienizadas.csv')\n",
    "noticias"
   ]
  },
  {
   "cell_type": "markdown",
   "metadata": {},
   "source": [
    "## Conectando com o Elastic Search:"
   ]
  },
  {
   "cell_type": "markdown",
   "metadata": {},
   "source": [
    "Estabelecendo a conexão para realizar as operações no banco de dados."
   ]
  },
  {
   "cell_type": "code",
   "execution_count": 4,
   "metadata": {},
   "outputs": [
    {
     "name": "stdout",
     "output_type": "stream",
     "text": [
      "Requirement already satisfied: elasticsearch in /Users/edprata/anaconda3/lib/python3.7/site-packages (7.10.0)\r\n",
      "Requirement already satisfied: urllib3<2,>=1.21.1 in /Users/edprata/anaconda3/lib/python3.7/site-packages (from elasticsearch) (1.24.2)\r\n",
      "Requirement already satisfied: certifi in /Users/edprata/anaconda3/lib/python3.7/site-packages (from elasticsearch) (2019.9.11)\r\n"
     ]
    },
    {
     "data": {
      "text/plain": [
       "{'name': 'elastic_node01',\n",
       " 'cluster_name': 'docker-cluster',\n",
       " 'cluster_uuid': 'euW7vXsqSruqSHXTKey9IQ',\n",
       " 'version': {'number': '7.9.2',\n",
       "  'build_flavor': 'default',\n",
       "  'build_type': 'docker',\n",
       "  'build_hash': 'd34da0ea4a966c4e49417f2da2f244e3e97b4e6e',\n",
       "  'build_date': '2020-09-23T00:45:33.626720Z',\n",
       "  'build_snapshot': False,\n",
       "  'lucene_version': '8.6.2',\n",
       "  'minimum_wire_compatibility_version': '6.8.0',\n",
       "  'minimum_index_compatibility_version': '6.0.0-beta1'},\n",
       " 'tagline': 'You Know, for Search'}"
      ]
     },
     "execution_count": 4,
     "metadata": {},
     "output_type": "execute_result"
    }
   ],
   "source": [
    "!pip install elasticsearch\n",
    "import elasticsearch\n",
    "client = elasticsearch.Elasticsearch('localhost:9200')\n",
    "client.info()"
   ]
  },
  {
   "cell_type": "markdown",
   "metadata": {},
   "source": [
    "## Criando Índice no ELS:"
   ]
  },
  {
   "cell_type": "markdown",
   "metadata": {},
   "source": [
    "Serão criados os índices no Elastic Search para que os dados sejam gravados. Isso poderia ser feito por inferência da base com relação aos tipos de dados, mas obtemos melhor desempenho fazendo os índices da forma mais adequada."
   ]
  },
  {
   "cell_type": "code",
   "execution_count": 5,
   "metadata": {},
   "outputs": [
    {
     "name": "stdout",
     "output_type": "stream",
     "text": [
      "Response: {'acknowledged': True, 'shards_acknowledged': True, 'index': 'noticias_g1'}\n",
      "INDEX MAPPING SUCCESS FOR INDEX: noticias_g1\n"
     ]
    }
   ],
   "source": [
    "mapping = {\n",
    "    \"settings\": {\n",
    "        \"number_of_shards\": 3\n",
    "    },\n",
    "    \"mappings\": {\n",
    "        \"properties\": {\n",
    "            \"titulo\": { \"type\": \"text\", \"fielddata\": \"true\" },\n",
    "            \"url\": { \"type\": \"text\" },\n",
    "            \"texto\": { \"type\": \"text\", \"fielddata\": \"true\" },\n",
    "            \"categoria\": { \"type\": \"keyword\" },\n",
    "            \"texto_tratado\": { \"type\": \"text\" },\n",
    "        }\n",
    "    }\n",
    "}\n",
    "\n",
    "index_name = \"noticias_g1\"\n",
    "\n",
    "client.indices.delete(index=index_name)\n",
    "\n",
    "response = client.indices.create(\n",
    "    index = index_name,\n",
    "    body = mapping,\n",
    "    ignore=400 # ignore already exists code\n",
    ")\n",
    "\n",
    "print ('Response:', response)\n",
    "\n",
    "if 'acknowledged' in response:\n",
    "    if response['acknowledged'] == True:\n",
    "        print (\"INDEX MAPPING SUCCESS FOR INDEX:\", response['index'])\n",
    "\n",
    "elif 'error' in response:\n",
    "    print (\"ERROR:\", response['error']['root_cause'])\n",
    "    print (\"TYPE:\", response['error']['type'])"
   ]
  },
  {
   "cell_type": "markdown",
   "metadata": {},
   "source": [
    "## Carga de Dados no ELS:"
   ]
  },
  {
   "cell_type": "markdown",
   "metadata": {},
   "source": [
    "Será feita a carga dos dados que estão no DataFrame na base de dados do Elastic Search."
   ]
  },
  {
   "cell_type": "code",
   "execution_count": 6,
   "metadata": {},
   "outputs": [
    {
     "data": {
      "text/plain": [
       "(1953, [])"
      ]
     },
     "execution_count": 6,
     "metadata": {},
     "output_type": "execute_result"
    }
   ],
   "source": [
    "from elasticsearch import helpers\n",
    "\n",
    "def fields(document):\n",
    "    return { key: document[key] for key in ['titulo','url','texto','categoria','texto_tratado'] }\n",
    "\n",
    "def doc_generator(df):\n",
    "    id = 0\n",
    "    for index, document in df.iterrows():\n",
    "        id = id + 1\n",
    "        yield {\n",
    "            \"_index\": f\"{index_name}\",\n",
    "            \"_id\" : f\"{id}\",\n",
    "            \"_source\": fields(document)\n",
    "        }\n",
    "    return\n",
    "\n",
    "helpers.bulk(client, doc_generator(noticias))"
   ]
  },
  {
   "cell_type": "markdown",
   "metadata": {},
   "source": [
    "## Teste de Consulta:"
   ]
  },
  {
   "cell_type": "markdown",
   "metadata": {},
   "source": [
    "Vamos realizar uma consulta básica na base de dados para certificar que a carga ocorreu corretamente."
   ]
  },
  {
   "cell_type": "code",
   "execution_count": 8,
   "metadata": {},
   "outputs": [
    {
     "data": {
      "text/plain": [
       "'https://g1.globo.com/politica/noticia/2021/03/09/a-pedido-de-nunes-marques-conclusao-do-julgamento-da-suspeicao-de-moro-e-adiado.ghtml'"
      ]
     },
     "execution_count": 8,
     "metadata": {},
     "output_type": "execute_result"
    }
   ],
   "source": [
    "teste = client.get(index=index_name, doc_type='_doc', id=1)\n",
    "teste['_source']['url']"
   ]
  },
  {
   "cell_type": "code",
   "execution_count": null,
   "metadata": {},
   "outputs": [],
   "source": []
  }
 ],
 "metadata": {
  "kernelspec": {
   "display_name": "Python 3",
   "language": "python",
   "name": "python3"
  },
  "language_info": {
   "codemirror_mode": {
    "name": "ipython",
    "version": 3
   },
   "file_extension": ".py",
   "mimetype": "text/x-python",
   "name": "python",
   "nbconvert_exporter": "python",
   "pygments_lexer": "ipython3",
   "version": "3.7.4"
  }
 },
 "nbformat": 4,
 "nbformat_minor": 2
}
