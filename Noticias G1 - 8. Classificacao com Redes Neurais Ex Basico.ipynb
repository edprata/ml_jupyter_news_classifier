{
 "cells": [
  {
   "cell_type": "markdown",
   "metadata": {},
   "source": [
    "# Notícias G1 - 8. Classificação com Redes Neurais Exemplo Básico"
   ]
  },
  {
   "cell_type": "markdown",
   "metadata": {},
   "source": [
    "Será feita a classificação das notícias de categoria desconhecida com base no modelo treinado a partir de um modelo de rede neural e da massa de dados com categoria conhecida. \n",
    "\n",
    "Serão utilizadas três camadas contendo 5, 5 e 7 neurônios respectivamente. Nesse exemplo todos os parâmetros são um mero chute. O objetivo é demonstrar a utilização básica sem se preocupar com o desempenho da rede ou buscar pela melhor parametrização."
   ]
  },
  {
   "cell_type": "markdown",
   "metadata": {},
   "source": [
    "## Imports:"
   ]
  },
  {
   "cell_type": "markdown",
   "metadata": {},
   "source": [
    "Importes de bibliotecas usadas com frequência no código."
   ]
  },
  {
   "cell_type": "code",
   "execution_count": 24,
   "metadata": {},
   "outputs": [],
   "source": [
    "import pandas as pd\n",
    "import numpy as np"
   ]
  },
  {
   "cell_type": "markdown",
   "metadata": {},
   "source": [
    "## Recuperando Dados Gravados:"
   ]
  },
  {
   "cell_type": "markdown",
   "metadata": {},
   "source": [
    "Recuperando dados gravados após cálculo de TF-IDF e criação de matrizes esparças."
   ]
  },
  {
   "cell_type": "code",
   "execution_count": 25,
   "metadata": {},
   "outputs": [
    {
     "name": "stdout",
     "output_type": "stream",
     "text": [
      "(2111, 2442) (1206, 2442) (1206, 1) (517, 2442) (517, 1)\n"
     ]
    }
   ],
   "source": [
    "df_tfidf_classificar = pd.read_csv(\"noticias_g1_tfidf_massa_classificar.csv\")\n",
    "df_tfidf_treino = pd.read_csv(\"noticias_g1_tfidf_massa_treino.csv\")\n",
    "df_tfidf_teste = pd.read_csv(\"noticias_g1_tfidf_massa_teste.csv\")\n",
    "df_cat_treino = pd.read_csv(\"noticias_g1_categorias_treino.csv\")\n",
    "df_cat_teste = pd.read_csv(\"noticias_g1_categorias_teste.csv\")\n",
    "\n",
    "print(df_tfidf_classificar.shape, df_tfidf_treino.shape, \n",
    "      df_cat_treino.shape, df_tfidf_teste.shape, df_cat_teste.shape)"
   ]
  },
  {
   "cell_type": "markdown",
   "metadata": {},
   "source": [
    "## One Hot Encoder:"
   ]
  },
  {
   "cell_type": "markdown",
   "metadata": {},
   "source": [
    "Como trata-se de um problema multiclasse vamos precisar utilizar a técnica one-hot-encoding. Nessa técnica é criada uma matriz onde cada classe torna-se uma coluna e, para cada registro, apenas a coluna da classe correta é sinalizada com valor 1, as demais colunas permanecem com zeros. \n",
    "\n",
    "O objetivo disso e tornar variáveis categóricas processáveis pela rede neural sem, contudo, utilizar ordem de grandeza pela atribuição de números inteiros - técnica conhecida como label enconding."
   ]
  },
  {
   "cell_type": "code",
   "execution_count": 26,
   "metadata": {},
   "outputs": [
    {
     "data": {
      "text/html": [
       "<div>\n",
       "<style scoped>\n",
       "    .dataframe tbody tr th:only-of-type {\n",
       "        vertical-align: middle;\n",
       "    }\n",
       "\n",
       "    .dataframe tbody tr th {\n",
       "        vertical-align: top;\n",
       "    }\n",
       "\n",
       "    .dataframe thead tr th {\n",
       "        text-align: left;\n",
       "    }\n",
       "</style>\n",
       "<table border=\"1\" class=\"dataframe\">\n",
       "  <thead>\n",
       "    <tr>\n",
       "      <th></th>\n",
       "      <th>diversos</th>\n",
       "      <th>economia</th>\n",
       "      <th>educacao</th>\n",
       "      <th>politica</th>\n",
       "      <th>pop-arte</th>\n",
       "      <th>saude</th>\n",
       "    </tr>\n",
       "  </thead>\n",
       "  <tbody>\n",
       "    <tr>\n",
       "      <td>0</td>\n",
       "      <td>0.0</td>\n",
       "      <td>0.0</td>\n",
       "      <td>0.0</td>\n",
       "      <td>0.0</td>\n",
       "      <td>1.0</td>\n",
       "      <td>0.0</td>\n",
       "    </tr>\n",
       "    <tr>\n",
       "      <td>1</td>\n",
       "      <td>0.0</td>\n",
       "      <td>0.0</td>\n",
       "      <td>0.0</td>\n",
       "      <td>0.0</td>\n",
       "      <td>0.0</td>\n",
       "      <td>1.0</td>\n",
       "    </tr>\n",
       "    <tr>\n",
       "      <td>2</td>\n",
       "      <td>0.0</td>\n",
       "      <td>0.0</td>\n",
       "      <td>0.0</td>\n",
       "      <td>0.0</td>\n",
       "      <td>1.0</td>\n",
       "      <td>0.0</td>\n",
       "    </tr>\n",
       "    <tr>\n",
       "      <td>3</td>\n",
       "      <td>0.0</td>\n",
       "      <td>0.0</td>\n",
       "      <td>0.0</td>\n",
       "      <td>1.0</td>\n",
       "      <td>0.0</td>\n",
       "      <td>0.0</td>\n",
       "    </tr>\n",
       "    <tr>\n",
       "      <td>4</td>\n",
       "      <td>0.0</td>\n",
       "      <td>1.0</td>\n",
       "      <td>0.0</td>\n",
       "      <td>0.0</td>\n",
       "      <td>0.0</td>\n",
       "      <td>0.0</td>\n",
       "    </tr>\n",
       "    <tr>\n",
       "      <td>...</td>\n",
       "      <td>...</td>\n",
       "      <td>...</td>\n",
       "      <td>...</td>\n",
       "      <td>...</td>\n",
       "      <td>...</td>\n",
       "      <td>...</td>\n",
       "    </tr>\n",
       "    <tr>\n",
       "      <td>1201</td>\n",
       "      <td>0.0</td>\n",
       "      <td>1.0</td>\n",
       "      <td>0.0</td>\n",
       "      <td>0.0</td>\n",
       "      <td>0.0</td>\n",
       "      <td>0.0</td>\n",
       "    </tr>\n",
       "    <tr>\n",
       "      <td>1202</td>\n",
       "      <td>0.0</td>\n",
       "      <td>0.0</td>\n",
       "      <td>0.0</td>\n",
       "      <td>1.0</td>\n",
       "      <td>0.0</td>\n",
       "      <td>0.0</td>\n",
       "    </tr>\n",
       "    <tr>\n",
       "      <td>1203</td>\n",
       "      <td>0.0</td>\n",
       "      <td>1.0</td>\n",
       "      <td>0.0</td>\n",
       "      <td>0.0</td>\n",
       "      <td>0.0</td>\n",
       "      <td>0.0</td>\n",
       "    </tr>\n",
       "    <tr>\n",
       "      <td>1204</td>\n",
       "      <td>0.0</td>\n",
       "      <td>1.0</td>\n",
       "      <td>0.0</td>\n",
       "      <td>0.0</td>\n",
       "      <td>0.0</td>\n",
       "      <td>0.0</td>\n",
       "    </tr>\n",
       "    <tr>\n",
       "      <td>1205</td>\n",
       "      <td>0.0</td>\n",
       "      <td>1.0</td>\n",
       "      <td>0.0</td>\n",
       "      <td>0.0</td>\n",
       "      <td>0.0</td>\n",
       "      <td>0.0</td>\n",
       "    </tr>\n",
       "  </tbody>\n",
       "</table>\n",
       "<p>1206 rows × 6 columns</p>\n",
       "</div>"
      ],
      "text/plain": [
       "     diversos economia educacao politica pop-arte saude\n",
       "0         0.0      0.0      0.0      0.0      1.0   0.0\n",
       "1         0.0      0.0      0.0      0.0      0.0   1.0\n",
       "2         0.0      0.0      0.0      0.0      1.0   0.0\n",
       "3         0.0      0.0      0.0      1.0      0.0   0.0\n",
       "4         0.0      1.0      0.0      0.0      0.0   0.0\n",
       "...       ...      ...      ...      ...      ...   ...\n",
       "1201      0.0      1.0      0.0      0.0      0.0   0.0\n",
       "1202      0.0      0.0      0.0      1.0      0.0   0.0\n",
       "1203      0.0      1.0      0.0      0.0      0.0   0.0\n",
       "1204      0.0      1.0      0.0      0.0      0.0   0.0\n",
       "1205      0.0      1.0      0.0      0.0      0.0   0.0\n",
       "\n",
       "[1206 rows x 6 columns]"
      ]
     },
     "execution_count": 26,
     "metadata": {},
     "output_type": "execute_result"
    }
   ],
   "source": [
    "from sklearn.preprocessing import OneHotEncoder\n",
    "\n",
    "one_hot_encoder = OneHotEncoder(sparse=False)\n",
    "one_hot_encoder.fit(df_cat_treino.to_numpy())\n",
    "ohe_cat_treino = one_hot_encoder.transform(df_cat_treino.to_numpy())\n",
    "\n",
    "df = pd.DataFrame(ohe_cat_treino)\n",
    "df.columns = one_hot_encoder.categories_\n",
    "df.to_csv('noticias_g1_one_hot_encoder.csv', index=False)\n",
    "\n",
    "df"
   ]
  },
  {
   "cell_type": "markdown",
   "metadata": {},
   "source": [
    "## Criando Matrizes Esparsas:"
   ]
  },
  {
   "cell_type": "markdown",
   "metadata": {},
   "source": [
    "Transformando os DataFrames em matrizes esparças para utilizar na classificação com rede neural."
   ]
  },
  {
   "cell_type": "code",
   "execution_count": 27,
   "metadata": {},
   "outputs": [
    {
     "name": "stdout",
     "output_type": "stream",
     "text": [
      "(2111, 2442) (1206, 2442) (1206, 1) (517, 2442) (517, 1)\n"
     ]
    }
   ],
   "source": [
    "from scipy.sparse import coo_matrix, vstack\n",
    "\n",
    "sm_classificar = coo_matrix(df_tfidf_classificar)\n",
    "sm_treino = coo_matrix(df_tfidf_treino)\n",
    "sm_teste = coo_matrix(df_tfidf_teste)\n",
    "sm_cat_treino = np.array(df_cat_treino)\n",
    "sm_cat_teste = np.array(df_cat_teste)\n",
    "\n",
    "print(sm_classificar.shape, sm_treino.shape, sm_cat_treino.shape,\n",
    "      sm_teste.shape, sm_cat_teste.shape)"
   ]
  },
  {
   "cell_type": "markdown",
   "metadata": {},
   "source": [
    "## Tratando Desbalanceamento das Classes:"
   ]
  },
  {
   "cell_type": "markdown",
   "metadata": {},
   "source": [
    "Como as classes estão muito desbalanceadas faremos o tratamento desse problema por meio do ajuste dos pesos para cada categoria. Isso será feito usando o sklearn."
   ]
  },
  {
   "cell_type": "code",
   "execution_count": 28,
   "metadata": {},
   "outputs": [
    {
     "data": {
      "text/plain": [
       "{0: 25.125,\n",
       " 1: 0.43412526997840173,\n",
       " 2: 7.178571428571429,\n",
       " 3: 0.5726495726495726,\n",
       " 4: 0.8854625550660793,\n",
       " 5: 1.558139534883721}"
      ]
     },
     "execution_count": 28,
     "metadata": {},
     "output_type": "execute_result"
    }
   ],
   "source": [
    "from sklearn.utils import class_weight\n",
    "\n",
    "y_integers = np.argmax(ohe_cat_treino, axis=1)\n",
    "class_weights = class_weight.compute_class_weight('balanced', np.unique(y_integers), y_integers)\n",
    "d_class_weights = dict(enumerate(class_weights))\n",
    "d_class_weights"
   ]
  },
  {
   "cell_type": "markdown",
   "metadata": {},
   "source": [
    "## Rede Neural - Treinamento:"
   ]
  },
  {
   "cell_type": "markdown",
   "metadata": {},
   "source": [
    "Realiza o treinamento para a classificação com o código mais básico possível.\n",
    "Os parâmetros foram definidos aleatoriamente."
   ]
  },
  {
   "cell_type": "code",
   "execution_count": 29,
   "metadata": {},
   "outputs": [],
   "source": [
    "# Definindo Variáveis do problema:\n",
    "X_train = sm_treino\n",
    "X_test = sm_teste\n",
    "y_train = ohe_cat_treino\n",
    "y_test = sm_cat_teste"
   ]
  },
  {
   "cell_type": "code",
   "execution_count": 45,
   "metadata": {},
   "outputs": [
    {
     "name": "stdout",
     "output_type": "stream",
     "text": [
      "Epoch 1/100\n"
     ]
    },
    {
     "name": "stderr",
     "output_type": "stream",
     "text": [
      "/Users/edprata/anaconda3/lib/python3.7/site-packages/tensorflow/python/framework/indexed_slices.py:449: UserWarning: Converting sparse IndexedSlices(IndexedSlices(indices=Tensor(\"gradient_tape/sequential_2/dense_6/embedding_lookup_sparse/Reshape_1:0\", shape=(None,), dtype=int32), values=Tensor(\"gradient_tape/sequential_2/dense_6/embedding_lookup_sparse/Reshape:0\", shape=(None, 10), dtype=float32), dense_shape=Tensor(\"gradient_tape/sequential_2/dense_6/embedding_lookup_sparse/Cast:0\", shape=(2,), dtype=int32))) to a dense Tensor of unknown shape. This may consume a large amount of memory.\n",
      "  \"shape. This may consume a large amount of memory.\" % value)\n"
     ]
    },
    {
     "name": "stdout",
     "output_type": "stream",
     "text": [
      "121/121 [==============================] - 2s 5ms/step - loss: 0.7009 - accuracy: 0.0746\n",
      "Epoch 2/100\n",
      "121/121 [==============================] - 1s 5ms/step - loss: 0.4383 - accuracy: 0.1401\n",
      "Epoch 3/100\n",
      "121/121 [==============================] - 1s 4ms/step - loss: 0.4712 - accuracy: 0.1051\n",
      "Epoch 4/100\n",
      "121/121 [==============================] - 1s 5ms/step - loss: 0.4538 - accuracy: 0.1234\n",
      "Epoch 5/100\n",
      "121/121 [==============================] - 0s 2ms/step - loss: 0.4786 - accuracy: 0.1332\n",
      "Epoch 6/100\n",
      "121/121 [==============================] - 0s 4ms/step - loss: 0.3982 - accuracy: 0.2567\n",
      "Epoch 7/100\n",
      "121/121 [==============================] - 0s 3ms/step - loss: 0.4295 - accuracy: 0.1275\n",
      "Epoch 8/100\n",
      "121/121 [==============================] - 0s 4ms/step - loss: 0.4878 - accuracy: 0.1099\n",
      "Epoch 9/100\n",
      "121/121 [==============================] - 0s 3ms/step - loss: 0.4709 - accuracy: 0.0934\n",
      "Epoch 10/100\n",
      "121/121 [==============================] - 0s 3ms/step - loss: 0.4089 - accuracy: 0.2483\n",
      "Epoch 11/100\n",
      "121/121 [==============================] - 0s 4ms/step - loss: 0.4117 - accuracy: 0.1400\n",
      "Epoch 12/100\n",
      "121/121 [==============================] - 1s 5ms/step - loss: 0.4516 - accuracy: 0.1514\n",
      "Epoch 13/100\n",
      "121/121 [==============================] - 0s 4ms/step - loss: 0.4770 - accuracy: 0.1881\n",
      "Epoch 14/100\n",
      "121/121 [==============================] - 0s 4ms/step - loss: 0.4596 - accuracy: 0.3480\n",
      "Epoch 15/100\n",
      "121/121 [==============================] - 0s 3ms/step - loss: 0.4387 - accuracy: 0.4523\n",
      "Epoch 16/100\n",
      "121/121 [==============================] - 0s 4ms/step - loss: 0.3325 - accuracy: 0.5540\n",
      "Epoch 17/100\n",
      "121/121 [==============================] - 0s 4ms/step - loss: 0.2972 - accuracy: 0.5859\n",
      "Epoch 18/100\n",
      "121/121 [==============================] - 0s 4ms/step - loss: 0.2434 - accuracy: 0.6076\n",
      "Epoch 19/100\n",
      "121/121 [==============================] - 0s 3ms/step - loss: 0.2124 - accuracy: 0.6838\n",
      "Epoch 20/100\n",
      "121/121 [==============================] - 0s 4ms/step - loss: 0.1669 - accuracy: 0.8880\n",
      "Epoch 21/100\n",
      "121/121 [==============================] - 0s 4ms/step - loss: 0.1326 - accuracy: 0.9025\n",
      "Epoch 22/100\n",
      "121/121 [==============================] - 0s 3ms/step - loss: 0.1481 - accuracy: 0.9468\n",
      "Epoch 23/100\n",
      "121/121 [==============================] - 0s 2ms/step - loss: 0.1080 - accuracy: 0.9556\n",
      "Epoch 24/100\n",
      "121/121 [==============================] - 0s 3ms/step - loss: 0.1099 - accuracy: 0.9569\n",
      "Epoch 25/100\n",
      "121/121 [==============================] - 0s 2ms/step - loss: 0.0950 - accuracy: 0.9414\n",
      "Epoch 26/100\n",
      "121/121 [==============================] - 0s 3ms/step - loss: 0.1203 - accuracy: 0.9441\n",
      "Epoch 27/100\n",
      "121/121 [==============================] - 0s 2ms/step - loss: 0.0767 - accuracy: 0.9615\n",
      "Epoch 28/100\n",
      "121/121 [==============================] - 0s 2ms/step - loss: 0.0585 - accuracy: 0.9671\n",
      "Epoch 29/100\n",
      "121/121 [==============================] - 0s 3ms/step - loss: 0.0495 - accuracy: 0.9761\n",
      "Epoch 30/100\n",
      "121/121 [==============================] - 0s 3ms/step - loss: 0.0605 - accuracy: 0.9753\n",
      "Epoch 31/100\n",
      "121/121 [==============================] - 0s 3ms/step - loss: 0.0406 - accuracy: 0.9797\n",
      "Epoch 32/100\n",
      "121/121 [==============================] - 0s 3ms/step - loss: 0.0427 - accuracy: 0.9784\n",
      "Epoch 33/100\n",
      "121/121 [==============================] - 0s 3ms/step - loss: 0.0339 - accuracy: 0.9829\n",
      "Epoch 34/100\n",
      "121/121 [==============================] - 0s 4ms/step - loss: 0.0253 - accuracy: 0.9885\n",
      "Epoch 35/100\n",
      "121/121 [==============================] - 1s 4ms/step - loss: 0.0327 - accuracy: 0.9858\n",
      "Epoch 36/100\n",
      "121/121 [==============================] - 1s 4ms/step - loss: 0.0239 - accuracy: 0.9892\n",
      "Epoch 37/100\n",
      "121/121 [==============================] - 0s 3ms/step - loss: 0.0196 - accuracy: 0.9921\n",
      "Epoch 38/100\n",
      "121/121 [==============================] - 0s 3ms/step - loss: 0.0208 - accuracy: 0.9950\n",
      "Epoch 39/100\n",
      "121/121 [==============================] - 0s 3ms/step - loss: 0.0204 - accuracy: 0.9944\n",
      "Epoch 40/100\n",
      "121/121 [==============================] - 0s 3ms/step - loss: 0.0135 - accuracy: 0.9956\n",
      "Epoch 41/100\n",
      "121/121 [==============================] - 0s 3ms/step - loss: 0.0223 - accuracy: 0.9934\n",
      "Epoch 42/100\n",
      "121/121 [==============================] - 0s 4ms/step - loss: 0.0196 - accuracy: 0.9919\n",
      "Epoch 43/100\n",
      "121/121 [==============================] - 0s 3ms/step - loss: 0.0111 - accuracy: 0.9927\n",
      "Epoch 44/100\n",
      "121/121 [==============================] - 0s 4ms/step - loss: 0.0089 - accuracy: 0.9969\n",
      "Epoch 45/100\n",
      "121/121 [==============================] - 0s 2ms/step - loss: 0.0098 - accuracy: 0.9943\n",
      "Epoch 46/100\n",
      "121/121 [==============================] - 0s 4ms/step - loss: 0.0086 - accuracy: 0.9959\n",
      "Epoch 47/100\n",
      "121/121 [==============================] - 0s 3ms/step - loss: 0.0095 - accuracy: 0.9930\n",
      "Epoch 48/100\n",
      "121/121 [==============================] - 0s 4ms/step - loss: 0.0103 - accuracy: 0.9982\n",
      "Epoch 49/100\n",
      "121/121 [==============================] - 0s 4ms/step - loss: 0.0074 - accuracy: 0.9950\n",
      "Epoch 50/100\n",
      "121/121 [==============================] - 0s 4ms/step - loss: 0.0074 - accuracy: 0.9920\n",
      "Epoch 51/100\n",
      "121/121 [==============================] - 0s 2ms/step - loss: 0.0111 - accuracy: 0.9933\n",
      "Epoch 52/100\n",
      "121/121 [==============================] - 0s 3ms/step - loss: 0.0039 - accuracy: 0.9989\n",
      "Epoch 53/100\n",
      "121/121 [==============================] - 0s 2ms/step - loss: 0.0059 - accuracy: 0.9976\n",
      "Epoch 54/100\n",
      "121/121 [==============================] - 0s 3ms/step - loss: 0.0050 - accuracy: 0.9964\n",
      "Epoch 55/100\n",
      "121/121 [==============================] - 0s 2ms/step - loss: 0.0039 - accuracy: 0.9999\n",
      "Epoch 56/100\n",
      "121/121 [==============================] - 0s 2ms/step - loss: 0.0041 - accuracy: 0.9967\n",
      "Epoch 57/100\n",
      "121/121 [==============================] - 0s 2ms/step - loss: 0.0027 - accuracy: 0.9988\n",
      "Epoch 58/100\n",
      "121/121 [==============================] - 0s 2ms/step - loss: 0.0033 - accuracy: 0.9967\n",
      "Epoch 59/100\n",
      "121/121 [==============================] - 0s 2ms/step - loss: 0.0028 - accuracy: 0.9999\n",
      "Epoch 60/100\n",
      "121/121 [==============================] - 0s 3ms/step - loss: 0.0030 - accuracy: 0.9996\n",
      "Epoch 61/100\n",
      "121/121 [==============================] - 1s 5ms/step - loss: 0.0023 - accuracy: 0.9998\n",
      "Epoch 62/100\n",
      "121/121 [==============================] - 1s 4ms/step - loss: 0.0023 - accuracy: 1.0000\n",
      "Epoch 63/100\n",
      "121/121 [==============================] - 1s 5ms/step - loss: 0.0013 - accuracy: 1.0000\n",
      "Epoch 64/100\n",
      "121/121 [==============================] - 0s 4ms/step - loss: 0.0019 - accuracy: 0.9999\n",
      "Epoch 65/100\n",
      "121/121 [==============================] - 1s 4ms/step - loss: 0.0012 - accuracy: 1.0000\n",
      "Epoch 66/100\n",
      "121/121 [==============================] - 1s 4ms/step - loss: 0.0013 - accuracy: 1.0000\n",
      "Epoch 67/100\n",
      "121/121 [==============================] - 1s 5ms/step - loss: 0.0013 - accuracy: 1.0000\n",
      "Epoch 68/100\n",
      "121/121 [==============================] - 1s 5ms/step - loss: 0.0025 - accuracy: 1.0000\n",
      "Epoch 69/100\n",
      "121/121 [==============================] - 1s 5ms/step - loss: 0.0018 - accuracy: 1.0000\n",
      "Epoch 70/100\n",
      "121/121 [==============================] - 1s 5ms/step - loss: 0.0016 - accuracy: 1.0000\n",
      "Epoch 71/100\n",
      "121/121 [==============================] - 0s 3ms/step - loss: 0.0025 - accuracy: 1.0000\n",
      "Epoch 72/100\n",
      "121/121 [==============================] - 1s 5ms/step - loss: 8.9254e-04 - accuracy: 1.0000\n",
      "Epoch 73/100\n",
      "121/121 [==============================] - 1s 4ms/step - loss: 7.2253e-04 - accuracy: 1.0000\n",
      "Epoch 74/100\n",
      "121/121 [==============================] - 1s 4ms/step - loss: 8.1407e-04 - accuracy: 1.0000\n",
      "Epoch 75/100\n",
      "121/121 [==============================] - 1s 4ms/step - loss: 8.0949e-04 - accuracy: 1.0000\n",
      "Epoch 76/100\n",
      "121/121 [==============================] - 0s 4ms/step - loss: 0.0021 - accuracy: 1.0000\n",
      "Epoch 77/100\n",
      "121/121 [==============================] - 1s 4ms/step - loss: 4.7521e-04 - accuracy: 1.0000\n",
      "Epoch 78/100\n",
      "121/121 [==============================] - 0s 3ms/step - loss: 4.4158e-04 - accuracy: 1.0000\n",
      "Epoch 79/100\n",
      "121/121 [==============================] - 0s 3ms/step - loss: 7.2954e-04 - accuracy: 1.0000\n",
      "Epoch 80/100\n",
      "121/121 [==============================] - 0s 3ms/step - loss: 8.9197e-04 - accuracy: 1.0000\n",
      "Epoch 81/100\n"
     ]
    },
    {
     "name": "stdout",
     "output_type": "stream",
     "text": [
      "121/121 [==============================] - 0s 3ms/step - loss: 6.0979e-04 - accuracy: 1.0000\n",
      "Epoch 82/100\n",
      "121/121 [==============================] - 0s 3ms/step - loss: 3.9103e-04 - accuracy: 1.0000\n",
      "Epoch 83/100\n",
      "121/121 [==============================] - 0s 3ms/step - loss: 3.0613e-04 - accuracy: 1.0000\n",
      "Epoch 84/100\n",
      "121/121 [==============================] - 0s 3ms/step - loss: 0.0011 - accuracy: 1.0000\n",
      "Epoch 85/100\n",
      "121/121 [==============================] - 0s 3ms/step - loss: 4.1798e-04 - accuracy: 1.0000\n",
      "Epoch 86/100\n",
      "121/121 [==============================] - 0s 3ms/step - loss: 3.3056e-04 - accuracy: 1.0000\n",
      "Epoch 87/100\n",
      "121/121 [==============================] - 0s 3ms/step - loss: 3.3250e-04 - accuracy: 1.0000\n",
      "Epoch 88/100\n",
      "121/121 [==============================] - 0s 3ms/step - loss: 3.6344e-04 - accuracy: 1.0000\n",
      "Epoch 89/100\n",
      "121/121 [==============================] - 0s 3ms/step - loss: 4.3034e-04 - accuracy: 1.0000\n",
      "Epoch 90/100\n",
      "121/121 [==============================] - 0s 3ms/step - loss: 2.2457e-04 - accuracy: 1.0000\n",
      "Epoch 91/100\n",
      "121/121 [==============================] - 0s 2ms/step - loss: 2.7897e-04 - accuracy: 1.0000\n",
      "Epoch 92/100\n",
      "121/121 [==============================] - 0s 2ms/step - loss: 3.7038e-04 - accuracy: 1.0000\n",
      "Epoch 93/100\n",
      "121/121 [==============================] - 0s 2ms/step - loss: 2.7652e-04 - accuracy: 1.0000\n",
      "Epoch 94/100\n",
      "121/121 [==============================] - 0s 2ms/step - loss: 1.8020e-04 - accuracy: 1.0000\n",
      "Epoch 95/100\n",
      "121/121 [==============================] - 0s 2ms/step - loss: 3.5813e-04 - accuracy: 1.0000\n",
      "Epoch 96/100\n",
      "121/121 [==============================] - 0s 2ms/step - loss: 2.0100e-04 - accuracy: 1.0000\n",
      "Epoch 97/100\n",
      "121/121 [==============================] - 1s 4ms/step - loss: 1.7166e-04 - accuracy: 1.0000\n",
      "Epoch 98/100\n",
      "121/121 [==============================] - 0s 3ms/step - loss: 2.6214e-04 - accuracy: 1.0000\n",
      "Epoch 99/100\n",
      "121/121 [==============================] - 0s 4ms/step - loss: 1.5523e-04 - accuracy: 1.0000\n",
      "Epoch 100/100\n",
      "121/121 [==============================] - 0s 3ms/step - loss: 2.2173e-04 - accuracy: 1.0000\n"
     ]
    },
    {
     "data": {
      "text/plain": [
       "<keras.callbacks.History at 0x7fd8bd384690>"
      ]
     },
     "execution_count": 45,
     "metadata": {},
     "output_type": "execute_result"
    }
   ],
   "source": [
    "#!pip install keras\n",
    "#!pip install tensorflow\n",
    "\n",
    "from keras.models import Sequential\n",
    "from keras.layers import Dense\n",
    "from tensorflow.keras import activations\n",
    "import tensorflow\n",
    "\n",
    "# Setting Random Seeds:\n",
    "random_seed = 33\n",
    "np.random.seed(random_seed)\n",
    "tensorflow.random.set_seed(random_seed)\n",
    "\n",
    "# Formating Net\n",
    "net = Sequential()\n",
    "net.add(Dense(units=10, kernel_initializer='uniform', activation=activations.relu, input_dim=X_train.shape[1]))\n",
    "net.add(Dense(units=10, kernel_initializer='uniform', activation=activations.relu))\n",
    "net.add(Dense(units=6 , kernel_initializer='uniform', activation=activations.sigmoid))\n",
    "\n",
    "# Cooking\n",
    "net.compile(optimizer = 'adam', loss = 'binary_crossentropy', metrics=['accuracy'])\n",
    "net.fit(X_train, y_train, batch_size=10, epochs=100, class_weight=d_class_weights)\n"
   ]
  },
  {
   "cell_type": "markdown",
   "metadata": {},
   "source": [
    "## Perda ao Longo das Épocas:"
   ]
  },
  {
   "cell_type": "markdown",
   "metadata": {},
   "source": [
    "Vamos observar a taxa de erro ao longo do processamento conforme as épocas do treinamento."
   ]
  },
  {
   "cell_type": "code",
   "execution_count": 55,
   "metadata": {},
   "outputs": [
    {
     "data": {
      "image/png": "[encoded data removed]",
      "text/plain": [
       "<Figure size 432x288 with 1 Axes>"
      ]
     },
     "metadata": {
      "needs_background": "light"
     },
     "output_type": "display_data"
    }
   ],
   "source": [
    "import matplotlib.pyplot as plt\n",
    "\n",
    "def plot_graphs(history, string):\n",
    "  plt.plot(history.history[string])\n",
    "  plt.plot(history.history['loss'])\n",
    "  plt.xlabel(\"Epochs\")\n",
    "  plt.ylabel(string)\n",
    "  plt.legend([string, 'loss'])\n",
    "  plt.show()\n",
    "  \n",
    "plot_graphs(net.history, \"accuracy\")"
   ]
  },
  {
   "cell_type": "markdown",
   "metadata": {},
   "source": [
    "## Classificação com a Massa de Teste:"
   ]
  },
  {
   "cell_type": "markdown",
   "metadata": {},
   "source": [
    "Será feita a classificação da massa de dados separada para teste."
   ]
  },
  {
   "cell_type": "code",
   "execution_count": 62,
   "metadata": {},
   "outputs": [
    {
     "data": {
      "text/plain": [
       "array([[1.66646728e-26, 4.09032509e-06, 4.95183702e-29, 9.99997675e-01,\n",
       "        1.91777167e-06, 2.00493240e-22],\n",
       "       [1.24991595e-14, 9.99869108e-01, 5.17290237e-35, 2.48372451e-08,\n",
       "        2.91018461e-26, 1.72644854e-04],\n",
       "       [1.32763687e-13, 9.99802589e-01, 3.59832151e-31, 1.44227295e-06,\n",
       "        1.51129657e-22, 7.34309506e-05],\n",
       "       ...,\n",
       "       [3.90747466e-13, 9.99829292e-01, 3.07269263e-31, 6.95364179e-07,\n",
       "        1.19775250e-22, 4.87684156e-05],\n",
       "       [1.63405714e-30, 2.55949772e-07, 7.54447262e-33, 9.99999583e-01,\n",
       "        2.39928312e-07, 7.97758665e-25],\n",
       "       [8.47914934e-25, 0.00000000e+00, 2.08526501e-07, 2.45783849e-06,\n",
       "        1.00000000e+00, 0.00000000e+00]], dtype=float32)"
      ]
     },
     "execution_count": 62,
     "metadata": {},
     "output_type": "execute_result"
    }
   ],
   "source": [
    "prediction_massa_teste = net.predict(X_test)\n",
    "prediction_massa_teste"
   ]
  },
  {
   "cell_type": "markdown",
   "metadata": {},
   "source": [
    "## Elucidando a Saída - Massa Teste:"
   ]
  },
  {
   "cell_type": "markdown",
   "metadata": {},
   "source": [
    "O resultado da predição é um array com N valores para cada registro classificado. Esses N valores correspondem as N categorias/classes que foram dadas ao modelo no treinamento. \n",
    "\n",
    "A seguir vamos separar para cada linha qual é o maior valor dentre os N fornecidos e, pela posição no array, identificar qual a categoria mais bem cotada."
   ]
  },
  {
   "cell_type": "code",
   "execution_count": 63,
   "metadata": {},
   "outputs": [
    {
     "data": {
      "text/plain": [
       "array(['diversos', 'economia', 'educacao', 'politica', 'pop-arte',\n",
       "       'saude'], dtype=object)"
      ]
     },
     "execution_count": 63,
     "metadata": {},
     "output_type": "execute_result"
    }
   ],
   "source": [
    "one_hot_encoder.categories_[0]"
   ]
  },
  {
   "cell_type": "code",
   "execution_count": 72,
   "metadata": {},
   "outputs": [
    {
     "data": {
      "text/plain": [
       "array(['diversos', 'economia', 'educacao', 'politica', 'pop-arte',\n",
       "       'saude'], dtype='<U8')"
      ]
     },
     "execution_count": 72,
     "metadata": {},
     "output_type": "execute_result"
    }
   ],
   "source": [
    "classificacao_massa_teste = []\n",
    "for notas in prediction_massa_teste:\n",
    "    for x in range(len(notas)):\n",
    "        if notas[x] == notas.max():\n",
    "            if notas[x] > 0.000005:\n",
    "                classificacao_massa_teste.append(one_hot_encoder.categories_[0][x])\n",
    "            else:\n",
    "                classificacao_massa_teste.append('diversos')\n",
    "np.unique(classificacao_massa_teste)"
   ]
  },
  {
   "cell_type": "markdown",
   "metadata": {},
   "source": [
    "## Classificação com a Massa Desconhecida:"
   ]
  },
  {
   "cell_type": "markdown",
   "metadata": {},
   "source": [
    "Será feita a classificação com a massa de dados cuja categoria é desconhecida."
   ]
  },
  {
   "cell_type": "code",
   "execution_count": 73,
   "metadata": {},
   "outputs": [
    {
     "data": {
      "text/plain": [
       "array([[9.8949766e-01, 4.7606472e-06, 3.6520660e-03, 1.1598137e-09,\n",
       "        6.5782068e-08, 2.7352870e-03],\n",
       "       [9.3257002e-09, 1.7085572e-13, 5.5673115e-13, 1.8430674e-11,\n",
       "        9.2007200e-12, 2.9247495e-13],\n",
       "       [7.3548962e-09, 9.6402228e-02, 1.5102281e-25, 5.7929985e-13,\n",
       "        5.3254614e-25, 8.6312056e-02],\n",
       "       ...,\n",
       "       [8.3834764e-15, 8.0250963e-21, 1.2635781e-08, 3.6598871e-05,\n",
       "        7.9945052e-01, 1.2185314e-24],\n",
       "       [3.4497678e-03, 4.8444510e-10, 2.3222113e-11, 6.3315844e-15,\n",
       "        4.9590719e-16, 6.5427075e-06],\n",
       "       [3.8260562e-12, 7.7014697e-01, 3.5648781e-22, 2.5372803e-03,\n",
       "        9.7824370e-14, 4.6306488e-07]], dtype=float32)"
      ]
     },
     "execution_count": 73,
     "metadata": {},
     "output_type": "execute_result"
    }
   ],
   "source": [
    "prediction_massa_desconhecida = net.predict(sm_classificar)\n",
    "prediction_massa_desconhecida"
   ]
  },
  {
   "cell_type": "markdown",
   "metadata": {},
   "source": [
    "## Elucidando a Saída - Massa Desconhecida:"
   ]
  },
  {
   "cell_type": "markdown",
   "metadata": {},
   "source": [
    "Vamos converter a saída, que é uma matriz numérica, para um resultado legível como fizemos com a predição sobre a massa de teste."
   ]
  },
  {
   "cell_type": "code",
   "execution_count": 74,
   "metadata": {},
   "outputs": [
    {
     "data": {
      "text/plain": [
       "array(['diversos', 'economia', 'educacao', 'politica', 'pop-arte',\n",
       "       'saude'], dtype='<U8')"
      ]
     },
     "execution_count": 74,
     "metadata": {},
     "output_type": "execute_result"
    }
   ],
   "source": [
    "classificacao_massa_desconhecida = []\n",
    "for notas in prediction_massa_desconhecida:\n",
    "    for x in range(len(notas)):\n",
    "        if notas[x] == notas.max():\n",
    "            if notas[x] > 0.000005:\n",
    "                classificacao_massa_desconhecida.append(one_hot_encoder.categories_[0][x])\n",
    "            else:\n",
    "                classificacao_massa_desconhecida.append('diversos')\n",
    "\n",
    "np.unique(classificacao_massa_desconhecida)"
   ]
  },
  {
   "cell_type": "markdown",
   "metadata": {},
   "source": [
    "## Análise dos Resultados: Distribuição por Categoria:"
   ]
  },
  {
   "cell_type": "markdown",
   "metadata": {},
   "source": [
    "Elabora gráficos para comparar a distribuição dos dados na massa de treino, de teste, e de classificação (cuja categoria é desconhecida)."
   ]
  },
  {
   "cell_type": "code",
   "execution_count": 75,
   "metadata": {},
   "outputs": [
    {
     "name": "stdout",
     "output_type": "stream",
     "text": [
      "(6, 2) (6, 2) (6, 2)\n"
     ]
    }
   ],
   "source": [
    "# Calculando a distribuição:\n",
    "\n",
    "from collections import Counter, OrderedDict\n",
    "\n",
    "counter = sorted(Counter(df_cat_treino['cat']).items(), key=lambda i: i[0])\n",
    "dist_treino = pd.DataFrame(counter, columns=['cat', 'qtd'])\n",
    "\n",
    "counter = sorted(Counter(df_cat_teste['cat']).items(), key=lambda i: i[0])\n",
    "dist_teste = pd.DataFrame(counter, columns=['cat', 'qtd'])\n",
    "\n",
    "counter = sorted(Counter(classificacao_massa_teste).items(), key=lambda i: i[0])\n",
    "dist_teste_ = pd.DataFrame(counter, columns=['cat', 'qtd'])\n",
    "\n",
    "counter = sorted(Counter(classificacao_massa_desconhecida).items(), key=lambda i: i[0])\n",
    "dist_classificacao = pd.DataFrame(counter, columns=['cat', 'qtd'])\n",
    "\n",
    "print(dist_teste.shape, dist_teste_.shape, dist_classificacao.shape)"
   ]
  },
  {
   "cell_type": "code",
   "execution_count": 76,
   "metadata": {},
   "outputs": [
    {
     "name": "stderr",
     "output_type": "stream",
     "text": [
      "/Users/edprata/anaconda3/lib/python3.7/site-packages/ipykernel_launcher.py:9: MatplotlibDeprecationWarning: Non-1D inputs to pie() are currently squeeze()d, but this behavior is deprecated since 3.1 and will be removed in 3.3; pass a 1D array instead.\n",
      "  if __name__ == '__main__':\n"
     ]
    },
    {
     "data": {
      "image/png": "[encoded data removed]",
      "text/plain": [
       "<Figure size 360x360 with 1 Axes>"
      ]
     },
     "metadata": {},
     "output_type": "display_data"
    },
    {
     "data": {
      "image/png": "[encoded data removed]",
      "text/plain": [
       "<Figure size 360x360 with 1 Axes>"
      ]
     },
     "metadata": {},
     "output_type": "display_data"
    },
    {
     "data": {
      "image/png": "[encoded data removed]",
      "text/plain": [
       "<Figure size 360x360 with 1 Axes>"
      ]
     },
     "metadata": {},
     "output_type": "display_data"
    },
    {
     "data": {
      "image/png": "[encoded data removed]",
      "text/plain": [
       "<Figure size 360x360 with 1 Axes>"
      ]
     },
     "metadata": {},
     "output_type": "display_data"
    }
   ],
   "source": [
    "import matplotlib.pyplot as plt\n",
    "\n",
    "def func(pct, allvals):\n",
    "    absolute = int(pct/100.*np.sum(allvals))\n",
    "    return \"{:.1f}% ({:d})\".format(pct, absolute)\n",
    "\n",
    "def pie(title, legend, data, label):\n",
    "  fig, ax = plt.subplots(figsize=(5, 5), subplot_kw=dict(aspect=\"equal\"))\n",
    "  wedges, texts, autotexts = ax.pie(data, autopct=lambda pct: func(pct, data), textprops=dict(color=\"w\"))\n",
    "  ax.legend(wedges, label, title=legend, loc=\"center left\", bbox_to_anchor=(1, 0, 0.5, 1))\n",
    "  plt.setp(autotexts, size=8, weight=\"bold\")\n",
    "  ax.set_title(title)\n",
    "  plt.show()\n",
    "\n",
    "pie(\"Treino: Classificação Real\", \"Categorias\", dist_treino[['qtd']], dist_teste['cat'])\n",
    "pie(\"Teste: Classificação Real\", \"Categorias\", dist_teste[['qtd']], dist_teste['cat'])\n",
    "pie(\"Teste: Classificação da Rede\", \"Categorias\", dist_teste_[['qtd']], dist_teste_['cat'])\n",
    "pie(\"Classificação\", \"Categorias\", dist_classificacao[['qtd']], dist_classificacao['cat'])"
   ]
  },
  {
   "cell_type": "markdown",
   "metadata": {},
   "source": [
    "De cara percebemos que os gráficos com a massa de treino e teste ficaram muito parecidos, dando indícios de uma boa distribuição dessa massa.\n",
    "\n",
    "A classificação de teste também ficou bastante parecida com os gráficos anteriores, com perda sigificativa apenas da categoria \"educação\" que está bem desbalanceada. Talvez o ajuste dos pesos não tenha sido suficiente.\n",
    "\n",
    "Na classificação final vemos sobressair a categoria \"desconhecida\" o que sabemos que é verdade, pois há muitas notícias nessa massa cuja categoria não existe na massa de treino."
   ]
  },
  {
   "cell_type": "markdown",
   "metadata": {},
   "source": [
    "### Gráfico de Barras Comparando Real com Predito na Massa de Teste"
   ]
  },
  {
   "cell_type": "code",
   "execution_count": 77,
   "metadata": {},
   "outputs": [
    {
     "data": {
      "image/png": "[encoded data removed]",
      "text/plain": [
       "<Figure size 720x288 with 1 Axes>"
      ]
     },
     "metadata": {
      "needs_background": "light"
     },
     "output_type": "display_data"
    }
   ],
   "source": [
    "plt.figure(figsize=[10,4])\n",
    "plt.title(\"Distribuição dos Dados\")\n",
    "plt.xlabel('Categorias')\n",
    "plt.ylabel('Quantidade')\n",
    "plt.xticks(range(6), dist_teste['cat'])\n",
    "plt.bar(np.arange(6), dist_teste['qtd'], width=0.3, label='Real')\n",
    "plt.bar(np.arange(6) + 0.3, dist_teste_['qtd'], width=0.3, label='Predito')\n",
    "plt.grid(color='#95a5a6', linestyle='--', linewidth=2, axis='y', alpha=0.7)\n",
    "plt.legend()\n",
    "plt.show();"
   ]
  },
  {
   "cell_type": "markdown",
   "metadata": {},
   "source": [
    "No gráfico de barras fica ainda mais evidente as diferenças para educação e desconhecida."
   ]
  },
  {
   "cell_type": "markdown",
   "metadata": {},
   "source": [
    "### Métricas"
   ]
  },
  {
   "cell_type": "code",
   "execution_count": 78,
   "metadata": {},
   "outputs": [],
   "source": [
    "y_true = df_cat_teste['cat']\n",
    "y_pred = classificacao_massa_teste"
   ]
  },
  {
   "cell_type": "code",
   "execution_count": 79,
   "metadata": {},
   "outputs": [
    {
     "name": "stdout",
     "output_type": "stream",
     "text": [
      "Acurácia:  0.884\n",
      "Recall  :  0.754\n",
      "Precisão:  0.793\n",
      "F1      :  0.725\n"
     ]
    }
   ],
   "source": [
    "from sklearn.metrics import accuracy_score\n",
    "from sklearn.metrics import recall_score\n",
    "from sklearn.metrics import precision_score\n",
    "from sklearn.metrics import f1_score\n",
    "\n",
    "print('Acurácia: ', round(accuracy_score(y_true, y_pred), 3))\n",
    "print('Recall  : ', round(np.mean(recall_score(y_true, y_pred, average=None, labels=np.unique(y_pred))), 3))\n",
    "print('Precisão: ', round(np.mean(precision_score(y_true, y_pred, average=None)), 3))\n",
    "print('F1      : ', round(np.mean(f1_score(y_true, y_pred, average=None, labels=np.unique(y_pred))), 3))"
   ]
  },
  {
   "cell_type": "markdown",
   "metadata": {},
   "source": [
    "### Matrix de Confusão"
   ]
  },
  {
   "cell_type": "code",
   "execution_count": 80,
   "metadata": {},
   "outputs": [
    {
     "data": {
      "image/png": "[encoded data removed]",
      "text/plain": [
       "<Figure size 288x288 with 1 Axes>"
      ]
     },
     "metadata": {
      "needs_background": "light"
     },
     "output_type": "display_data"
    }
   ],
   "source": [
    "from sklearn.metrics import confusion_matrix\n",
    "matrix = confusion_matrix(y_true, y_pred, labels=np.unique(y_true))\n",
    "df_matrix = pd.DataFrame(matrix, index=np.unique(y_true), columns=np.unique(y_true))\n",
    "plt.matshow(df_matrix);"
   ]
  },
  {
   "cell_type": "markdown",
   "metadata": {},
   "source": [
    "### Heat Map"
   ]
  },
  {
   "cell_type": "code",
   "execution_count": 81,
   "metadata": {},
   "outputs": [
    {
     "data": {
      "text/plain": [
       "<matplotlib.axes._subplots.AxesSubplot at 0x7fd8c01b7310>"
      ]
     },
     "execution_count": 81,
     "metadata": {},
     "output_type": "execute_result"
    },
    {
     "data": {
      "image/png": "[encoded data removed]",
      "text/plain": [
       "<Figure size 720x504 with 2 Axes>"
      ]
     },
     "metadata": {
      "needs_background": "light"
     },
     "output_type": "display_data"
    }
   ],
   "source": [
    "import seaborn as sn\n",
    "plt.figure(figsize=(10,7))\n",
    "plt.title(\"Heat Map\")\n",
    "sn.heatmap(df_matrix, annot=True, linewidths=.5, annot_kws={\"size\":10})"
   ]
  },
  {
   "cell_type": "code",
   "execution_count": null,
   "metadata": {},
   "outputs": [],
   "source": []
  }
 ],
 "metadata": {
  "kernelspec": {
   "display_name": "Python 3",
   "language": "python",
   "name": "python3"
  },
  "language_info": {
   "codemirror_mode": {
    "name": "ipython",
    "version": 3
   },
   "file_extension": ".py",
   "mimetype": "text/x-python",
   "name": "python",
   "nbconvert_exporter": "python",
   "pygments_lexer": "ipython3",
   "version": "3.7.4"
  }
 },
 "nbformat": 4,
 "nbformat_minor": 4
}
