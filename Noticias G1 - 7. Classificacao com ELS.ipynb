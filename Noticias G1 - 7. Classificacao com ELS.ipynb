{
 "cells": [
  {
   "cell_type": "markdown",
   "metadata": {},
   "source": [
    "# Notícias G1 - 7. Classificação com ELS"
   ]
  },
  {
   "cell_type": "markdown",
   "metadata": {},
   "source": [
    "Utilizaremos query string com o termo more_like_this para simular uma classificação através de uma consulta ao Elastic Search. Dada a notícia cuja categoria é desconhecida, o Elastic Search irá procurar notícias semelhantes e usaremos a classificação destas para inferir a da notícia a ser classificada."
   ]
  },
  {
   "cell_type": "markdown",
   "metadata": {},
   "source": [
    "## Imports:"
   ]
  },
  {
   "cell_type": "markdown",
   "metadata": {},
   "source": [
    "Importes de bibliotecas usadas com frequência no código."
   ]
  },
  {
   "cell_type": "code",
   "execution_count": 213,
   "metadata": {},
   "outputs": [],
   "source": [
    "import pandas as pd\n",
    "import numpy as np"
   ]
  },
  {
   "cell_type": "markdown",
   "metadata": {},
   "source": [
    "## Conectando ao Elastic Search:"
   ]
  },
  {
   "cell_type": "markdown",
   "metadata": {},
   "source": [
    "Estabelecendo a conexão para realizar as operações no banco de dados."
   ]
  },
  {
   "cell_type": "code",
   "execution_count": 214,
   "metadata": {},
   "outputs": [
    {
     "name": "stdout",
     "output_type": "stream",
     "text": [
      "Requirement already satisfied: elasticsearch in /Users/edprata/anaconda3/lib/python3.7/site-packages (7.10.0)\n",
      "Requirement already satisfied: urllib3<2,>=1.21.1 in /Users/edprata/anaconda3/lib/python3.7/site-packages (from elasticsearch) (1.24.2)\n",
      "Requirement already satisfied: certifi in /Users/edprata/anaconda3/lib/python3.7/site-packages (from elasticsearch) (2019.9.11)\n"
     ]
    },
    {
     "data": {
      "text/plain": [
       "{'name': 'elastic_node01',\n",
       " 'cluster_name': 'docker-cluster',\n",
       " 'cluster_uuid': 'euW7vXsqSruqSHXTKey9IQ',\n",
       " 'version': {'number': '7.9.2',\n",
       "  'build_flavor': 'default',\n",
       "  'build_type': 'docker',\n",
       "  'build_hash': 'd34da0ea4a966c4e49417f2da2f244e3e97b4e6e',\n",
       "  'build_date': '2020-09-23T00:45:33.626720Z',\n",
       "  'build_snapshot': False,\n",
       "  'lucene_version': '8.6.2',\n",
       "  'minimum_wire_compatibility_version': '6.8.0',\n",
       "  'minimum_index_compatibility_version': '6.0.0-beta1'},\n",
       " 'tagline': 'You Know, for Search'}"
      ]
     },
     "execution_count": 214,
     "metadata": {},
     "output_type": "execute_result"
    }
   ],
   "source": [
    "!pip install elasticsearch\n",
    "import elasticsearch\n",
    "client = elasticsearch.Elasticsearch('localhost:9200')\n",
    "client.info()"
   ]
  },
  {
   "cell_type": "markdown",
   "metadata": {},
   "source": [
    "## Recuperando Registros com Categoria:"
   ]
  },
  {
   "cell_type": "markdown",
   "metadata": {},
   "source": [
    "Query para recuperar da base as notícias cujas categorias são conhecidas."
   ]
  },
  {
   "cell_type": "code",
   "execution_count": 215,
   "metadata": {},
   "outputs": [
    {
     "name": "stdout",
     "output_type": "stream",
     "text": [
      "Encontrado 909 resultados\n"
     ]
    }
   ],
   "source": [
    "query_string = {\n",
    "    \"query\": {\n",
    "        \"bool\": {\n",
    "            \"must_not\": {\n",
    "                \"term\": {\n",
    "                    \"categoria\": \"FALTANDO\"\n",
    "                }\n",
    "            }\n",
    "        }\n",
    "    }\n",
    "}\n",
    "\n",
    "results = client.search(index=index_name, body=query_string, size=1500)\n",
    "print(f\"Encontrado {results['hits']['total']['value']} resultados\")"
   ]
  },
  {
   "cell_type": "code",
   "execution_count": 216,
   "metadata": {},
   "outputs": [
    {
     "data": {
      "text/html": [
       "<div>\n",
       "<style scoped>\n",
       "    .dataframe tbody tr th:only-of-type {\n",
       "        vertical-align: middle;\n",
       "    }\n",
       "\n",
       "    .dataframe tbody tr th {\n",
       "        vertical-align: top;\n",
       "    }\n",
       "\n",
       "    .dataframe thead th {\n",
       "        text-align: right;\n",
       "    }\n",
       "</style>\n",
       "<table border=\"1\" class=\"dataframe\">\n",
       "  <thead>\n",
       "    <tr style=\"text-align: right;\">\n",
       "      <th></th>\n",
       "      <th>titulo</th>\n",
       "      <th>url</th>\n",
       "      <th>texto</th>\n",
       "      <th>categoria</th>\n",
       "      <th>texto_tratado</th>\n",
       "    </tr>\n",
       "  </thead>\n",
       "  <tbody>\n",
       "    <tr>\n",
       "      <td>0</td>\n",
       "      <td>Senado aprova projeto que criminaliza o 'stalk...</td>\n",
       "      <td>https://g1.globo.com/politica/noticia/2021/03/...</td>\n",
       "      <td>O Senado aprovou em sessão remota nesta terça...</td>\n",
       "      <td>politica</td>\n",
       "      <td>senado aprova projeto que criminaliza o stalki...</td>\n",
       "    </tr>\n",
       "    <tr>\n",
       "      <td>1</td>\n",
       "      <td>ANA FLOR: Lula elegível pode ser pá de cal na ...</td>\n",
       "      <td>https://g1.globo.com/economia/blog/ana-flor/po...</td>\n",
       "      <td>A mera possibilidade do ex-presidente Luiz In...</td>\n",
       "      <td>economia</td>\n",
       "      <td>ana flor lula elegvel pode ser p de cal na ver...</td>\n",
       "    </tr>\n",
       "    <tr>\n",
       "      <td>2</td>\n",
       "      <td>Nº de leitos para Covid pagos pelo Ministério ...</td>\n",
       "      <td>https://g1.globo.com/bemestar/noticia/2021/03/...</td>\n",
       "      <td>O número de leitos de UTI exclusivos para pac...</td>\n",
       "      <td>bemestar</td>\n",
       "      <td>n de leitos para covid pagos pelo ministrio da...</td>\n",
       "    </tr>\n",
       "    <tr>\n",
       "      <td>3</td>\n",
       "      <td>Ministro da Infraestrutura fala em adotar medi...</td>\n",
       "      <td>https://g1.globo.com/economia/noticia/2021/03/...</td>\n",
       "      <td>O ministro da Infraestrutura, Tarcísio de Fre...</td>\n",
       "      <td>economia</td>\n",
       "      <td>ministro da infraestrutura fala em adotar medi...</td>\n",
       "    </tr>\n",
       "    <tr>\n",
       "      <td>4</td>\n",
       "      <td>Exportação de carne suína do Brasil cresceu 6,...</td>\n",
       "      <td>https://g1.globo.com/economia/agronegocios/not...</td>\n",
       "      <td>As exportações de carne suína do Brasil ating...</td>\n",
       "      <td>economia</td>\n",
       "      <td>exportao de carne suna do brasil cresceu  no  ...</td>\n",
       "    </tr>\n",
       "    <tr>\n",
       "      <td>...</td>\n",
       "      <td>...</td>\n",
       "      <td>...</td>\n",
       "      <td>...</td>\n",
       "      <td>...</td>\n",
       "      <td>...</td>\n",
       "    </tr>\n",
       "    <tr>\n",
       "      <td>904</td>\n",
       "      <td>Veja se é possível obter a localização de algu...</td>\n",
       "      <td>https://g1.globo.com/economia/tecnologia/blog/...</td>\n",
       "      <td>Se você tem alguma dúvida sobre segurança da ...</td>\n",
       "      <td>economia</td>\n",
       "      <td>veja se  possvel obter a localizao de algum pe...</td>\n",
       "    </tr>\n",
       "    <tr>\n",
       "      <td>905</td>\n",
       "      <td>Senado: proposta de fim do piso de saúde e edu...</td>\n",
       "      <td>https://g1.globo.com/politica/noticia/2021/02/...</td>\n",
       "      <td>Líderes partidários do Senado ouvidos pelo G1...</td>\n",
       "      <td>politica</td>\n",
       "      <td>senado proposta de fim do piso de sade e educa...</td>\n",
       "    </tr>\n",
       "    <tr>\n",
       "      <td>906</td>\n",
       "      <td>Bolsonaro edita decreto que obriga posto a inf...</td>\n",
       "      <td>https://g1.globo.com/economia/noticia/2021/02/...</td>\n",
       "      <td>Um decreto editado pelo presidente Jair Bolso...</td>\n",
       "      <td>economia</td>\n",
       "      <td>bolsonaro edita decreto que obriga posto a inf...</td>\n",
       "    </tr>\n",
       "    <tr>\n",
       "      <td>907</td>\n",
       "      <td>Concurso IBGE/Censo 2021: inscrições para mais...</td>\n",
       "      <td>https://g1.globo.com/economia/concursos-e-empr...</td>\n",
       "      <td>Quem pretende se candidatar a uma das 181.898...</td>\n",
       "      <td>economia</td>\n",
       "      <td>concurso ibgecenso  inscries para mais de  mil...</td>\n",
       "    </tr>\n",
       "    <tr>\n",
       "      <td>908</td>\n",
       "      <td>CNI diz que 69% das grandes empresas industria...</td>\n",
       "      <td>https://g1.globo.com/economia/noticia/2021/02/...</td>\n",
       "      <td>Levantamento divulgado nesta terça-feira (23)...</td>\n",
       "      <td>economia</td>\n",
       "      <td>cni diz que  das grandes empresas industriais ...</td>\n",
       "    </tr>\n",
       "  </tbody>\n",
       "</table>\n",
       "<p>909 rows × 5 columns</p>\n",
       "</div>"
      ],
      "text/plain": [
       "                                                titulo  \\\n",
       "0    Senado aprova projeto que criminaliza o 'stalk...   \n",
       "1    ANA FLOR: Lula elegível pode ser pá de cal na ...   \n",
       "2    Nº de leitos para Covid pagos pelo Ministério ...   \n",
       "3    Ministro da Infraestrutura fala em adotar medi...   \n",
       "4    Exportação de carne suína do Brasil cresceu 6,...   \n",
       "..                                                 ...   \n",
       "904  Veja se é possível obter a localização de algu...   \n",
       "905  Senado: proposta de fim do piso de saúde e edu...   \n",
       "906  Bolsonaro edita decreto que obriga posto a inf...   \n",
       "907  Concurso IBGE/Censo 2021: inscrições para mais...   \n",
       "908  CNI diz que 69% das grandes empresas industria...   \n",
       "\n",
       "                                                   url  \\\n",
       "0    https://g1.globo.com/politica/noticia/2021/03/...   \n",
       "1    https://g1.globo.com/economia/blog/ana-flor/po...   \n",
       "2    https://g1.globo.com/bemestar/noticia/2021/03/...   \n",
       "3    https://g1.globo.com/economia/noticia/2021/03/...   \n",
       "4    https://g1.globo.com/economia/agronegocios/not...   \n",
       "..                                                 ...   \n",
       "904  https://g1.globo.com/economia/tecnologia/blog/...   \n",
       "905  https://g1.globo.com/politica/noticia/2021/02/...   \n",
       "906  https://g1.globo.com/economia/noticia/2021/02/...   \n",
       "907  https://g1.globo.com/economia/concursos-e-empr...   \n",
       "908  https://g1.globo.com/economia/noticia/2021/02/...   \n",
       "\n",
       "                                                 texto categoria  \\\n",
       "0     O Senado aprovou em sessão remota nesta terça...  politica   \n",
       "1     A mera possibilidade do ex-presidente Luiz In...  economia   \n",
       "2     O número de leitos de UTI exclusivos para pac...  bemestar   \n",
       "3     O ministro da Infraestrutura, Tarcísio de Fre...  economia   \n",
       "4     As exportações de carne suína do Brasil ating...  economia   \n",
       "..                                                 ...       ...   \n",
       "904   Se você tem alguma dúvida sobre segurança da ...  economia   \n",
       "905   Líderes partidários do Senado ouvidos pelo G1...  politica   \n",
       "906   Um decreto editado pelo presidente Jair Bolso...  economia   \n",
       "907   Quem pretende se candidatar a uma das 181.898...  economia   \n",
       "908   Levantamento divulgado nesta terça-feira (23)...  economia   \n",
       "\n",
       "                                         texto_tratado  \n",
       "0    senado aprova projeto que criminaliza o stalki...  \n",
       "1    ana flor lula elegvel pode ser p de cal na ver...  \n",
       "2    n de leitos para covid pagos pelo ministrio da...  \n",
       "3    ministro da infraestrutura fala em adotar medi...  \n",
       "4    exportao de carne suna do brasil cresceu  no  ...  \n",
       "..                                                 ...  \n",
       "904  veja se  possvel obter a localizao de algum pe...  \n",
       "905  senado proposta de fim do piso de sade e educa...  \n",
       "906  bolsonaro edita decreto que obriga posto a inf...  \n",
       "907  concurso ibgecenso  inscries para mais de  mil...  \n",
       "908  cni diz que  das grandes empresas industriais ...  \n",
       "\n",
       "[909 rows x 5 columns]"
      ]
     },
     "execution_count": 216,
     "metadata": {},
     "output_type": "execute_result"
    }
   ],
   "source": [
    "# extraindo os documentos do índice\n",
    "documents = [hit['_source'] for hit in results['hits']['hits']] \n",
    "\n",
    "# convertendo a lista de dicionários numa dataframe\n",
    "noticias_conhecidas = pd.DataFrame.from_records(documents)\n",
    "\n",
    "noticias_conhecidas"
   ]
  },
  {
   "cell_type": "markdown",
   "metadata": {},
   "source": [
    "## Recuperando Registros sem Categoria:"
   ]
  },
  {
   "cell_type": "markdown",
   "metadata": {},
   "source": [
    "Query para recuperar todos os registros sem categoria conhecida, ou seja, notícias que precisamos classificar."
   ]
  },
  {
   "cell_type": "code",
   "execution_count": 217,
   "metadata": {},
   "outputs": [
    {
     "name": "stdout",
     "output_type": "stream",
     "text": [
      "Encontrado 1044 resultados\n"
     ]
    }
   ],
   "source": [
    "query_string = {\n",
    "    \"query\": {\n",
    "        \"term\": {\"categoria\": \"FALTANDO\"}\n",
    "    }\n",
    "}\n",
    "\n",
    "results = client.search(index=index_name, body=query_string, size=1500)\n",
    "print(f\"Encontrado {results['hits']['total']['value']} resultados\")"
   ]
  },
  {
   "cell_type": "code",
   "execution_count": 218,
   "metadata": {},
   "outputs": [
    {
     "data": {
      "text/html": [
       "<div>\n",
       "<style scoped>\n",
       "    .dataframe tbody tr th:only-of-type {\n",
       "        vertical-align: middle;\n",
       "    }\n",
       "\n",
       "    .dataframe tbody tr th {\n",
       "        vertical-align: top;\n",
       "    }\n",
       "\n",
       "    .dataframe thead th {\n",
       "        text-align: right;\n",
       "    }\n",
       "</style>\n",
       "<table border=\"1\" class=\"dataframe\">\n",
       "  <thead>\n",
       "    <tr style=\"text-align: right;\">\n",
       "      <th></th>\n",
       "      <th>titulo</th>\n",
       "      <th>url</th>\n",
       "      <th>texto</th>\n",
       "      <th>categoria</th>\n",
       "      <th>texto_tratado</th>\n",
       "    </tr>\n",
       "  </thead>\n",
       "  <tbody>\n",
       "    <tr>\n",
       "      <td>0</td>\n",
       "      <td>Governo de SP estuda paralisar o Campeonato Pa...</td>\n",
       "      <td>https://globoesporte.globo.com/sp/futebol/camp...</td>\n",
       "      <td>O governo do Estado de São Paulo estuda paral...</td>\n",
       "      <td>FALTANDO</td>\n",
       "      <td>governo de sp estuda paralisar o campeonato pa...</td>\n",
       "    </tr>\n",
       "    <tr>\n",
       "      <td>1</td>\n",
       "      <td>Coroa britânica diz que acusações de racismo s...</td>\n",
       "      <td>https://g1.globo.com/mundo/noticia/2021/03/09/...</td>\n",
       "      <td>A família real britânica disse, nesta terça-f...</td>\n",
       "      <td>FALTANDO</td>\n",
       "      <td>coroa britnica diz que acusaes de racismo sero...</td>\n",
       "    </tr>\n",
       "    <tr>\n",
       "      <td>2</td>\n",
       "      <td>Eike e mais 6 são denunciados por manipulação ...</td>\n",
       "      <td>https://g1.globo.com/rj/rio-de-janeiro/noticia...</td>\n",
       "      <td>O Ministério Público Federal (MPF) denunciou ...</td>\n",
       "      <td>FALTANDO</td>\n",
       "      <td>eike e mais  so denunciados por manipulao de m...</td>\n",
       "    </tr>\n",
       "    <tr>\n",
       "      <td>3</td>\n",
       "      <td>Pedido de ajuda? Vídeo mostra cão ferido entra...</td>\n",
       "      <td>https://g1.globo.com/ce/ceara/noticia/2021/03/...</td>\n",
       "      <td>Um cachorro vira-lata entrou sozinho em uma c...</td>\n",
       "      <td>FALTANDO</td>\n",
       "      <td>pedido de ajuda vdeo mostra co ferido entrando...</td>\n",
       "    </tr>\n",
       "    <tr>\n",
       "      <td>4</td>\n",
       "      <td>Mato Grosso segue sem conseguir transferir pac...</td>\n",
       "      <td>https://g1.globo.com/mt/mato-grosso/noticia/20...</td>\n",
       "      <td>A fila de pacientes que esperam por leito de ...</td>\n",
       "      <td>FALTANDO</td>\n",
       "      <td>mato grosso segue sem conseguir transferir pac...</td>\n",
       "    </tr>\n",
       "    <tr>\n",
       "      <td>...</td>\n",
       "      <td>...</td>\n",
       "      <td>...</td>\n",
       "      <td>...</td>\n",
       "      <td>...</td>\n",
       "      <td>...</td>\n",
       "    </tr>\n",
       "    <tr>\n",
       "      <td>1039</td>\n",
       "      <td>Polícia Federal de Campinas faz operação contr...</td>\n",
       "      <td>https://g1.globo.com/sp/campinas-regiao/notici...</td>\n",
       "      <td>A Polícia Federal (PF) de Campinas (SP) defla...</td>\n",
       "      <td>FALTANDO</td>\n",
       "      <td>polcia federal de campinas faz operao contra f...</td>\n",
       "    </tr>\n",
       "    <tr>\n",
       "      <td>1040</td>\n",
       "      <td>Butantan entrega 1,2 milhão de doses da Corona...</td>\n",
       "      <td>https://g1.globo.com/sp/sao-paulo/noticia/2021...</td>\n",
       "      <td>O Instituto Butantan entrega nesta terça-feir...</td>\n",
       "      <td>FALTANDO</td>\n",
       "      <td>butantan entrega  milho de doses da coronavac ...</td>\n",
       "    </tr>\n",
       "    <tr>\n",
       "      <td>1041</td>\n",
       "      <td>Países do G7 condenam violência contra manifes...</td>\n",
       "      <td>https://g1.globo.com/mundo/noticia/2021/02/23/...</td>\n",
       "      <td>Os ministros das Relações Exteriores dos país...</td>\n",
       "      <td>FALTANDO</td>\n",
       "      <td>pases do g condenam violncia contra manifestan...</td>\n",
       "    </tr>\n",
       "    <tr>\n",
       "      <td>1042</td>\n",
       "      <td>Empreendedorismo formal gera vantagens e oport...</td>\n",
       "      <td>https://g1.globo.com/sp/presidente-prudente-re...</td>\n",
       "      <td>Partir para um negócio próprio é a saída que ...</td>\n",
       "      <td>FALTANDO</td>\n",
       "      <td>empreendedorismo formal gera vantagens e oport...</td>\n",
       "    </tr>\n",
       "    <tr>\n",
       "      <td>1043</td>\n",
       "      <td>Dois milhões de doses da vacina de Oxford cheg...</td>\n",
       "      <td>https://g1.globo.com/rj/rio-de-janeiro/noticia...</td>\n",
       "      <td>O avião com 2 milhões de doses prontas da vac...</td>\n",
       "      <td>FALTANDO</td>\n",
       "      <td>dois milhes de doses da vacina de oxford chega...</td>\n",
       "    </tr>\n",
       "  </tbody>\n",
       "</table>\n",
       "<p>1044 rows × 5 columns</p>\n",
       "</div>"
      ],
      "text/plain": [
       "                                                 titulo  \\\n",
       "0     Governo de SP estuda paralisar o Campeonato Pa...   \n",
       "1     Coroa britânica diz que acusações de racismo s...   \n",
       "2     Eike e mais 6 são denunciados por manipulação ...   \n",
       "3     Pedido de ajuda? Vídeo mostra cão ferido entra...   \n",
       "4     Mato Grosso segue sem conseguir transferir pac...   \n",
       "...                                                 ...   \n",
       "1039  Polícia Federal de Campinas faz operação contr...   \n",
       "1040  Butantan entrega 1,2 milhão de doses da Corona...   \n",
       "1041  Países do G7 condenam violência contra manifes...   \n",
       "1042  Empreendedorismo formal gera vantagens e oport...   \n",
       "1043  Dois milhões de doses da vacina de Oxford cheg...   \n",
       "\n",
       "                                                    url  \\\n",
       "0     https://globoesporte.globo.com/sp/futebol/camp...   \n",
       "1     https://g1.globo.com/mundo/noticia/2021/03/09/...   \n",
       "2     https://g1.globo.com/rj/rio-de-janeiro/noticia...   \n",
       "3     https://g1.globo.com/ce/ceara/noticia/2021/03/...   \n",
       "4     https://g1.globo.com/mt/mato-grosso/noticia/20...   \n",
       "...                                                 ...   \n",
       "1039  https://g1.globo.com/sp/campinas-regiao/notici...   \n",
       "1040  https://g1.globo.com/sp/sao-paulo/noticia/2021...   \n",
       "1041  https://g1.globo.com/mundo/noticia/2021/02/23/...   \n",
       "1042  https://g1.globo.com/sp/presidente-prudente-re...   \n",
       "1043  https://g1.globo.com/rj/rio-de-janeiro/noticia...   \n",
       "\n",
       "                                                  texto categoria  \\\n",
       "0      O governo do Estado de São Paulo estuda paral...  FALTANDO   \n",
       "1      A família real britânica disse, nesta terça-f...  FALTANDO   \n",
       "2      O Ministério Público Federal (MPF) denunciou ...  FALTANDO   \n",
       "3      Um cachorro vira-lata entrou sozinho em uma c...  FALTANDO   \n",
       "4      A fila de pacientes que esperam por leito de ...  FALTANDO   \n",
       "...                                                 ...       ...   \n",
       "1039   A Polícia Federal (PF) de Campinas (SP) defla...  FALTANDO   \n",
       "1040   O Instituto Butantan entrega nesta terça-feir...  FALTANDO   \n",
       "1041   Os ministros das Relações Exteriores dos país...  FALTANDO   \n",
       "1042   Partir para um negócio próprio é a saída que ...  FALTANDO   \n",
       "1043   O avião com 2 milhões de doses prontas da vac...  FALTANDO   \n",
       "\n",
       "                                          texto_tratado  \n",
       "0     governo de sp estuda paralisar o campeonato pa...  \n",
       "1     coroa britnica diz que acusaes de racismo sero...  \n",
       "2     eike e mais  so denunciados por manipulao de m...  \n",
       "3     pedido de ajuda vdeo mostra co ferido entrando...  \n",
       "4     mato grosso segue sem conseguir transferir pac...  \n",
       "...                                                 ...  \n",
       "1039  polcia federal de campinas faz operao contra f...  \n",
       "1040  butantan entrega  milho de doses da coronavac ...  \n",
       "1041  pases do g condenam violncia contra manifestan...  \n",
       "1042  empreendedorismo formal gera vantagens e oport...  \n",
       "1043  dois milhes de doses da vacina de oxford chega...  \n",
       "\n",
       "[1044 rows x 5 columns]"
      ]
     },
     "execution_count": 218,
     "metadata": {},
     "output_type": "execute_result"
    }
   ],
   "source": [
    "# extraindo os documentos do índice\n",
    "documents = [hit['_source'] for hit in results['hits']['hits']] \n",
    "\n",
    "# convertendo a lista de dicionários numa dataframe\n",
    "noticias_desconhecidas = pd.DataFrame.from_records(documents)\n",
    "\n",
    "noticias_desconhecidas"
   ]
  },
  {
   "cell_type": "markdown",
   "metadata": {},
   "source": [
    "## Método para Classificação da Notícia pelo Elastic:"
   ]
  },
  {
   "cell_type": "markdown",
   "metadata": {},
   "source": [
    "Realiza uma query com o termo more_like_this para encontrar notícias semelhantes entre a massa de notícias com categorias conhecidas, a fim de utilizar estas categorias para a classificação."
   ]
  },
  {
   "cell_type": "code",
   "execution_count": 239,
   "metadata": {},
   "outputs": [],
   "source": [
    "def classificar(index_name, text, size=10, fields=['_source']):\n",
    "    query = {\n",
    "        \"query\": {\n",
    "            \"bool\": {\n",
    "                \"must_not\": {\n",
    "                    \"term\": {\n",
    "                        \"categoria\": \"FALTANDO\"\n",
    "                    }\n",
    "                },\n",
    "                \"must\": {\n",
    "                    \"more_like_this\": {\n",
    "                        \"fields\": fields,\n",
    "                        \"like\": text,\n",
    "                        \"min_term_freq\": 1,\n",
    "                        \"max_query_terms\": 40,\n",
    "                    }\n",
    "                }\n",
    "            }\n",
    "        },\n",
    "    }\n",
    "    \n",
    "    return client.search(index=index_name, body=query, size=size)"
   ]
  },
  {
   "cell_type": "markdown",
   "metadata": {},
   "source": [
    "## Método para Processamento das Notícias:"
   ]
  },
  {
   "cell_type": "markdown",
   "metadata": {},
   "source": [
    "Processa a massa de notícias a serem classificadas. Para cada notícia de categoria desconhecida, serão selecionadas 50 notícias de categoria conhecida. Em seguida, será averiguado qual a categoria de maior frequência entre as 50 selecionadas. Essa categoria de maior frequência será utilizada para a classificação."
   ]
  },
  {
   "cell_type": "code",
   "execution_count": 246,
   "metadata": {},
   "outputs": [],
   "source": [
    "import operator\n",
    "\n",
    "def processar_massa (data):\n",
    "\n",
    "    classificacao = []\n",
    "\n",
    "    for index in data.index:\n",
    "\n",
    "        noticia = data.loc[index]\n",
    "        response = classificar(index_name, noticia.texto_tratado, 50, ['texto_tratado'])\n",
    "        counter = Counter([hit['_source']['categoria'] for hit in response['hits']['hits']])\n",
    "\n",
    "        if bool(counter):\n",
    "            classificacao.append(max(counter.items(), key=operator.itemgetter(1))[0])\n",
    "        else:\n",
    "            classificacao.append(\"FALTANDO\")\n",
    "\n",
    "        #print(response['hits']['hits'][0]['_source']['categoria'])\n",
    "        #print([hit['_source']['categoria'] for hit in response['hits']['hits']])\n",
    "        \n",
    "    return classificacao"
   ]
  },
  {
   "cell_type": "markdown",
   "metadata": {},
   "source": [
    "## Processando Massa de Teste e Medindo Desempenho:"
   ]
  },
  {
   "cell_type": "markdown",
   "metadata": {},
   "source": [
    "Será processada a massa de notícias com categoria conhecida para realização de teste e aferição de desempenho pela métrica da acurácia."
   ]
  },
  {
   "cell_type": "code",
   "execution_count": 247,
   "metadata": {},
   "outputs": [
    {
     "data": {
      "text/plain": [
       "0.8932893289328933"
      ]
     },
     "execution_count": 247,
     "metadata": {},
     "output_type": "execute_result"
    }
   ],
   "source": [
    "classificacao = processar_massa(noticias_conhecidas)\n",
    "sum([c==t for c, t in zip(classificacao, noticias_conhecidas['categoria'])])/len(classificacao)"
   ]
  },
  {
   "cell_type": "markdown",
   "metadata": {},
   "source": [
    "A acurácia da massa de teste foi bastante alta, o que demostra a eficiência do método aplicado."
   ]
  },
  {
   "cell_type": "markdown",
   "metadata": {},
   "source": [
    "## Classificando Notícias de Categoria Desconhecida:"
   ]
  },
  {
   "cell_type": "markdown",
   "metadata": {},
   "source": [
    "O método de classificação será aplicado à massa de notícias sem categorias conhecidas."
   ]
  },
  {
   "cell_type": "code",
   "execution_count": 251,
   "metadata": {},
   "outputs": [
    {
     "data": {
      "text/plain": [
       "1044"
      ]
     },
     "execution_count": 251,
     "metadata": {},
     "output_type": "execute_result"
    }
   ],
   "source": [
    "classificacao = processar_massa(noticias_desconhecidas)\n",
    "len(classificacao)"
   ]
  },
  {
   "cell_type": "markdown",
   "metadata": {},
   "source": [
    "## Análise dos Resultados: Distribuição por Categoria"
   ]
  },
  {
   "cell_type": "markdown",
   "metadata": {},
   "source": [
    "Será apresentado gráfico que demonstra a distribuição dos dados por categoria."
   ]
  },
  {
   "cell_type": "code",
   "execution_count": 252,
   "metadata": {},
   "outputs": [
    {
     "name": "stderr",
     "output_type": "stream",
     "text": [
      "/Users/edprata/anaconda3/lib/python3.7/site-packages/ipykernel_launcher.py:9: MatplotlibDeprecationWarning: Non-1D inputs to pie() are currently squeeze()d, but this behavior is deprecated since 3.1 and will be removed in 3.3; pass a 1D array instead.\n",
      "  if __name__ == '__main__':\n"
     ]
    },
    {
     "data": {
      "image/png": "[encoded data removed]",
      "text/plain": [
       "<Figure size 504x504 with 1 Axes>"
      ]
     },
     "metadata": {},
     "output_type": "display_data"
    }
   ],
   "source": [
    "import matplotlib.pyplot as plt\n",
    "\n",
    "def func(pct, allvals):\n",
    "    absolute = int(pct/100.*np.sum(allvals))\n",
    "    return \"{:.1f}% ({:d})\".format(pct, absolute)\n",
    "\n",
    "def pie(title, legend, data, label):\n",
    "  fig, ax = plt.subplots(figsize=(7, 7), subplot_kw=dict(aspect=\"equal\"))\n",
    "  wedges, texts, autotexts = ax.pie(data, autopct=lambda pct: func(pct, data), textprops=dict(color=\"w\"))\n",
    "  ax.legend(wedges, label, title=legend, loc=\"center left\", bbox_to_anchor=(1, 0, 0.5, 1))\n",
    "  plt.setp(autotexts, size=8, weight=\"bold\")\n",
    "  ax.set_title(title)\n",
    "  plt.show()\n",
    "\n",
    "from collections import Counter\n",
    "counter = sorted(Counter(classificacao).items(), key=lambda i: i[0])\n",
    "ordered = (pd.DataFrame(counter, columns=['cat', 'valor'])).drop([0])\n",
    "title = \"Distribuição das notícias classificadas pelo Elastic\"\n",
    "pie(title, \"Categoria\", ordered[['valor']].values, (ordered['cat']).values)"
   ]
  },
  {
   "cell_type": "markdown",
   "metadata": {},
   "source": [
    "## Análise de Resultados: Verificação por Amostragem:"
   ]
  },
  {
   "cell_type": "markdown",
   "metadata": {},
   "source": [
    "Análise manual de uma amostra dos dados para verificar a eficiência da classificação."
   ]
  },
  {
   "cell_type": "markdown",
   "metadata": {},
   "source": [
    "### Incluindo a classificação no DataFrame de notícias:"
   ]
  },
  {
   "cell_type": "markdown",
   "metadata": {},
   "source": [
    "As categorias obtidas pela classificação serão incorporadas ao DataFrame com as notícias."
   ]
  },
  {
   "cell_type": "code",
   "execution_count": 254,
   "metadata": {},
   "outputs": [
    {
     "data": {
      "text/html": [
       "<div>\n",
       "<style scoped>\n",
       "    .dataframe tbody tr th:only-of-type {\n",
       "        vertical-align: middle;\n",
       "    }\n",
       "\n",
       "    .dataframe tbody tr th {\n",
       "        vertical-align: top;\n",
       "    }\n",
       "\n",
       "    .dataframe thead th {\n",
       "        text-align: right;\n",
       "    }\n",
       "</style>\n",
       "<table border=\"1\" class=\"dataframe\">\n",
       "  <thead>\n",
       "    <tr style=\"text-align: right;\">\n",
       "      <th></th>\n",
       "      <th>titulo</th>\n",
       "      <th>url</th>\n",
       "      <th>texto</th>\n",
       "      <th>categoria</th>\n",
       "      <th>texto_tratado</th>\n",
       "    </tr>\n",
       "  </thead>\n",
       "  <tbody>\n",
       "    <tr>\n",
       "      <td>0</td>\n",
       "      <td>Governo de SP estuda paralisar o Campeonato Pa...</td>\n",
       "      <td>https://globoesporte.globo.com/sp/futebol/camp...</td>\n",
       "      <td>O governo do Estado de São Paulo estuda paral...</td>\n",
       "      <td>politica</td>\n",
       "      <td>governo de sp estuda paralisar o campeonato pa...</td>\n",
       "    </tr>\n",
       "    <tr>\n",
       "      <td>1</td>\n",
       "      <td>Coroa britânica diz que acusações de racismo s...</td>\n",
       "      <td>https://g1.globo.com/mundo/noticia/2021/03/09/...</td>\n",
       "      <td>A família real britânica disse, nesta terça-f...</td>\n",
       "      <td>pop-arte</td>\n",
       "      <td>coroa britnica diz que acusaes de racismo sero...</td>\n",
       "    </tr>\n",
       "    <tr>\n",
       "      <td>2</td>\n",
       "      <td>Eike e mais 6 são denunciados por manipulação ...</td>\n",
       "      <td>https://g1.globo.com/rj/rio-de-janeiro/noticia...</td>\n",
       "      <td>O Ministério Público Federal (MPF) denunciou ...</td>\n",
       "      <td>economia</td>\n",
       "      <td>eike e mais  so denunciados por manipulao de m...</td>\n",
       "    </tr>\n",
       "    <tr>\n",
       "      <td>3</td>\n",
       "      <td>Pedido de ajuda? Vídeo mostra cão ferido entra...</td>\n",
       "      <td>https://g1.globo.com/ce/ceara/noticia/2021/03/...</td>\n",
       "      <td>Um cachorro vira-lata entrou sozinho em uma c...</td>\n",
       "      <td>economia</td>\n",
       "      <td>pedido de ajuda vdeo mostra co ferido entrando...</td>\n",
       "    </tr>\n",
       "    <tr>\n",
       "      <td>4</td>\n",
       "      <td>Mato Grosso segue sem conseguir transferir pac...</td>\n",
       "      <td>https://g1.globo.com/mt/mato-grosso/noticia/20...</td>\n",
       "      <td>A fila de pacientes que esperam por leito de ...</td>\n",
       "      <td>bemestar</td>\n",
       "      <td>mato grosso segue sem conseguir transferir pac...</td>\n",
       "    </tr>\n",
       "    <tr>\n",
       "      <td>...</td>\n",
       "      <td>...</td>\n",
       "      <td>...</td>\n",
       "      <td>...</td>\n",
       "      <td>...</td>\n",
       "      <td>...</td>\n",
       "    </tr>\n",
       "    <tr>\n",
       "      <td>1039</td>\n",
       "      <td>Polícia Federal de Campinas faz operação contr...</td>\n",
       "      <td>https://g1.globo.com/sp/campinas-regiao/notici...</td>\n",
       "      <td>A Polícia Federal (PF) de Campinas (SP) defla...</td>\n",
       "      <td>politica</td>\n",
       "      <td>polcia federal de campinas faz operao contra f...</td>\n",
       "    </tr>\n",
       "    <tr>\n",
       "      <td>1040</td>\n",
       "      <td>Butantan entrega 1,2 milhão de doses da Corona...</td>\n",
       "      <td>https://g1.globo.com/sp/sao-paulo/noticia/2021...</td>\n",
       "      <td>O Instituto Butantan entrega nesta terça-feir...</td>\n",
       "      <td>bemestar</td>\n",
       "      <td>butantan entrega  milho de doses da coronavac ...</td>\n",
       "    </tr>\n",
       "    <tr>\n",
       "      <td>1041</td>\n",
       "      <td>Países do G7 condenam violência contra manifes...</td>\n",
       "      <td>https://g1.globo.com/mundo/noticia/2021/02/23/...</td>\n",
       "      <td>Os ministros das Relações Exteriores dos país...</td>\n",
       "      <td>politica</td>\n",
       "      <td>pases do g condenam violncia contra manifestan...</td>\n",
       "    </tr>\n",
       "    <tr>\n",
       "      <td>1042</td>\n",
       "      <td>Empreendedorismo formal gera vantagens e oport...</td>\n",
       "      <td>https://g1.globo.com/sp/presidente-prudente-re...</td>\n",
       "      <td>Partir para um negócio próprio é a saída que ...</td>\n",
       "      <td>economia</td>\n",
       "      <td>empreendedorismo formal gera vantagens e oport...</td>\n",
       "    </tr>\n",
       "    <tr>\n",
       "      <td>1043</td>\n",
       "      <td>Dois milhões de doses da vacina de Oxford cheg...</td>\n",
       "      <td>https://g1.globo.com/rj/rio-de-janeiro/noticia...</td>\n",
       "      <td>O avião com 2 milhões de doses prontas da vac...</td>\n",
       "      <td>bemestar</td>\n",
       "      <td>dois milhes de doses da vacina de oxford chega...</td>\n",
       "    </tr>\n",
       "  </tbody>\n",
       "</table>\n",
       "<p>1044 rows × 5 columns</p>\n",
       "</div>"
      ],
      "text/plain": [
       "                                                 titulo  \\\n",
       "0     Governo de SP estuda paralisar o Campeonato Pa...   \n",
       "1     Coroa britânica diz que acusações de racismo s...   \n",
       "2     Eike e mais 6 são denunciados por manipulação ...   \n",
       "3     Pedido de ajuda? Vídeo mostra cão ferido entra...   \n",
       "4     Mato Grosso segue sem conseguir transferir pac...   \n",
       "...                                                 ...   \n",
       "1039  Polícia Federal de Campinas faz operação contr...   \n",
       "1040  Butantan entrega 1,2 milhão de doses da Corona...   \n",
       "1041  Países do G7 condenam violência contra manifes...   \n",
       "1042  Empreendedorismo formal gera vantagens e oport...   \n",
       "1043  Dois milhões de doses da vacina de Oxford cheg...   \n",
       "\n",
       "                                                    url  \\\n",
       "0     https://globoesporte.globo.com/sp/futebol/camp...   \n",
       "1     https://g1.globo.com/mundo/noticia/2021/03/09/...   \n",
       "2     https://g1.globo.com/rj/rio-de-janeiro/noticia...   \n",
       "3     https://g1.globo.com/ce/ceara/noticia/2021/03/...   \n",
       "4     https://g1.globo.com/mt/mato-grosso/noticia/20...   \n",
       "...                                                 ...   \n",
       "1039  https://g1.globo.com/sp/campinas-regiao/notici...   \n",
       "1040  https://g1.globo.com/sp/sao-paulo/noticia/2021...   \n",
       "1041  https://g1.globo.com/mundo/noticia/2021/02/23/...   \n",
       "1042  https://g1.globo.com/sp/presidente-prudente-re...   \n",
       "1043  https://g1.globo.com/rj/rio-de-janeiro/noticia...   \n",
       "\n",
       "                                                  texto categoria  \\\n",
       "0      O governo do Estado de São Paulo estuda paral...  politica   \n",
       "1      A família real britânica disse, nesta terça-f...  pop-arte   \n",
       "2      O Ministério Público Federal (MPF) denunciou ...  economia   \n",
       "3      Um cachorro vira-lata entrou sozinho em uma c...  economia   \n",
       "4      A fila de pacientes que esperam por leito de ...  bemestar   \n",
       "...                                                 ...       ...   \n",
       "1039   A Polícia Federal (PF) de Campinas (SP) defla...  politica   \n",
       "1040   O Instituto Butantan entrega nesta terça-feir...  bemestar   \n",
       "1041   Os ministros das Relações Exteriores dos país...  politica   \n",
       "1042   Partir para um negócio próprio é a saída que ...  economia   \n",
       "1043   O avião com 2 milhões de doses prontas da vac...  bemestar   \n",
       "\n",
       "                                          texto_tratado  \n",
       "0     governo de sp estuda paralisar o campeonato pa...  \n",
       "1     coroa britnica diz que acusaes de racismo sero...  \n",
       "2     eike e mais  so denunciados por manipulao de m...  \n",
       "3     pedido de ajuda vdeo mostra co ferido entrando...  \n",
       "4     mato grosso segue sem conseguir transferir pac...  \n",
       "...                                                 ...  \n",
       "1039  polcia federal de campinas faz operao contra f...  \n",
       "1040  butantan entrega  milho de doses da coronavac ...  \n",
       "1041  pases do g condenam violncia contra manifestan...  \n",
       "1042  empreendedorismo formal gera vantagens e oport...  \n",
       "1043  dois milhes de doses da vacina de oxford chega...  \n",
       "\n",
       "[1044 rows x 5 columns]"
      ]
     },
     "execution_count": 254,
     "metadata": {},
     "output_type": "execute_result"
    }
   ],
   "source": [
    "noticias_desconhecidas['categoria'] = classificacao\n",
    "noticias_desconhecidas"
   ]
  },
  {
   "cell_type": "markdown",
   "metadata": {},
   "source": [
    "### Verificando amostra de resultados:"
   ]
  },
  {
   "cell_type": "markdown",
   "metadata": {},
   "source": [
    "Aqui é selecionado aleatóriamente uma quantidade de notícias que foi analisada visualmente para constatar se a classificação dada foi ou não coerente."
   ]
  },
  {
   "cell_type": "code",
   "execution_count": 257,
   "metadata": {},
   "outputs": [
    {
     "name": "stdout",
     "output_type": "stream",
     "text": [
      "30 economia Unknow\n",
      "Protestos pelo Dia Internacional da Mulher são registrados no mundo; veja fotos\n",
      " Grandes marchas de mulheres aconteceram em diversas partes do mundo neste 8 de março.  Mesmo em meio à pandemia do coronavírus, manifestantes usaram máscaras e saíram às ruas pedindo pelo fim da violência sexual, contra as desigualdades e em defesa do direito ao aborto seguro.  Em Paris, centenas marcharam pelas ruas no centro da cidade com cartazes e lenços roxos, cor que identifica a luta feminista.  Os eventos que marcam o Dia Internacional da Mulher acontecem no mundo inteiro.  Veja imagens de protestos, eventos e marchas ao redor do mundo: \n",
      "\n",
      "79 economia Unknow\n",
      "Homem é baleado após tentar impedir assédio em ônibus em São Gonçalo\n",
      " Patrick Motta Brandão, de 29 anos, foi baleado na tarde desta sexta-feira (5) quando tentou impedir que uma mulher fosse assediada dentro de um ônibus em Tribobó, São Gonçalo, Região Metropolitana do Rio.  Segundo informações da Polícia Militar, um homem ainda não identificado começou a assediar uma das passageiras, quando Patrick intercedeu e pediu que o desconhecido parasse de importuná-la. O homem, então, sacou uma arma, atirou no abdômen da vítima e fugiu logo em seguida.  Patrick foi levado ao Hospital Estadual Alberto Torres, no Colubandê, também em São Gonçalo. Segundo informações da Secretaria de Estado de Saúde, ele permanece internado na unidade e seu quadro é considerado estável.  O caso foi registrado na 74ª DP (Alcântara). \n",
      "\n",
      "103 pop-arte OK\n",
      "Salgueiro celebra 68 anos nesta sexta com live diferente e feita para emocionar \n",
      " O 68 anos da Acadêmicos do Salgueiro vão ser lembrados com muita festa em uma 'liveshow' nesta sexta-feira (5).  O presidente André Vaz disse que queria fazer uma celebração à altura da história do Salgueiro e da paixão de seus torcedores.  Por causa da pandemia - que já impossibilitou a realização dos desfiles em 2021 - ele foi buscar um modelo diferente de live e prestar homenagem a um dos seus fundadores.  “Não será como gostaríamos, com a quadra lotada e do jeito que o salgueirense merece. Mas, na medida do possível, será algo que vai emocionar a todos\", disse.  O protagonista do espetáculo será o compositor, baluarte: Djalma Sabiá. O sambista, de 95 anos, morreu em novembro do ano passado. Ele era o último fundador vivo e presidente de honra do Salgueiro.  Ele será revivido no espetáculo \"Quem conta é o Sabiá\", que tem previsão de durar 3 horas, por um ator. O show interativo terá a participação de todos os segmentos da escola.  No espetáculo, Sabiá vai contar a história do Salgueiro e dos nove títulos conquistados pela vermelho e branco da Tijuca.  Segundo a direção da agremiação todos os cuidados por causa da pandemia foram tomados.  A transmissão para todos os salgueirenses acontece a partir das 20h, no canal da escola de samba no Youtube (https://www.youtube.com/c/SalgueiroTV).  Djalma de Oliveira Costa, que ficou conhecido como Djalma Sabiá, foi intérprete, compositor e diretor de carnaval. Além do amor pela escola da Zona Norte, ele ficou conhecido por sua paixão pelo futebol. O apelido Sabiá surgiu nos campos de pelada do Morro do Salgueiro.  A paixão pelo samba veio da família. Filho da porta-bandeira Alzira de Oliveira, aos 12 anos desfilou pela primeira vez na Escola Azul e Branco, uma das três que mais tarde, em 1953, daria origem ao Salgueiro.  Sabiá foi autor de sambas como \"Navio negreiro\", em 1957; e \"Chico Rei\", em 1964. Ele também foi campeão dos sambas-enredo de 1956, 1958, 1959 e 1976. \n",
      "\n",
      "171 politica OK\n",
      "Governo de SP vai ao STF para exigir que Ministério da Saúde banque seringas e agulhas para vacinas contra Covid-19\n",
      " O governador de São Paulo, João Doria (PSDB), anunciou nesta segunda-feira (1º) que a procuradoria-geral do estado vai entrar com ação no Supremo Tribunal Federal (STF) para obrigar o governo federal a custear as seringas e agulhas da aplicação de vacinas contra Covid-19.  O anúncio foi feito após a ministra do STF, Rosa Weber, conceder uma liminar que obriga o governo federal a reativar imediatamente leitos de UTI que foram fechados em São Paulo, na Bahia e no Maranhão. A decisão, publicada no último sábado (27), foi favorável a ações judiciais movidas pelos três estados, que questionaram a desabilitação de leitos de UTI custeados pelo Ministério da Saúde.  Segundo Doria, a decisão de judicializar também a entrega de seringas e agulhas foi tomada porque os estados estão utilizando o estoque próprio de insumos para aplicar as doses de vacina contra Covid-19 envolvidas no Plano Nacional de Imunização.  “Os estados estão atendendo à vacinação com as suas próprias seringas e agulhas dos seus estoques. Isso não é justo, isso não é correto. Não é apenas São Paulo, são todos os estados brasileiros”, completou.  Apesar da decisão favorável do STF sobre a habilitação de leitos de UTI para Covid-19 em São Paulo, o governo estadual disse nesta segunda que nenhum leito foi habilitado pelo Ministério da Saúde para o mês de março.  Segundo a assessora do gabinete da procuradoria-geral, Camila Pintarelli, atualmente o governo federal não está custeando leitos de UTI no estado.  O G1 procurou o Ministério da Saúde sobre os leitos habilitados pelo governo federal no estado de São Paulo, mas não obteve retorno até a última atualização desta reportagem.  O secretário estadual da Saúde, Jean Gorinchteyn, disse que os leitos foram mantidos, mas com recursos do governo estadual.  “Ninguém deixou de receber leitos. Todos os leitos estão mantidos custeados pelo estado. Não é que o governo federal não mandou recurso e nós não abrimos. Eles estão abertos para atender a população. O que nós queremos é esse recurso para poder continuar a investir na saúde\", afirmou o secretário estadual da saúde. \n",
      "\n",
      "205 bemestar Unknow\n",
      "Pesquisadores descobrem carruagem antiga perto de parque arqueológico na Itália\n",
      " Uma carruagem cerimonial da Roma Antiga foi encontrada por pesquisadores, em excelente estado, perto do Parque Arqueológico de Pompeia, na Itália.  Os arqueólogos acharam um grande carro de quatro rodas, com elementos de ferro, decorações de bronze e estanho, madeira mineralizada e elementos orgânicos, como cordas e restos de plantas  \"Pompeia segue nos assombrando com suas descobertas e assim será durante muitos anos, com outros 20 hectares que ainda serão escavados\", disse o ministro da Cultura, Dario Franceschini, segundo a agência de notícias France Presse.  A descoberta aconteceu na vila de Civita Giuliana e mostra um carro de cerimônia, que era usado para momentos festivos, de desfiles e procissões, de acordo com o diretor do Parque Arqueológico, Massimo Osanna. \n",
      "\n",
      "247 economia OK\n",
      "Agência do Trabalho oferece vagas  de emprego em Petrolina e Salgueiro\n",
      " Foram divulgadas as vagas de emprego disponíveis nesta sexta-feira (26) em Petrolina e Salgueiro, no Sertão de Pernambuco. As oportunidades são disponibilizadas pela Agência do Trabalho de Pernambuco e atualizadas no G1 Petrolina.  Os interessados nas oportunidades podem entrar em contato com a Seteq através da internet. O atendimento na Agência do Trabalho ocorre apenas com agendamento prévio, feito tanto pelo site da secretaria, quanto pelo Portal Cidadão.  Contato: (87) 3866 - 6540  Contato: (87) 3871-8467 \n",
      "\n",
      "315 economia NOK\n",
      "Candidatos do Enem em Manaus reclamam de mudança de escola poucos dias antes de prova\n",
      " Além dos desafios de fazer o Exame Nacional do Ensino Médio (Enem) em meio a uma pandemia e enfrentando os impactos causados pela crise sanitária em Manaus, os estudantes tiveram de lidar com a mudança de endereços dos locais de prova. Nesta terça-feira (23) e quarta-feira (24), mais de 160 mil estudantes devem fazer a prova no Amazonas.  Na Escola Estadual Professor Roderick de Castello Branco, no bairro São José 3, a estudante Safira da Silva Nogueira, de 18 anos, contou que teve dificuldade para encontrar o local de prova. Segundo ela, o endereço foi alterado de última hora, mas ela conseguiu encontrar a escola onde vai realizar a prova. No entanto, ficou com medo de haver algum engano, já que na listagem em frente à escola o nome dela não apareceu.  \"Já foi bem difícil o fato de mudarem o endereço em cima. Vi que mudaram, pesquisei bastante pra chegar aqui, e agora notei que meu nome não está na lista, isso me deixa assustada\", disse.  Nesta segunda-feira (22), o presidente substituto do Instituto Nacional de Estudos e Pesquisas Educacionais Anísio Teixeira (Inep), Camilo Mussi, disse que o local de prova pode ter mudado.  Além dela, pelo menos outros três candidatos relataram o mesmo problema, mas a coordenação da escola explicou à reportagem que a lista na porta da escola estava desatualizada, mas confirmou que a aluna vai fazer a prova lá.  Safira, que estudou de forma remota o desde o início da Pandemia, no ano passado, vai tentar uma vaga para o curso de pedagogia.  A estudante Suzyene Vitória Vieira da Silva, de 19 anos, foi uma das primeiras a chegarem no local de prova. Ela contou que ficou preocupada por deixar a mãe em casa, com Covid-19, mas que vai fazer a prova justamente pela mãe, para dar um futuro melhor para ela.  Está é a primeira vez que a jovem faz o Enem. Ela vai tentar uma vaga para o curso de Odontologia. Ainda segundo ela, foi desafiador estudar durante a Pandemia. A estudante aproveitou para dar uma última revisada no assunto da prova.  \"Foi muito difícil. Eu tive aulas online, em tempo integral. Vou ter uma certa dificuldade nas questões de Exatas, por isso estou revisando alguns conteúdos\", contou.  O estudante Pedro Victor, 19 anos contou que esqueceu o documento de identificação em casa, e só lembrou quando já estava perto de chegar na Escola Estadual Prof. José Bernardino Lindoso, no bairro Mutirão. Ele teve de voltar para buscar.  \"Ainda bem que saí de casa cedo, já pensando em possíveis imprevistos. Trânsito, fluxo de pessoas. Fiquei tão preocupado que acabei esquecendo minha identidade, mas no fim, deu certo\" disse.  Ele já estuda Gestão de Produção Industrial em uma universidade privada, mas agora vai tentar a vaga em uma universidade pública, no curso de Engenharia de Produção.  \"No último Enem bati na trave, quase passei no curso que eu queria. Consegui vaga em outro curso, mas este ano me preparei melhor, para realizar um sonho\", disse.  O estudante, que também trabalha em uma empresa na indústria, disse que se revezou o ano inteiro entre trabalho e estudos. Somado à Pandemia, a rotina ficou ainda mais difícil, mas deu para conciliar.  \"Foi complicado para mim. Eu trabalho e estudo. Fora que esse ano foi um ano de mudanças para todo mundo. mas no fim, estou aqui. E vou fazer de tudo por essa vaga. É hora de mostrar o que aprendi\", resumiu. \n",
      "\n",
      "374 politica OK\n",
      "Começa o julgamento de policial acusado da morte de George Floyd\n",
      " Começa nesta segunda-feira (8) o julgamento de Derek Chauvin, o policial acusado do assassinato de George Floyd, afro-americano que morreu sob custódia da polícia há nove meses. Sua morte foi o motivo de uma onda de protestos contra o racismo nos Estados Unidos e no mundo.  Veja abaixo uma reportagem sobre Chauvin, que pagou fiança para responder ao processo em liberdade.  Milhares de pessoas protestaram no domingo nesta cidade do norte do país atrás de um caixão coberto de rosas brancas para exigir justiça.  A multidão, muito diversa, manteve silêncio na maior parte do tempo. Eventualmente, eles gritavam \"Se não há justiça, não há paz\". Um cartaz destacava as últimas palavras de Floyd: \"Não consigo respirar\".  O caso de Chauvin promete ser inédito em muitos aspectos: contará com advogados famosos, será realizado sob forte segurança e será transmitido ao vivo.  O escritório do Procurador-Geral do Estado de Minnesota convocou Neal Katyal, um ex-procurador-geral interino que já argumentou na Suprema Corte, para ajudar com a acusação.  Katyal descreveu o julgamento de Chauvin como um \"caso criminal histórico, um dos mais importantes da história\" dos Estados Unidos.  \"É ainda mais raro que eles sejam condenados\", acrescentou. \"Há uma tendência do júri querer dar ao policial o benefício da dúvida\", ressalta.  Porém, as circunstâncias do caso Chauvin, de 44 anos, são tão preocupantes que \"nenhuma policial ou organização policial saiu para defender seu ato\", explica.  Três outros oficiais envolvidos na prisão de Floyd, Alexander Kueng, Thomas Lane e Tou Thao, enfrentam acusações menores e serão julgados de forma separada.  Os quatro envolvidos no caso foram demitidos pelo Departamento de Polícia de Minneapolis.  Chauvin, que atuava há 19 anos na polícia, foi libertado sob fiança no outono (hemisfério norte, primavera no Brasil) e deve se declarar inocente das acusações de homicídio e homicídio culposo.  \"Ele agiu de acordo com a política do Departamento de Polícia, seu treinamento e seus deveres como oficial licenciado do estado de Minnesota\", afirmou seu advogado, Eric Nelson.  \"Ele fez exatamente o que foi treinado a fazer\", acrescentou.  De acordo com Nelson, Floyd morreu de overdose de fentanil. Uma necropsia encontrou vestígios da droga no corpo de Floyd, mas especificou que a causa da morte foi \"compressão do pescoço\".  Ben Crump, advogado que representa a família Floyd, declarou no sábado que espera que a equipe de defesa questione o caráter do afro-americano.  \"Eles vão tentar fazer as pessoas esquecerem o que viram no vídeo\", afirmou.  As autoridades mobilizaram milhares de policiais e membros da Guarda Nacional para auxiliar na segurança durante o julgamento.  O tribunal do condado de Hennepin, onde ocorrerá o julgamento, já parece um campo armado, cercado por barreiras de concreto e cercas de arame farpado.  O julgamento terá início nesta segunda-feira às 8h locais (11h de Brasília) com a seleção do júri, um processo delicado considerando a ampla publicidade em torno do caso.  Os jurados em potencial receberam um questionário de 15 páginas.  \"Quão favorável ou desfavorável você é sobre o 'Black Lives Matter'?\", é uma das perguntas.  \"Você já viu um vídeo da morte de George Floyd? Se sim, quantas vezes?\" ou \"Você, ou alguém próximo a você, participou de alguma das manifestações ou passeatas contra a brutalidade policial?\", também aparecem no questionário.  Não se espera um veredicto antes do final de abril. \n",
      "\n",
      "409 politica OK\n",
      "Crivella é autorizado pela Justiça do RJ a ter de volta celulares e computadores\n",
      " A Justiça do Rio de Janeiro autorizou, nesta sexta-feira (5), que sejam devolvidos ao ex-prefeito Marcelo Crivella celulares e computadores entregues pelo político no período em que ele cumpria prisão domiciliar.  A decisão da 1ª Vara Criminal Especializada do Tribunal de Justiça do Rio decorre do que foi determinado pelo ministro do Supremo Tribunal Federal (STF) Gilmar Mendes, que em meados do mês passado revogou a prisão domiciliar do ex-prefeito.  Quando revogou a prisão domiciliar, o ministro Gilmar Medes rejeitou um habeas corpus da defesa do político, mas decidiu conceder a liberdade por iniciativa própria – \"de ofício\", no jargão jurídico.  Gilmar Mendes determinou que Crivella teria que entregar passaportes em até 48 horas e não poderia manter contato com outros investigados.  Crivella esteve em prisão domiciliar desde o dia 23 de dezembro. Ele chegou a passar um dia no presídio de Benfica, no Rio, mas foi transferido para casa por determinação do presidente do Superior Tribunal de Justiça (STJ), Humberto Martins.  A prisão preventiva do então prefeito tinha sido autorizada pelo próprio STJ e, depois, confirmada em audiência de custódia. Na prisão domiciliar, Crivella foi monitorado com tornozeleira eletrônica e seguiu afastado do cargo até o fim do mandato, em 31 de dezembro.  Em nota, a defesa de Crivella afirmou que a decisão de Gilmar Mendes \"reconhece que a prisão ordenada pela Justiça do Rio de Janeiro foi ilegal e desnecessária\".  No início de fevereiro, Crivella passou à condição de réu na Justiça por suposta participação no caso que ficou conhecido como \"QG [Quartel General] da Propina\" na prefeitura.  O político foi acusado de comandar um esquema de liberação de pagamentos a credores do executivo municipal e direcionar licitações em troca de propina.  Os réus vão responder pelos crimes de corrupção, lavagem de dinheiro e organização criminosa.  A investigação sobre o suposto departamento da propina na prefeitura teve início com a delação do doleiro Sergio Mizhray, que já tinha sido preso na \"Operação Câmbio Desligo\", desdobramento da Lava Jato no Rio.  Na decisão em que recebeu a denúncia, a juíza Juliana Benevides, da 1ª Vara Criminal Especializada de Combate ao Crime Organizado, assinalou que o doleiro deu detalhes sobre o esquema criminoso envolvendo membros da administração municipal.  Estariam envolvidos empresários, pessoas físicas e jurídicas que funcionavam como \"laranjas\", além de operadores do esquema. \n",
      "\n",
      "467 economia NOK\n",
      "Primeira militar transexual da Coreia do Sul é encontrada morta\n",
      " A primeira militar transgênero da Coreia do Sul, Byun Hui-su, que foi dispensada do exército no ano passado por se submeter a uma cirurgia de mudança de sexo, foi encontrada morta em sua casa na quarta-feira (3), informou a agência de notícias Yonhap.  Byun Hui-su, de 23 anos , foi dispensada depois de passar pela operação de transição na Tailândia durante uma licença.  Ela foi encontrada por socorristas em sua casa na cidade de Cheongju, ao sul de Seul, disse a Yonhap, citando a polícia.  Um porta-voz da polícia de Cheongju não foi encontrado imediatamente para mais comentários.  Veja uma reportagem de 2018 sobre militares transexuais afastados do exército.  Um centro de aconselhamento local, no qual Byun foi registrada, informou às autoridades de emergência que ela não pôde ser localizada desde 28 de fevereiro, informou a Yonhap.  Byun havia expressado esperança de continuar a servir mesmo com corpo feminino. Ela entrou na Justiça para contestar sua demissão, havia uma audiência prevista para abril, de acordo com uma porta-voz do grupo de defesa militar Centro para os Direitos Humanos Militares da Coreia.  A Coreia do Sul é conservadora em questões de identidade de gênero, e as relações homossexuais entre militares ainda são consideradas crime.  Byun alistou-se voluntariamente em 2017 e passou por uma cirurgia de redesignação sexual na Tailândia em novembro de 2019. \n",
      "\n",
      "515 bemestar OK\n",
      "Ney Matogrosso é vacinado contra a Covid-19 no Rio\n",
      " O cantor Ney Matogrosso, de 79 anos, foi vacinado contra a Covid-19 nesta segunda-feira (1º) no Rio. O artista escreveu no Instagram que recebeu uma dose do imunizante Oxford/Astrazeneca.  \"Muito bem atendido, como todos que estavam lá\", escreveu, na mesma rede social.  A Prefeitura do Rio vai vacinar até a próxima quarta (3) as pessoas com 79 anos.  Conforme o calendário divulgado, o atendimento nesta segunda-feira vai do meio-dia às 17h, enquanto que na terça-feira (2) e na quarta-feira (3), acontecerá das 8h às 17h.  O restante do calendário da semana será divulgado conforme forem chegando mais doses. \n",
      "\n",
      "581 economia NOK\n",
      "Polícia Federal incinera cerca de 6,5 toneladas de drogas no RJ\n",
      " A Polícia Federal no Rio de Janeiro realizou nesta quinta-feira (25) a incineração de aproximadamente 6,5 toneladas de drogas apreendidas.  Apenas no último trimestre, as ações da corporação resultaram na apreensão de mais de 4 toneladas de cocaína.  VÍDEOS: Os mais vistos do Rio nos últimos 7 dias \n",
      "\n",
      "607 bemestar OK\n",
      "Cidades do ABC Paulista farão lockdown das 21h às 4h após alta das mortes e da ocupação de leitos para Covid-19\n",
      " Os sete prefeitos das cidades que formam o Consórcio Intermunicipal do ABC Paulista, na Grande SP, decidiram em reunião nesta quarta-feira (24) fazer lockdown das 21h às 4h, a partir de sábado (27). A decisão foi motivada pela alta da média de mortes por Covid-19 na região e pela alta taxa de ocupação de leitos de UTI, que é sem precedentes nessas cidades em onze meses de pandemia.  O lockdown, que em português significa \"bloqueio total ou confinamento\", é um protocolo de isolamento que impede o movimento de pessoas ou cargas. A medida já foi tomada em outras cidades paulistas, como Araraquara, que tem atualmente taxa de 100% de ocupação de leitos de UTI e enfermaria.  As sete cidades do ABC que serão afetadas pelo lockdown são: Santo André, São Bernardo do Campo, São Caetano do Sul, Diadema, Mauá, Ribeirão Pires e Rio Grande da Serra. O fechamento total desses municípios vai valer até o dia 7 de março, segundo o Consórcio Intermunicipal do Grande ABC.  Nos últimos dias, enquanto o estado de São Paulo vê uma redução na média móvel de mortes, a maioria das cidades do ABC tem tido aumento. Em São Bernardo do Campo, por exemplo, o aumento na média de óbitos é de 400%. A taxa de ocupação de leitos de UTI aumenta a cada dia em toda a região (veja mais abaixo).  Em Mauá, a taxa é de 90% e em Ribeirão Pires o hospital de campanha está com 100% de ocupação.  Confira as regras válidas para as sete cidades do ABC paulista a partir de sábado (27):  Para os prefeitos das cidades do ABC, as medidas anunciadas pelo governador João Doria (PSDB) em coletiva de imprensa nesta quarta-feira (24) são quase inócuas, já que o transporte público pode continuar funcionando e as pessoas não serão impedidas de sair de casa. Doria determinou restrição de circulação das 23h às 5h em todo o estado a partir de sexta-feira (26).  O presidente do Consórcio das Cidades do ABC, Paulo Serra, disse que na quinta-feira (4) haverá uma nova reunião dos prefeitos para reavaliação.  “Como todos os boletins e os estudos epidemiológicos mostram que houve aumento muito expressivo das internações nas UTIs e uma mudança no perfil da doença, que tem afetado o público mais jovem de maneira muito significativa, essas medidas são para conter esse público que circula mais no período noturno, por isso essa restrição das 21h até as 4h”, afirmou.  Nesta terça-feira (23), a ocupação de leitos de UTI para a Covid-19 nas cidades do ABC paulista chegou a um nível ainda não visto nos últimos onze meses de pandemia.   Mauá está com 90% de ocupação nesta terça-feira (23). Em Santo André, a taxa de ocupação dos leitos é de 75% e as internações subiram 110% na última semana.  Em São Bernardo do Campo a ocupação de leitos chegou a 87% na rede pública e 91% na rede privada na segunda-feira (22). De acordo com a Prefeitura, 25% dos pacientes internados vem de outros municípios. O Hospital Anchieta, que tem 19 leitos para Covid-19, está com todos ocupados nesta terça-feira (23). A cidade não receberá mais pacientes de Mauá e Diadema.  São Bernardo decretou toque de recolher a partir de sábado (27). Segundo o prefeito, Orlando Morando (PSDB), é jeito mais fácil de manter a população em casa e evitar pequenas aglomerações.  “Especialmente nas regiões mais periféricas, quando você põe um toque de recolher não é simplesmente fiscalizar, não pode circular. Isso também é para que possamos evitar as festas familiares, as pequenas e as grandes aglomerações. Os eventos residenciais também têm sido grandes vilões do vírus. Daí a medida do toque de recolher”, afirma.  A cidade também suspendeu a volta às aulas na rede pública e particular. \n",
      "\n",
      "658 economia OK\n",
      "Eike Batista e mais 6 pessoas são denunciados por manipulação de mercado de capitais, diz MPF\n",
      " O Ministério Público Federal (MPF) denunciou o empresário Eike Batista e mais seis pessoas por manipulação de mercado de capitais.   Os outros responsabilizados pelo órgão federal são Eduardo Plass, José Mario Caldas Osorio, Carlos Henrique Vieira Brandão dos Santos, Carlos Eduardo Reis da Matta, Maria Ripper Kós e Priscila Moreira Iglesias. O G1 tenta entrar em contato com as defesas dos denunciados.  Conforme divulgado pelo MPF, a denúncia é decorrente da operação \"Segredo de Midas\", realizada em agosto de 2019 pela Lava Jato no Rio de Janeiro. As investigações revelaram um esquema de manipulação de mercado para favorecer operações de interesse de Eike Batista.  Segundo a apuração, a manipulação ocorria através empresa offshore The Adviser Investiments (TAI), com sede no Panamá, criada por Eduardo Plass e sócios, proprietários do TAG Bank.  Além disso, o MPF afirma que Eike e Luiz Arthur Andrade Correia, conhecido como Zartha e denunciado pelos mesmos fatos em outra ação penal, usaram a TAI para atuar de forma ilegal nos mercados de capitais nacional e estrangeiro.   O objetivo, afirmam os procuradores, era manipular ou usar informação privilegiada de ativos que estariam impedidos ou não queriam que o mercado soubesse que operavam.  Na denúncia, os procuradores afirmam que a empresa TAI foi usada como um \"banco paralelo e ilegal\".   \"Não estando sujeita às regras regulatórias do setor bancário ou do setor de valores mobiliários, por não poder operar como banco ou corretora de valores, a The Adviser Investments [TAI] não foi fiscalizada a respeito de uma série de normas de compliance que existem para evitar crimes financeiros. Assim, a The Adviser Investments recebia recursos de seus correntistas sem a devida checagem da origem legal de tais recursos. Além disso, realizava operações financeiras para terceiros, não declaradas como tais, as fazia como se fosse em nome próprio, burlando uma série de limitações a que seus correntistas poderiam estar sujeitos\", consta na denúncia.  No exterior, os procuradores identificaram 233 operações simuladas e/ou manobras fraudulentas na Bolsa de Valores de Toronto, totalizando US$ 85.627.241,23 com relação aos ativos mobiliários VEN, da empresa Ventana Gold Corp, e GWY, da empresa Galway Resources Ltd.  Além disso, mais 37 operações irregulares na Bolsa de Valores da Irlanda, no total de U$ 38.718.565,02, com relação ao ativo mobiliário de bonds da OGX, ligado à empresa OGX.  E na Bolsa de Valores de São Paulo foram encontradas 34 operações que, de acordo com a denúncia, eram fraudulentas, totalizando R$ 109.648.547,46, relativas aos ativos MMXM11, da MMX Mineração e Metálicos (antigas ações da empresa PortX adquirida pela MMX) e MPXE3, da MPX Energia.  \"Em todas elas [operações] foram negociados ativos financeiros (ações e bonds) por meio de contas fantasmas no banco paralelo The Adviser Investments, que aparecia como titular das operações, quando, na verdade, era apenas uma interposta pessoa meio da qual Eike Batista estava operando, através de Luiz Arthur Andrade Correia, que a mando, com a ciência e concordância do primeiro, ordenava as operações\", apontaram os procuradores na denúncia.  Luiz Arthur é indicado pelos procuradores como o operador da Golden Rock Foundation, offshore de Eike Batista que mantinha as contas (gerenciais) junto à TAI.  O procurador da República Almir Teubl Sanches, que integra a força tarefa, considera que \"o tipo penal do crime de manipulação de mercado é um dos mais complexos do ordenamento brasileiro\" e que \"talvez por isso sejam tão raras condenações neste crime\".   Segundo ele, há três exigências legais para configuração do crime:  Para ele, as três exigências foram comprovadas na denúncia contra Eike e os outros seis implicados. Segundo Sanches, houve operações simuladas ou fraudulentas por meio do banco clandestino, que de acordo com o MPF operava como se fosse em nome próprio, com o objetivo de ocultar do mercado quem realmente estava operando.  Isso, afirmou o procurador, impedia que os órgãos de controle verificassem os impedimentos para as operações, e que os demais agentes do mercado delas extraíssem as informações necessárias.  Houve, ainda, segundo a denúncia, \"alteração artificial\" do regular funcionamento do mercado pelo uso do banco clandestino, o que permitia que operações fossem ocultadas, \"impedindo o reflexo que normalmente haveria no preço, volume e cotação dos ativos\".  \"Com relação à terceira exigência legal, da finalidade de lucro ou vantagem indevida, há um aspecto importante a ser destacado na denúncia. A doutrina internacional sobre o crime de manipulação de mercado costuma apontar duas maneiras de se buscar esse lucro: a “corrida” (chamada de “run”) e a “contract-based”. Na primeira o lucro seria buscado internamente, nas próprias operações de mercado. O exemplo mais simples é a manipulação de um ativo, inflando-se preço na Bolsa de Valores, com sua posterior venda sobrevalorizada. É um tipo mais simples de manipulação e, os lucros indevidos alcançados e danos causados tendem a ser menores\", afirmou Sanches.  A segunda forma de manipulação, disse o procurador, implica um contexto de negociação maior. Por exemplo, quem manipula está, ao mesmo tempo, sentado à mesa negociando a compra ou venda do controle acionário de uma empresa. \"Enquanto isso, por manobras fraudulentas, manipula os ativos financeiros. Mas nesse caso, os ativos são apenas referência para o negócio maior que está sendo realizado\", detalhou.  Sanches completou explicando que o lucro indevido nas operações não ocorre na própria Bolsa de Valores, \"mas na negociação de compra ou venda da empresa\".  \"Por isso, há tendência de que os lucros e prejuízos indevidos sejam bem maiores. Nos cinco casos de manipulação denunciados houve esse segundo tipo, pois, ao mesmo tempo em que os ativos eram manipulados, estavam em curso contextos maiores de negociações de compra de empresas (Ventana e Galway), venda de empresas (MMX e MPX) ou renegociação da dívida (bonds da OGX)\", reforçou. \n",
      "\n",
      "719 economia OK\n",
      "Programa Emprega Mogi tem oportunidades de trabalho para soldadores\n",
      " O programa Emprega Mogi, da Prefeitura de Mogi das Cruzes, está com oportunidades de trabalho para soldadores. São 18 vagas disponíveis para profissionais com esta qualificação, em duas empresas da cidade.  Outras 23 vagas de diversas empresas estão em processo de seleção. A orientação é para que os candidatos se cadastrem pela página do programa e, para os já cadastrados, mantenham suas informações atualizadas.  Os salários para as vagas disponíveis no Emprega Mogi para os soldadores variam entre R$ 2,6 mil e R$ 2,8 mil. Os interessados devem ter ensino médio completo, curso técnico em solda e experiência em indústria.  “A função de soldador está com um número de vagas maior que o número de candidatos registrados no programa Emprega Mogi. Então, estamos fazendo este alerta para os trabalhadores que possuem os requisitos e buscam uma nova colocação no mercado de trabalho para que se cadastrem ou atualizem suas informações. Em um momento de crise, como o atual, esta é uma ótima oportunidade”, explicou o secretário municipal de Desenvolvimento Econômico, Gabriel Bastianelli.  Para se cadastrar, o interessado deve acessar a página do Emprega Mogi na internet e fazer o procedimento de forma on-line. Já para quem já está inserido no programa, a orientação da Secretaria Municipal de Desenvolvimento é para que verifique se os dados do seu currículo - cursos realizados, experiências profissionais anteriores, e se estão atualizados e se as informações para contato (e-mail e telefone) estão corretas.  Os candidatos cadastrados no Emprega Mogi Digital também têm acesso às vagas disponíveis no programa e podem, pelo sistema, demonstrar interesse em cargos existentes na lista. Para os interessados nas vagas de soldador, basta fazer a busca pela função.  A partir disso, é feita uma análise pela equipe do programa Emprega Mogi e, em caso de aprovação, o candidato recebe um e-mail confirmando que está dentro do perfil. Em caso de aprovação, a empresa entrará em contato por telefone para a realização do processo seletivo.  A relação das outras vagas disponíveis para diferentes funções para as quais os candidatos podem demonstrar interesse está disponível no site do Emprega Mogi. \n",
      "\n",
      "754 economia NOK\n",
      "ONU afirma não ter recebido provas de que a princesa Latifa, filha do emir de Dubai, esteja viva e em segurança\n",
      " O Alto Comissariado da ONU para os Direitos Humanos disse, nesta sexta-feira (5), que ainda não recebeu provas de que a princesa Latifa, filha do emir de Dubai, esteja viva e bem. Em vídeo recente, ela disse ter sido detida à força e que temia pela sua vida.  Ele disse ainda que houve contatos entre o gabinete da Alta Comissária Michelle Bachelet e os representantes dos Emirados Árabes em Genebra, mas sem grandes resultados.  No mês passado, a ONU pediu provas ao governo de Dubai de que Latifa estivesse viva e em segurança. A princesa de 35 anos é filha de Mohammed bin Rashid Al Maktum, primeiro-ministro dos Emirados Árabes Unidos.  Em 2018, ela tentou – sem sucesso – escapar de barco de Dubai, antes de ser levada de volta. No mês passado, foram veiculados vídeos nos quais ela afirma ter sido sequestrada (veja abaixo).  Ainda em 19 de fevereiro, a embaixada dos Emirados Árabes em Londres emitiu uma declaração afirmando que Latifa estaria sendo cuidada em sua casa, com o apoio de sua família e médicos.  \"Sua condição continua melhorando e esperamos que ela retome a vida pública no devido tempo\", disseram em um comunicado.  Em março de 2020, a Justiça britânica determinou que o emir do Dubai, Mohammed bin Mohammed bin Rashid Al Maktum, ordenou o sequestro de duas de suas filhas, Latifa e Shamsa.  Com apenas 18 anos, esta última tentou fugir do pai em 2000, durante as férias na Inglaterra. Segundo o relato de Latifa, Shamsa foi encontrada depois de dois meses, drogada, levada de volta para Dubai e presa.  Em 2019, a princesa Haya, irmã do rei da Jordânia, refugiou-se em Londres, onde iniciou o processo de divórcio de Al Maktum. Ela o acusa de violência de gênero (relembre no vídeo abaixo).  A princesa Haya se tornou em 2004 a sexta esposa do soberano dos Emirados, com quem teve dois filhos que estão com ela em Londres. \n",
      "\n",
      "811 politica OK\n",
      "Maranhão e Bahia acionam STF para que Bolsonaro remova postagens sobre repasses a estados  \n",
      " Os governos do Maranhão e da Bahia entraram na terça-feira (2) com uma ação no Supremo Tribunal Federal (STF) pedindo a remoção ou correção de informações consideradas falsas, divulgadas pelo Governo Federal em canais oficiais, sobre repasses de recursos feitos pela União aos estados.  As informações publicadas em uma rede social do presidente Jair Bolsonaro (sem partido) e em contas oficiais da comunicação do Governo Federal, em 28 de fevereiro. Na postagem, o presidente anuncia o valor dos repasses feitos pela União aos estados no ano passado.  Uma carta foi divulgada por 19 governadores na segunda-feira (1º) contestando as informações. Os estados afirmam, que os repasses são uma \"obrigação constitucional\" do governo federal e que a parcela efetivamente enviada para a área de saúde foi \"absolutamente minoritária\".  De acordo com os governadores, o valor dos repasses anunciados pelo presidente são referentes:   Bolsonaro afirma que, no ano passado, foram repassados ao Maranhão, R$ 36 bilhões, sendo R$ 11,8 bilhões destinados ao auxílio emergencial. Segundo o governo do Maranhão, a União repassou ao estado apenas R$ 943 milhões ao estado destinados à Saúde e Assistência Social.  Deste recurso, R$ 251 milhões foram destinados para o combate da pandemia de Covid-19, com base na Lei Complementar nº 173 e, as demais transferências, cerca de R$ 9,7 bilhões, são referentes ao Fundo de Participação dos Estados.  Para Ricardo de Lima Sellos e Luiz Paulo Romano, procuradores do estado do Maranhão e da Bahia, a utilização de instrumentos de comunicação oficial do governo federal, custeados com dinheiro público e usados para produzir informações distorcidas, \"fomentam a instabilidade política, social e institucional e devem ser cessadas imediatamente\".   Por meio de uma rede social, o governador do Maranhão, Flávio Dino (PCdoB), disse que o Estado quer debater judicialmente se é compatível o \"uso doloso e reiterado de mentiras como ferramenta política\".  Os estados pedem que após a remoção, o Governo Federal corrija, em até 24 horas, as informações 'clareza e precisão das receitas mencionadas' pelo presidente. Em caso de descumprimento, pode ser aplicada uma multa diária de R$ 100 mil. \n",
      "\n",
      "888 bemestar OK\n",
      "Rio vacina idosos a partir de 79 anos nos próximos 3 dias\n",
      " O Rio começa nesta segunda-feira (1º) a vacinar idosos a partir dos 79 anos de idade. A imunização será realizada nos três primeiros dias de março.  Conforme o calendário divulgado, o atendimento nesta segunda-feira vai do meio-dia às 17h, enquanto que na terça-feira (2) e na quarta-feira (3), acontecerá das 8h às 17h.  Segundo o prefeito Eduardo Paes, conforme as doses de vacina forem chegando à cidade, será divulgado o cronograma.  A imunização nesses três dias será feita em clínicas da família, centros municipais de saúde, além dos postos montados no Planetário da Gávea, no Museu da República (Catete), no Tijuca Tênis Clube e na Igreja Nossa Senhora do Rosário (Leme).  A repescagem dos profissionais de saúde com 60 anos ou mais está marcada para os dias 2 e 3 de março, nos mesmos postos, das 13h às 17h. É preciso apresentar a carteira do conselho de classe.  Logo depois de publicar o cronograma da vacinação para a próxima semana, o prefeito Eduardo Paes foi até o Parque Madureira, na Zona Norte, acompanhar a vacinação realizada lá. No local, ele se encontrou com a Tia Surica, baluarte da Portela, que saiu do seu isolamento rigoroso para receber a primeira dose da vacina.  Desde o começo da pandemia, mais de 32 mil pessoas morreram de Covid no estado do Rio de Janeiro. A média móvel de óbitos é de 123 mortes por dia, nos últimos sete dias.  Isso representa um aumento de 10% em relação a duas semanas atrás, o que indica uma tendência de estabilidade.  Só na capital, são mais de 18 mil mortes provocadas pelo novo coronavírus. No total, a cidade registrou mais de 206 mil casos da doença.  De acordo com o oitavo boletim de avaliação da prefeitura, divulgado nesta sexta-feira (26), apenas as regiões de Copacabana, Lagoa e Rocinha não apresentaram melhora nos dados de contagio do vírus.  Contudo, as autoridades municipais decidiram manter o alerta de 'risco alto para covid' na cidade inteira, pela sexta semana consecutiva. Segundo o município, a medida é uma estratégia de prevenção por causa de casos das variantes do coronavírus na cidade.  Na opinião do professor de epidemiologia da UFRJ, Roberto Medronho, ainda estamos vivendo um quadro 'dramático'.  A epidemiologista Carla Domingues, ex-coordenadora do Programa Nacional de Imunizações, concorda com o professor da UFRJ. Para ela, o importante é reforçar a necessidade das medidas de segurança contra a pandemia. \n",
      "\n",
      "933 politica Unknow\n",
      "Júri de ex-PM e GCM presos pela maior chacina de SP entra no 5º e último dia; réus são acusados de 17 mortes em 2015\n",
      " O júri do ex-cabo da Polícia Militar (PM) Victor Cristilder Silva dos Santos, de 37 anos, e do guarda-civil municipal Sérgio Manhanhã, de 48, acusados de participarem da maior chacina da história do estado de São Paulo, entra nesta sexta-feira (26) no quinto e último dia de julgamento do caso.  O júri popular foi retomado por volta das 9h50 no Fórum Criminal de Osasco, com a réplica do Ministério Público (MP). O promotor Marcelo Oliveira terá duas horas para convencer os jurados de que os réus mataram 17 pessoas e feriram outras sete em Osasco e Barueri, na Grande São Paulo, em 2015.  Se o advogado João Carlos Campanini quiser, ele terá mais duas horas para fazer a tréplica. Ele defende Cristilder e Manhanhã.  Após essa etapa, os sete jurados votam secretamente se condenam ou absolvem os réus. A juíza Élia Kinosita, que conduz o julgamento, aplicará a sentença a partir da decisão da maioria dos jurados. No caso de eventual condenação, a magistrada dará a pena.  Os acusados estão presos preventivamente pelo crime, mas negam as acusações. Cristilder e Manhanhã já foram interrogados na quinta-feira (25). O júri popular do ex-PM e do agente da Guarda Civil Municipal (GCM) de Barueri teve início na segunda (22).  Os réus estão sendo julgados novamente porque os júris anteriores que os condenaram foram anulados pelo Tribunal de Justiça, que marcou um novo e único júri para ambos (saiba mais abaixo).  De acordo com o Ministério Público (MP), os dois são acusados de integrar grupo de extermínio, formado por agentes das forças de segurança pública, que matou e feriu as vítimas a tiros em ataques cometidos na noite de 13 de agosto de 2015 em Barueri e Osasco. Câmeras de segurança gravaram as execuções que foram cometidas por homens armados e encapuzados (veja o vídeo acima).  Ainda de acordo com a acusação, os atiradores executaram as vítimas para vingar os assassinatos de um policial militar e de um guarda-civil, respectivamente nos dias 8 e 12 de agosto de 2015.  Por causa da pandemia de coronavírus, o novo júri do ex-PM e do GCM não tem a presença da plateia ou da imprensa. Das 40 testemunhas de acusação e defesa que foram convocadas inicialmente, 16 foram dispensadas na segunda-feira.  E das 24 testemunhas arroladas que ficaram, seis foram ouvidas na segunda-feira, primeiro dia do julgamento. Pelo rito processual prestam depoimento primeiro todas as testemunhas chamadas pela acusação. Depois são ouvidas àquelas convocadas pela defesa dos réus. Algumas testemunhas acabam sendo comuns entre as partes, ou seja, foram escolhidas tanto pelo Ministério Público quanto pelos advogados dos acusados.  O MP, a defesa e o juiz ouviram os depoimentos de duas testemunhas que sobreviveram à chacina. Elas estão no grupo de sete pessoas que foram feridas pelos tiros. A terceira testemunha ouvida é o filho de um dos mortos.  Também prestaram depoimentos dois delegados que investigaram o caso e um capitão da PM que atendeu a ocorrência.  Na terça-feira, segundo dia do julgamento, foram ouvidas dez testemunhas, sendo quatro de acusação e seis de defesa.  Na quarta-feira, terceiro dia do júri, foram ouvidas oito testemunhas restantes.  Por volta das 10h30, Cristilder começou a ser interrogado. Depois que ele for questionado pela juíza Elia Kinosita, o Ministério Público e a defesa também farão perguntas ao réu. Os jurados também podem questionar os acusados por meio do juiz. O mesmo procedimento ocorrerá na vez que Manhanhã for interrogado.  Após a réplica do MP e tréplica da defesa, os jurados votarão pela absolvição ou condenação dos réus. A magistrada dará a sentença de acordo com a decisão da maioria dos jurados. No caso de eventual condenação dos acusados, ela aplicará a pena.  É a segunda vez que Cristilder e Manhanhã vão a júri popular pelos mesmos crimes. Na primeira, entre 2017 e 2018, ambos foram condenados pela chacina a penas, que somadas, chegam a mais de 200 anos.  Mas a defesa recorreu e o Tribunal de Justiça anulou essas condenações em 2019. A alegação foi de que os jurados votaram contra as provas do processo, que já tem mais de 30 mil páginas. Por esse motivo, o TJ determinou que os acusados fossem julgados novamente num único júri.  Outros dois policiais militares acusados da chacina continuam presos após terem sido condenados em 2017 pelos homicídios. As penas deles somam mais de 500 anos (saiba mais abaixo).  O advogado do ex-PM e do GCM, João Carlos Campanini, declarou na semana passada que irá provar a inocência de seus clientes.  O promotor Marcelo Oliveira acusa Cristilder e Manhanhã pelos crimes de homicídio doloso qualificado (meio cruel e recurso que dificultou a defesa das vítimas), tentativa de homicídio e formação de quadrilha.  A defensora pública Maira Coraci Diniz será assistente do MP na acusação. Ela defende os interesses das famílias das vítimas.  Ao todo, 17 pessoas foram mortas a tiros por encapuzados armados em 13 de agosto de 2015: sendo 14 delas em Osasco e outras três em Barueri (veja no quadro abaixo).  De acordo com a Promotoria, a chacina foi cometida por agentes de segurança para vingar os assassinatos do policial militar Admilson Pereira de Oliveira, em 8 de agosto de 2015, em Osasco e do guarda-civil Jeferson Luiz Rodrigues da Silva, no dia 12 de agosto do mesmo ano, em Barueri.  Quatro agentes, três policiais militares e um guarda-civil municipal, estão presos atualmente por esses 17 assassinatos. Todos os acusados negam os crimes.  Segundo o Ministério Público, Cristilder e Manhanhã se uniram ao grupo de milicianos para cometer os ataques à época que trabalhavam, respectivamente, no 20º Batalhão da PM e na Guarda Civil Municipal de Barueri.  As vítimas foram escolhidas aleatoriamente, segundo a denúncia do MP. Algumas tinham ficha criminal. Estavam em ruas e em bares. Dezesseis eram do sexo masculino e uma do feminino, uma adolescente de 15 anos (veja aqui e abaixo quem são).  Em 2017, os então policiais militares Fabrício Eleutério, soldado das Rondas Ostensivas Tobias de Aguiar (Rota), e Thiago Henklain, do 42º BPM, foram condenados a penas de 255 e 247 anos de reclusão em regime fechado, respectivamente. Eles foram acusados de matar 17 pessoas e ferir outras sete no dia 13 de agosto de 2015 em Osasco e Barueri.  Nesse mesmo júri de 2017, Manhanhã também foi julgado e condenado. Recebeu pena de 100 anos e 10 meses por participação em 11 mortes e duas tentativas de assassinatos. Segundo o TJ, essa punição foi reduzida depois para 94 anos, 7 meses e 10 dias de reclusão.  Cristilder foi julgado sozinho em 2018. Havia sido condenado a 119 anos, 4 meses e 4 dias de prisão por 12 das mortes e quatro tentativas de assassinatos.  Apesar de receberem penas que ultrapassam o período de um século de prisão, pela lei brasileira nenhum deles poderá ficar mais de 30 anos preso.  Em 2019, depois da condenação dos seus agentes, a Polícia Militar expulsou os três PMs da corporação. Manhanhã continua na GCM.  Todos os quatro acusados da maior chacina do estado de São Paulo permanecem presos. O G1 não conseguiu localizar as defesas de Eleutério e Henklein para comentarem o assunto até a última atualização desta reportagem.  Parentes do ex-PM e do GCM compareceram na frente do fórum de Osasco para pedir a absolvição dos réus na segunda-feira. Já os familiares das vítimas da chacina também foram ao local para pedir a condenação dos acusados.  \"Não tem um dia que eu não lembre do meu filho. Ele era bonzinho\", disse Aparecida Gomes da Silva Assunção, mãe do mecânico Leandro Pereira Assunção, uma das vítimas mortas. \"Os filhos sentem muito a falta do pai. Eles choram. Ficou o vazio, a tristeza, a saudade. Então eles têm que pagar pelo que fizeram. Eles destruíram muitas famílias\". \n",
      "\n",
      "967 politica OK\n",
      "Secretaria de SP investiga doação de deputado para presídio e supostas visitas irregulares para parente preso\n",
      " A Secretaria de Administração Penitenciária (SAP) do estado de São Paulo investiga supostas visitas irregulares do deputado estadual André do Prado (PL) a um parente preso e uma doação feita pelo parlamentar para um presídio. As visitas, feitas em maio de 2020, estavam proibidas devido a pandemia do coronavírus.  O parlamentar realizou obras de melhorias no Centro de Detenção Provisória (CDP) de Pontal, onde estava o parente. Depois, o detento, condenado a 5 anos por tráfico e drogas, conseguiu uma vaga em um Centro de Ressocialização (CR), que tem cotidiano mais brando.  (Correção: por erro da Secretaria de Administração Penitenciária, esta reportagem, ao ser publicada, informou que a pasta investigava a transferência do parente do deputado André do Prado para um presídio mais brando. Depois, a secretaria informou que a transferência não era investigada porque o detento foi transferido para um Centro de Ressocialização (CR) por preencher todos os requisitos elencados na Resolução SAP 255/09, que, inclusive, autoriza remoção de detentos em situação provisória. Esta reportagem foi corrigida às 15h).   André do Prado confirma as visitas, mas alega que foram feitas ao presídio, e não ao parente preso, de quem sequer é próximo. Ele também admite a atuação na reforma da unidade prisional, mas diz que utilizou recursos privados porque ficou sensibilizado com a situação dos presos no local. Veja o posicionamento mais abaixo.  A denúncia que deu origem à investigação pela SAP partiu do Sindicato dos Funcionários do Sistema Prisional do Estado de São Paulo (Sifuspesp), que soube das visitas feitas pelo deputado André do Prado ao parente preso em maio de 2020.  A associação deu início a uma apuração porque dois meses antes, a Justiça atendeu a um pedido dela e proibiu a visita a presos de todas as unidades prisionais do estado como medida de contenção do coronavírus. Somente em novembro o governo do estado liberou as visitas presenciais.  “Nós tínhamos uma liminar, que proibia a visitação para evitar a propagação do vírus, uma vez que perdemos dezenas de companheiros. A visita do deputado desrespeita os protocolos, que inclusive estavam sendo cumpridos na própria Alesp. Além disso é uma questão de Justiça até com os outros presos, que não estavam recebendo visitas”, disse Fábio César Ferreira, presidente do sindicato.  Na investigação, o Sifuspesp acabou identificando que André do Prado contribuiu com a reforma da unidade e, na sequência, o parente dele conseguiu uma vaga no Centro de Ressocialização (CR) de Araraquara.  Diferentemente de um CDP, onde ficam os presos que aguardam julgamento, os CRs são para condenados de baixa periculosidade, não têm superlotação e têm menos equipes, pois os presos têm a confiança de abrir a própria cela.  Em seguida, o sindicato enviou um ofício ao coordenador das unidades prisionais da região noroeste, solicitando uma investigação.  A SAP diz que investiga a suposta visita de maneira irregular ao preso durante a pandemia, mas afirma que o \"deputado tem prerrogativas garantidas pelas constituições Federal e Estadual, e ainda pela Lei Orgânica da Assembleia Legislativa do Estado de São Paulo (Alesp), o que lhe garante a permissão de entrar em unidades prisionais do estado.\".  O coordenador das unidades prisionais da região noroeste pediu explicações diretamente ao diretor do CDP de Pontal, Marcelo Pedro Antônio.  Na resposta por e-mail ao qual o G1 teve acesso, o diretor da unidade considerou “estranhos” os questionamentos do Sifuspesp, mas confirmou as visitas do deputado ao parente dele por duas vezes, a reforma e a posterior transferência de Guilherme de Luca Balduino Almeida para um CR.  De acordo com Marcelo Pedro Antônio, as obras já estavam em andamento quando André do Prado fez a primeira visita, e o detento não foi favorecido, pois já estava inclusive selecionado para trabalhos na própria unidade devido ao seu perfil.  “O sentenciado em questão possui características objetivas e subjetivas, que indicavam, com base no princípio da individualização da pena, que o mesmo possui uma alta probabilidade de ressocialização por ser primário, delito eventual, ter histórico laboral pregresso comprovado, ser casado, possuir filho menor, não ter registro de delitos anteriores, nem de menor potencial, assim como tais características foram identificadas em outros tantos”, argumentou ele em e-mail à coordenadoria.  Na mesma resposta ao coordenador da região noroeste, o diretor detalhou que André do Prado reformou a enfermaria, doou 40 metros de piso branco para um corredor, 20 peças de porcelanato para o refeitório e 140 mudas de eucalipto.  “Nesse sentido pondero que essas foram as doações, tão polarizadas e vergonhosas, que foram citadas no documento”, escreveu ele em referência à denúncia do Sifuspesp, repudiando também o relato da associação sobre o pedido de aplausos a ele e sua equipe feito por André do Prado na Alesp.  Questionada, a Secretaria da Administração Penitenciária (SAP) informa que o caso está sendo apurado pela Corregedoria Administrativa do Sistema Penitenciário (CASP) e o órgão já esteve no local para o início das apurações.  Ao G1, o deputado André do Prado disse que visitou o presídio, e não o detento Guilherme de Luca Balduino Almeida, porque recebeu a denúncia de que a população carcerária estaria sofrendo maus-tratos na unidade.  “Visando apurar as denúncias, fiz uma inspeção completa nas dependências do CDP, oportunidade em que constatei o trabalho que a direção faz com a comunidade local, recebendo doações para melhorar a estrutura da unidade. Fiquei sensibilizado em ajudar e, de forma privada, fiz uma doação oficial, tal como algumas empresas e pessoas físicas também fizeram para melhorias no local”, disse ele.  O parlamentar também esclareceu que Guilherme não é parente consanguíneo dele e que eles não têm relação próxima.  “Nego, veementemente, que interferi na transferência de qualquer detento. Para esse procedimento, existem trâmites dentro da Secretaria de Administração Penitenciária e do Poder Judiciário”, acrescentou André do Prado \n",
      "\n",
      "1023 economia OK\n",
      "Ruas do Rio seguem sem fiscalização, enquanto aprovados em concurso esperam ser convocados desde 2012\n",
      " As ruas do Rio estão sem fiscalização em alguns pontos da cidade, permitindo que motoristas e motociclistas cometam infrações sem serem punidos. Enquanto isso, conforme mostrou o RJ1 desta terça-feira (23), quase 1,5 mil candidatos aprovados na prova da Guarda Municipal em 2012 ainda não foram convocados.  O Bruno Falcão passou por todas as fases de avaliação e, em seguida, pediu demissão. Sem ser chamado para assumir a vaga desde 2012, ele está desempregado.  “Tinha um cronograma de convocar naquele ano e, até hoje, e nada foi cumprido. É um sentimento de angústia, sentimento de tristeza\", disse Bruno.  Na época, o edital informava que eram 2 mil vagas imediatas. Apesar disso, apenas 450 começaram a trabalhar.  O motorista de ônibus Wilson Lopes também se pergunta quando será chamado para assumir seu cargo. “O que vai ser de nós? Quando iremos ser chamados?”, disse.  O G1 publicou reportagem que mostra pedestres sendo as maiores vítimas de motociclistas imprudentes e irresponsáveis, que não respeitam a sinalização nem as regras do código de trânsito.  O abuso das irregularidades se deve, em parte, da falta de fiscalização no trânsito do Rio.  A equipe de reportagem percorreu diversos bairros das zonas Norte e Oeste e encontrou motos circulando pelo espaço de lazer e em cima da calçada. \n",
      "\n"
     ]
    }
   ],
   "source": [
    "def show(index, avaliacao):\n",
    "  noticia = noticias_desconhecidas.loc[index]\n",
    "  print(index, noticia['categoria'], avaliacao)\n",
    "  print(noticia['titulo'])\n",
    "  print(noticia['texto'])\n",
    "\n",
    "y = 0\n",
    "for x in [30, 79, 103, 171, 205, 247, 315, 374, 409, 467, 515, 581, 607, 658, 719, 754, 811, 888, 933, 967, 1023]:\n",
    "  show(x, avaliacao[y])\n",
    "  y = y + 1\n",
    "  print('')"
   ]
  },
  {
   "cell_type": "markdown",
   "metadata": {},
   "source": [
    "### Classificando a amostra:"
   ]
  },
  {
   "cell_type": "markdown",
   "metadata": {},
   "source": [
    "Nesse ponto criamos um vetor com o resultado da avaliação visual classificando cada registro como uma seguintes opções:\n",
    "\n",
    "* Desconhecida: Significa que a notícia é de uma categoria não conhecida pelo modelo, pois não estava representada na massa de treino. Exemplos desse caso são notícias sobre segurança pública e saúde que não estava presente ou pelo menos não estava classificada na massa de treino.\n",
    "* NOK: São as notícias que o modelo de fato classificou errado, pois havia categoria compatível, mas ele classificou de forma incorreta.\n",
    "* OK: São as notícias classificadas corretamente."
   ]
  },
  {
   "cell_type": "code",
   "execution_count": 1,
   "metadata": {},
   "outputs": [],
   "source": [
    "avaliacao = ['Desconhecida', 'Desconhecida', 'OK', 'OK', 'Desconhecida', \n",
    "             'OK', 'NOK', 'OK', 'OK', 'NOK', 'OK', 'NOK', \n",
    "             'OK', 'OK', 'OK', 'NOK', 'OK', 'OK', 'Desconhecida', \n",
    "             'OK', 'OK']\n"
   ]
  },
  {
   "cell_type": "markdown",
   "metadata": {},
   "source": [
    "### Medindo o Desempenho:"
   ]
  },
  {
   "cell_type": "markdown",
   "metadata": {},
   "source": [
    "Será usada a acurácia como medida de desempenho da amostra."
   ]
  },
  {
   "cell_type": "code",
   "execution_count": 259,
   "metadata": {},
   "outputs": [
    {
     "data": {
      "text/plain": [
       "0.6190476190476191"
      ]
     },
     "execution_count": 259,
     "metadata": {},
     "output_type": "execute_result"
    }
   ],
   "source": [
    "sum([a=='OK' for a in avaliacao])/len(avaliacao)"
   ]
  },
  {
   "cell_type": "markdown",
   "metadata": {},
   "source": [
    "### Distribuição da Amostra Verificada:"
   ]
  },
  {
   "cell_type": "markdown",
   "metadata": {},
   "source": [
    "Gráfico com a distribuição do resultado da avaliação dos dados por amostragem."
   ]
  },
  {
   "cell_type": "code",
   "execution_count": 258,
   "metadata": {},
   "outputs": [
    {
     "name": "stderr",
     "output_type": "stream",
     "text": [
      "/Users/edprata/anaconda3/lib/python3.7/site-packages/ipykernel_launcher.py:9: MatplotlibDeprecationWarning: Non-1D inputs to pie() are currently squeeze()d, but this behavior is deprecated since 3.1 and will be removed in 3.3; pass a 1D array instead.\n",
      "  if __name__ == '__main__':\n"
     ]
    },
    {
     "data": {
      "image/png": "[encoded data removed]",
      "text/plain": [
       "<Figure size 504x504 with 1 Axes>"
      ]
     },
     "metadata": {},
     "output_type": "display_data"
    }
   ],
   "source": [
    "# Distribuição da Amostra Verificada:\n",
    "counter = pd.DataFrame(Counter(avaliacao).items(), columns=['status', 'value'])\n",
    "title = \"Distribuição da Amostra Verificada\"\n",
    "pie(title, \"Situação\", counter[['value']], (counter['status']).values)"
   ]
  },
  {
   "cell_type": "code",
   "execution_count": null,
   "metadata": {},
   "outputs": [],
   "source": []
  }
 ],
 "metadata": {
  "kernelspec": {
   "display_name": "Python 3",
   "language": "python",
   "name": "python3"
  },
  "language_info": {
   "codemirror_mode": {
    "name": "ipython",
    "version": 3
   },
   "file_extension": ".py",
   "mimetype": "text/x-python",
   "name": "python",
   "nbconvert_exporter": "python",
   "pygments_lexer": "ipython3",
   "version": "3.7.4"
  }
 },
 "nbformat": 4,
 "nbformat_minor": 2
}
