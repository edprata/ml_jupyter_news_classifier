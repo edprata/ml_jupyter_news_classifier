{
 "cells": [
  {
   "cell_type": "markdown",
   "metadata": {},
   "source": [
    "# Notícias G1 - 10. Classificação com Deep Learning LSTM"
   ]
  },
  {
   "cell_type": "markdown",
   "metadata": {},
   "source": [
    "Será feita a classificação das notícias de categoria desconhecida com base no modelo Long Short Term Memory.\n",
    "\n"
   ]
  },
  {
   "cell_type": "markdown",
   "metadata": {},
   "source": [
    "## Imports:"
   ]
  },
  {
   "cell_type": "markdown",
   "metadata": {},
   "source": [
    "Importes de bibliotecas usadas com frequência no código."
   ]
  },
  {
   "cell_type": "code",
   "execution_count": 360,
   "metadata": {},
   "outputs": [],
   "source": [
    "import pandas as pd\n",
    "import numpy as np"
   ]
  },
  {
   "cell_type": "markdown",
   "metadata": {},
   "source": [
    "## Recuperando Dados Gravados:"
   ]
  },
  {
   "cell_type": "markdown",
   "metadata": {},
   "source": [
    "Recuperando dados gravados após higienização, stemmer e stop words."
   ]
  },
  {
   "cell_type": "code",
   "execution_count": 361,
   "metadata": {},
   "outputs": [
    {
     "name": "stdout",
     "output_type": "stream",
     "text": [
      "(3834, 5)\n"
     ]
    },
    {
     "data": {
      "text/html": [
       "<div>\n",
       "<style scoped>\n",
       "    .dataframe tbody tr th:only-of-type {\n",
       "        vertical-align: middle;\n",
       "    }\n",
       "\n",
       "    .dataframe tbody tr th {\n",
       "        vertical-align: top;\n",
       "    }\n",
       "\n",
       "    .dataframe thead th {\n",
       "        text-align: right;\n",
       "    }\n",
       "</style>\n",
       "<table border=\"1\" class=\"dataframe\">\n",
       "  <thead>\n",
       "    <tr style=\"text-align: right;\">\n",
       "      <th></th>\n",
       "      <th>titulo</th>\n",
       "      <th>url</th>\n",
       "      <th>texto</th>\n",
       "      <th>categoria</th>\n",
       "      <th>dado_tratado</th>\n",
       "    </tr>\n",
       "  </thead>\n",
       "  <tbody>\n",
       "    <tr>\n",
       "      <td>0</td>\n",
       "      <td>Entenda como uma ampla coalizão tirou Netanyah...</td>\n",
       "      <td>https://g1.globo.com/mundo/noticia/2021/06/13/...</td>\n",
       "      <td>O Parlamento de Israel confirmou neste doming...</td>\n",
       "      <td>FALTANDO</td>\n",
       "      <td>['entend', 'ampl', 'coaliz', 'tir', 'netanyahu...</td>\n",
       "    </tr>\n",
       "    <tr>\n",
       "      <td>1</td>\n",
       "      <td>Milionário de direita: quem é Naftali Bennett,...</td>\n",
       "      <td>https://g1.globo.com/mundo/noticia/2021/06/13/...</td>\n",
       "      <td>Milionário do setor de tecnologia, Naftali Be...</td>\n",
       "      <td>FALTANDO</td>\n",
       "      <td>['milion', 'direit', 'naftal', 'bennett', 'nov...</td>\n",
       "    </tr>\n",
       "    <tr>\n",
       "      <td>2</td>\n",
       "      <td>Governo de SP antecipa datas de vacinação; vej...</td>\n",
       "      <td>https://g1.globo.com/sp/sao-paulo/noticia/2021...</td>\n",
       "      <td>O governo de São Paulo antecipou em 30 dias o...</td>\n",
       "      <td>FALTANDO</td>\n",
       "      <td>['govern', 'sp', 'antecip', 'dat', 'vacin', 'v...</td>\n",
       "    </tr>\n",
       "    <tr>\n",
       "      <td>3</td>\n",
       "      <td>PMs que mataram homens dentro de carro em SP s...</td>\n",
       "      <td>https://g1.globo.com/sp/sao-paulo/noticia/2021...</td>\n",
       "      <td>A Polícia Militar instaurou um inquérito poli...</td>\n",
       "      <td>FALTANDO</td>\n",
       "      <td>['pm', 'mat', 'hom', 'dentr', 'carr', 'sp', 'a...</td>\n",
       "    </tr>\n",
       "    <tr>\n",
       "      <td>4</td>\n",
       "      <td>Após Venezuela e Bolívia, Colômbia confirma 2 ...</td>\n",
       "      <td>https://ge.globo.com/futebol/copa-america/noti...</td>\n",
       "      <td>A Federação Colombiana de Futebol informou ne...</td>\n",
       "      <td>diversos</td>\n",
       "      <td>['após', 'venezuel', 'bolív', 'colômb', 'confi...</td>\n",
       "    </tr>\n",
       "  </tbody>\n",
       "</table>\n",
       "</div>"
      ],
      "text/plain": [
       "                                              titulo  \\\n",
       "0  Entenda como uma ampla coalizão tirou Netanyah...   \n",
       "1  Milionário de direita: quem é Naftali Bennett,...   \n",
       "2  Governo de SP antecipa datas de vacinação; vej...   \n",
       "3  PMs que mataram homens dentro de carro em SP s...   \n",
       "4  Após Venezuela e Bolívia, Colômbia confirma 2 ...   \n",
       "\n",
       "                                                 url  \\\n",
       "0  https://g1.globo.com/mundo/noticia/2021/06/13/...   \n",
       "1  https://g1.globo.com/mundo/noticia/2021/06/13/...   \n",
       "2  https://g1.globo.com/sp/sao-paulo/noticia/2021...   \n",
       "3  https://g1.globo.com/sp/sao-paulo/noticia/2021...   \n",
       "4  https://ge.globo.com/futebol/copa-america/noti...   \n",
       "\n",
       "                                               texto categoria  \\\n",
       "0   O Parlamento de Israel confirmou neste doming...  FALTANDO   \n",
       "1   Milionário do setor de tecnologia, Naftali Be...  FALTANDO   \n",
       "2   O governo de São Paulo antecipou em 30 dias o...  FALTANDO   \n",
       "3   A Polícia Militar instaurou um inquérito poli...  FALTANDO   \n",
       "4   A Federação Colombiana de Futebol informou ne...  diversos   \n",
       "\n",
       "                                        dado_tratado  \n",
       "0  ['entend', 'ampl', 'coaliz', 'tir', 'netanyahu...  \n",
       "1  ['milion', 'direit', 'naftal', 'bennett', 'nov...  \n",
       "2  ['govern', 'sp', 'antecip', 'dat', 'vacin', 'v...  \n",
       "3  ['pm', 'mat', 'hom', 'dentr', 'carr', 'sp', 'a...  \n",
       "4  ['após', 'venezuel', 'bolív', 'colômb', 'confi...  "
      ]
     },
     "execution_count": 361,
     "metadata": {},
     "output_type": "execute_result"
    }
   ],
   "source": [
    "noticias = pd.read_csv('noticias_g1_higienizadas.csv')\n",
    "print(noticias.shape)\n",
    "noticias.head()"
   ]
  },
  {
   "cell_type": "markdown",
   "metadata": {},
   "source": [
    "## Separando Massa Conhecida e Desconhecida:"
   ]
  },
  {
   "cell_type": "markdown",
   "metadata": {},
   "source": [
    "Parte dos dados dessa base está marcada na coluna \"categoria\" como \"FALTANDO\". Essa é a massa de dados que desejamos classificar após o treinamento do modelo. As demais linhas já contém uma categoria conhecida e vamos usar essa massa para treino e teste do modelo."
   ]
  },
  {
   "cell_type": "code",
   "execution_count": 362,
   "metadata": {},
   "outputs": [
    {
     "name": "stdout",
     "output_type": "stream",
     "text": [
      "Dados separados: Massa conhecida=(1723, 5), Massa desconhecida=(2111, 5)\n"
     ]
    }
   ],
   "source": [
    "know_data = noticias[noticias.categoria != 'FALTANDO']\n",
    "unknow_data = noticias[noticias.categoria == 'FALTANDO']\n",
    "print(\"Dados separados: Massa conhecida={}, Massa desconhecida={}\".format(know_data.shape, unknow_data.shape))"
   ]
  },
  {
   "cell_type": "markdown",
   "metadata": {},
   "source": [
    "## Dicionário de Palavras:"
   ]
  },
  {
   "cell_type": "markdown",
   "metadata": {},
   "source": [
    "A seguir iremos gerar o dicionário de palavras do problema conforme parâmetros abaixo:\n",
    "* num_words é o tamanho máximo do dicionário de palavras.\n",
    "* filters são filtros para remover caracteres especiais caso haja.\n",
    "* lower transforma as palavras em caracteres minúsculos."
   ]
  },
  {
   "cell_type": "code",
   "execution_count": 363,
   "metadata": {},
   "outputs": [
    {
     "name": "stdout",
     "output_type": "stream",
     "text": [
      "Found 25432 unique tokens.\n"
     ]
    }
   ],
   "source": [
    "from tensorflow.keras.preprocessing.text import Tokenizer\n",
    "\n",
    "tokenizer = Tokenizer(num_words=30000, filters='\\'!\"#$%&()*+,-./:;<=>?@[\\]^_`{|}~', lower=True)\n",
    "tokenizer.fit_on_texts(noticias['dado_tratado'])\n",
    "vocabulary = tokenizer.word_index\n",
    "\n",
    "print('Found %s unique tokens.' % len(vocabulary))"
   ]
  },
  {
   "cell_type": "markdown",
   "metadata": {},
   "source": [
    "## Vetorização:"
   ]
  },
  {
   "cell_type": "markdown",
   "metadata": {},
   "source": [
    "Precisamos vetorizar o texto de modo que seja transformado em uma sequencia de números inteiros que possa ser processado pela rede neural."
   ]
  },
  {
   "cell_type": "code",
   "execution_count": 364,
   "metadata": {},
   "outputs": [
    {
     "name": "stdout",
     "output_type": "stream",
     "text": [
      "Resultado da vetorização:\n",
      "\n",
      " [637, 182, 1868, 3202, 64, 751, 637, 1080, 13000, 81, 110, 1, 334, 52, 46, 53, 5006, 1868, 3202, 307, 227, 1, 24, 1868, 526, 875, 326, 1922, 1094, 1373, 1951, 269, 73, 2314, 13001, 128, 3755, 3056, 1038, 11057, 63, 1481, 10, 751, 1, 186, 46, 230, 110, 203, 967, 13002, 1868, 567, 2417, 435, 824, 1808, 52, 768, 919, 230, 4229, 1868, 2950, 835, 3688, 27, 1719, 72, 2337, 1326, 186, 6060, 214, 103, 303, 1541, 82, 354, 261, 86, 361, 11058, 11059, 1161, 6061, 4567, 513, 11060, 722, 11061, 11062, 11063, 11064, 793, 11065, 722, 11066, 11067, 11068, 11069, 9750, 11070, 351, 2773, 93, 2096, 1646, 279, 11071, 586, 11072, 476, 709, 520, 1094, 1451, 28, 279, 1300, 722, 11073, 11074] \n",
      "\n",
      " [3096, 3300, 2030, 48, 1125, 153, 4217, 6703, 3096, 3300, 2030, 48, 11, 286, 29, 9, 148, 1796, 1125, 3301, 5165, 1125, 4217, 6703, 1233, 596, 2112, 3096, 486, 4217, 6703, 26, 77, 44, 783, 148, 48, 106, 1125, 2093, 4698, 5784, 1196, 29, 1783, 943, 2175, 1807, 1784, 359, 845, 359, 1513, 2912, 154, 453, 121, 59, 152, 877, 1125, 3301, 27, 783, 148, 5553, 192, 1154, 1748, 1252, 809, 4, 3300, 2030, 247, 108, 20, 1631, 84, 537, 293, 1104, 304, 893, 1379, 1593, 244, 3096, 122, 2882, 2709, 5344, 248, 7571, 103, 5166, 14, 832, 106, 359, 552, 156, 1672, 120, 1796, 1125, 36, 2989, 39, 37, 4218, 1197, 2590, 7095, 227, 1287, 159, 69, 291, 814, 481, 2112, 26, 59, 783, 59, 1, 3096, 1041, 1, 293, 16, 29, 453, 3753, 11037, 1582, 1479]\n"
     ]
    }
   ],
   "source": [
    "from tensorflow.keras.preprocessing.sequence import pad_sequences\n",
    "\n",
    "X_know = tokenizer.texts_to_sequences(know_data['dado_tratado'].values)\n",
    "X_unknow = tokenizer.texts_to_sequences(unknow_data['dado_tratado'].values)\n",
    "\n",
    "print('Resultado da vetorização:\\n\\n', X_know[4], '\\n\\n', X_unknow[4])"
   ]
  },
  {
   "cell_type": "markdown",
   "metadata": {},
   "source": [
    "## Padronizando Tamanho das Notícias"
   ]
  },
  {
   "cell_type": "markdown",
   "metadata": {},
   "source": [
    "Vamos padronizar o tamanho das notícias truncando a partir de um número máximo de palavras e completando com zeros à esquerda nos casos em que a notícia não satisfizer esse máximo. Para tanto os seguintes parâmetros serão usados:\n",
    "\n",
    "* padding: indica em que posição (antes ou depois do texto) será feito o complemento com zeros caso a notícia tenha menos que a quantidade de palavras esperada;\n",
    "\n",
    "* truncating: indica em que posição (no início ou no final) o texto será truncado;\n",
    "\n",
    "* maxlen: é o número máximo de palavras por notícia."
   ]
  },
  {
   "cell_type": "code",
   "execution_count": 365,
   "metadata": {},
   "outputs": [
    {
     "name": "stdout",
     "output_type": "stream",
     "text": [
      "Resultado da padronização: (1723, 250) (2111, 250) \n",
      "\n",
      " [  637   182  1868  3202    64   751   637  1080 13000    81   110     1\n",
      "   334    52    46    53  5006  1868  3202   307   227     1    24  1868\n",
      "   526   875   326  1922  1094  1373  1951   269    73  2314 13001   128\n",
      "  3755  3056  1038 11057    63  1481    10   751     1   186    46   230\n",
      "   110   203   967 13002  1868   567  2417   435   824  1808    52   768\n",
      "   919   230  4229  1868  2950   835  3688    27  1719    72  2337  1326\n",
      "   186  6060   214   103   303  1541    82   354   261    86   361 11058\n",
      " 11059  1161  6061  4567   513 11060   722 11061 11062 11063 11064   793\n",
      " 11065   722 11066 11067 11068 11069  9750 11070   351  2773    93  2096\n",
      "  1646   279 11071   586 11072   476   709   520  1094  1451    28   279\n",
      "  1300   722 11073 11074     0     0     0     0     0     0     0     0\n",
      "     0     0     0     0     0     0     0     0     0     0     0     0\n",
      "     0     0     0     0     0     0     0     0     0     0     0     0\n",
      "     0     0     0     0     0     0     0     0     0     0     0     0\n",
      "     0     0     0     0     0     0     0     0     0     0     0     0\n",
      "     0     0     0     0     0     0     0     0     0     0     0     0\n",
      "     0     0     0     0     0     0     0     0     0     0     0     0\n",
      "     0     0     0     0     0     0     0     0     0     0     0     0\n",
      "     0     0     0     0     0     0     0     0     0     0     0     0\n",
      "     0     0     0     0     0     0     0     0     0     0     0     0\n",
      "     0     0     0     0     0     0     0     0     0     0] \n",
      "\n",
      " [ 3096  3300  2030    48  1125   153  4217  6703  3096  3300  2030    48\n",
      "    11   286    29     9   148  1796  1125  3301  5165  1125  4217  6703\n",
      "  1233   596  2112  3096   486  4217  6703    26    77    44   783   148\n",
      "    48   106  1125  2093  4698  5784  1196    29  1783   943  2175  1807\n",
      "  1784   359   845   359  1513  2912   154   453   121    59   152   877\n",
      "  1125  3301    27   783   148  5553   192  1154  1748  1252   809     4\n",
      "  3300  2030   247   108    20  1631    84   537   293  1104   304   893\n",
      "  1379  1593   244  3096   122  2882  2709  5344   248  7571   103  5166\n",
      "    14   832   106   359   552   156  1672   120  1796  1125    36  2989\n",
      "    39    37  4218  1197  2590  7095   227  1287   159    69   291   814\n",
      "   481  2112    26    59   783    59     1  3096  1041     1   293    16\n",
      "    29   453  3753 11037  1582  1479     0     0     0     0     0     0\n",
      "     0     0     0     0     0     0     0     0     0     0     0     0\n",
      "     0     0     0     0     0     0     0     0     0     0     0     0\n",
      "     0     0     0     0     0     0     0     0     0     0     0     0\n",
      "     0     0     0     0     0     0     0     0     0     0     0     0\n",
      "     0     0     0     0     0     0     0     0     0     0     0     0\n",
      "     0     0     0     0     0     0     0     0     0     0     0     0\n",
      "     0     0     0     0     0     0     0     0     0     0     0     0\n",
      "     0     0     0     0     0     0     0     0     0     0     0     0\n",
      "     0     0     0     0     0     0     0     0     0     0]\n"
     ]
    }
   ],
   "source": [
    "news_lenght = 250\n",
    "\n",
    "X_know = pad_sequences(X_know, padding='post', truncating='post', maxlen=news_lenght)\n",
    "X_unknow = pad_sequences(X_unknow, padding='post', truncating='post', maxlen=news_lenght)\n",
    "\n",
    "print('Resultado da padronização:', X_know.shape, X_unknow.shape, '\\n\\n', X_know[4], '\\n\\n', X_unknow[4])"
   ]
  },
  {
   "cell_type": "markdown",
   "metadata": {},
   "source": [
    "## One Hot Encoder:"
   ]
  },
  {
   "cell_type": "markdown",
   "metadata": {},
   "source": [
    "Como trata-se de um problema multiclasse vamos precisar utilizar a técnica one-hot-encoding. Nessa técnica é criada uma matriz onde cada classe torna-se uma coluna e, para cada registro, apenas a coluna da classe correta é sinalizada com valor 1, as demais colunas permanecem com zeros. \n",
    "\n",
    "O objetivo disso e tornar variáveis categóricas processáveis pela rede neural sem, contudo, utilizar ordem de grandeza pela atribuição de números inteiros - técnica conhecida como label enconding."
   ]
  },
  {
   "cell_type": "code",
   "execution_count": 366,
   "metadata": {},
   "outputs": [
    {
     "data": {
      "text/html": [
       "<div>\n",
       "<style scoped>\n",
       "    .dataframe tbody tr th:only-of-type {\n",
       "        vertical-align: middle;\n",
       "    }\n",
       "\n",
       "    .dataframe tbody tr th {\n",
       "        vertical-align: top;\n",
       "    }\n",
       "\n",
       "    .dataframe thead tr th {\n",
       "        text-align: left;\n",
       "    }\n",
       "</style>\n",
       "<table border=\"1\" class=\"dataframe\">\n",
       "  <thead>\n",
       "    <tr>\n",
       "      <th></th>\n",
       "      <th>diversos</th>\n",
       "      <th>economia</th>\n",
       "      <th>educacao</th>\n",
       "      <th>politica</th>\n",
       "      <th>pop-arte</th>\n",
       "      <th>saude</th>\n",
       "    </tr>\n",
       "  </thead>\n",
       "  <tbody>\n",
       "    <tr>\n",
       "      <td>0</td>\n",
       "      <td>1.0</td>\n",
       "      <td>0.0</td>\n",
       "      <td>0.0</td>\n",
       "      <td>0.0</td>\n",
       "      <td>0.0</td>\n",
       "      <td>0.0</td>\n",
       "    </tr>\n",
       "    <tr>\n",
       "      <td>1</td>\n",
       "      <td>1.0</td>\n",
       "      <td>0.0</td>\n",
       "      <td>0.0</td>\n",
       "      <td>0.0</td>\n",
       "      <td>0.0</td>\n",
       "      <td>0.0</td>\n",
       "    </tr>\n",
       "    <tr>\n",
       "      <td>2</td>\n",
       "      <td>0.0</td>\n",
       "      <td>0.0</td>\n",
       "      <td>0.0</td>\n",
       "      <td>1.0</td>\n",
       "      <td>0.0</td>\n",
       "      <td>0.0</td>\n",
       "    </tr>\n",
       "    <tr>\n",
       "      <td>3</td>\n",
       "      <td>1.0</td>\n",
       "      <td>0.0</td>\n",
       "      <td>0.0</td>\n",
       "      <td>0.0</td>\n",
       "      <td>0.0</td>\n",
       "      <td>0.0</td>\n",
       "    </tr>\n",
       "    <tr>\n",
       "      <td>4</td>\n",
       "      <td>0.0</td>\n",
       "      <td>1.0</td>\n",
       "      <td>0.0</td>\n",
       "      <td>0.0</td>\n",
       "      <td>0.0</td>\n",
       "      <td>0.0</td>\n",
       "    </tr>\n",
       "    <tr>\n",
       "      <td>...</td>\n",
       "      <td>...</td>\n",
       "      <td>...</td>\n",
       "      <td>...</td>\n",
       "      <td>...</td>\n",
       "      <td>...</td>\n",
       "      <td>...</td>\n",
       "    </tr>\n",
       "    <tr>\n",
       "      <td>1718</td>\n",
       "      <td>0.0</td>\n",
       "      <td>1.0</td>\n",
       "      <td>0.0</td>\n",
       "      <td>0.0</td>\n",
       "      <td>0.0</td>\n",
       "      <td>0.0</td>\n",
       "    </tr>\n",
       "    <tr>\n",
       "      <td>1719</td>\n",
       "      <td>0.0</td>\n",
       "      <td>0.0</td>\n",
       "      <td>0.0</td>\n",
       "      <td>1.0</td>\n",
       "      <td>0.0</td>\n",
       "      <td>0.0</td>\n",
       "    </tr>\n",
       "    <tr>\n",
       "      <td>1720</td>\n",
       "      <td>1.0</td>\n",
       "      <td>0.0</td>\n",
       "      <td>0.0</td>\n",
       "      <td>0.0</td>\n",
       "      <td>0.0</td>\n",
       "      <td>0.0</td>\n",
       "    </tr>\n",
       "    <tr>\n",
       "      <td>1721</td>\n",
       "      <td>0.0</td>\n",
       "      <td>1.0</td>\n",
       "      <td>0.0</td>\n",
       "      <td>0.0</td>\n",
       "      <td>0.0</td>\n",
       "      <td>0.0</td>\n",
       "    </tr>\n",
       "    <tr>\n",
       "      <td>1722</td>\n",
       "      <td>0.0</td>\n",
       "      <td>0.0</td>\n",
       "      <td>0.0</td>\n",
       "      <td>0.0</td>\n",
       "      <td>1.0</td>\n",
       "      <td>0.0</td>\n",
       "    </tr>\n",
       "  </tbody>\n",
       "</table>\n",
       "<p>1723 rows × 6 columns</p>\n",
       "</div>"
      ],
      "text/plain": [
       "     diversos economia educacao politica pop-arte saude\n",
       "0         1.0      0.0      0.0      0.0      0.0   0.0\n",
       "1         1.0      0.0      0.0      0.0      0.0   0.0\n",
       "2         0.0      0.0      0.0      1.0      0.0   0.0\n",
       "3         1.0      0.0      0.0      0.0      0.0   0.0\n",
       "4         0.0      1.0      0.0      0.0      0.0   0.0\n",
       "...       ...      ...      ...      ...      ...   ...\n",
       "1718      0.0      1.0      0.0      0.0      0.0   0.0\n",
       "1719      0.0      0.0      0.0      1.0      0.0   0.0\n",
       "1720      1.0      0.0      0.0      0.0      0.0   0.0\n",
       "1721      0.0      1.0      0.0      0.0      0.0   0.0\n",
       "1722      0.0      0.0      0.0      0.0      1.0   0.0\n",
       "\n",
       "[1723 rows x 6 columns]"
      ]
     },
     "execution_count": 366,
     "metadata": {},
     "output_type": "execute_result"
    }
   ],
   "source": [
    "from sklearn.preprocessing import OneHotEncoder\n",
    "\n",
    "def get_one_hot_encoder(array_data):\n",
    "    np_data = pd.DataFrame(array_data).to_numpy()\n",
    "    one_hot_encoder = OneHotEncoder(sparse=False)\n",
    "    one_hot_encoder.fit(np_data)\n",
    "    data_transformed = one_hot_encoder.transform(np_data)\n",
    "    df_one_hot_encoder = pd.DataFrame(data_transformed)\n",
    "    df_one_hot_encoder.columns = one_hot_encoder.categories_\n",
    "    return one_hot_encoder.categories_[0], df_one_hot_encoder\n",
    "\n",
    "categories, df_ohe_categories = get_one_hot_encoder(know_data['categoria'])\n",
    "df_ohe_categories"
   ]
  },
  {
   "cell_type": "markdown",
   "metadata": {},
   "source": [
    "## Tratando Desbalanceamento das Classes:"
   ]
  },
  {
   "cell_type": "markdown",
   "metadata": {},
   "source": [
    "Como as classes estão muito desbalanceadas faremos o tratamento desse problema por meio do ajuste dos pesos para cada categoria. Isso será feito usando o sklearn."
   ]
  },
  {
   "cell_type": "code",
   "execution_count": 367,
   "metadata": {},
   "outputs": [
    {
     "data": {
      "text/plain": [
       "{0: 28.716666666666665,\n",
       " 1: 0.44315843621399176,\n",
       " 2: 5.982638888888889,\n",
       " 3: 0.5813090418353576,\n",
       " 4: 0.8890608875128999,\n",
       " 5: 1.4358333333333333}"
      ]
     },
     "execution_count": 367,
     "metadata": {},
     "output_type": "execute_result"
    }
   ],
   "source": [
    "from sklearn.utils import class_weight\n",
    "\n",
    "y_integers = np.argmax(df_ohe_categories.to_numpy(), axis=1)\n",
    "class_weights = class_weight.compute_class_weight('balanced', np.unique(y_integers), y_integers)\n",
    "d_class_weights = dict(enumerate(class_weights))\n",
    "d_class_weights"
   ]
  },
  {
   "cell_type": "markdown",
   "metadata": {},
   "source": [
    "## Divisão em Treino e Teste:"
   ]
  },
  {
   "cell_type": "markdown",
   "metadata": {},
   "source": [
    "Vamos dividir a base de dados em massa para treino (70%) e massa para teste (30%)."
   ]
  },
  {
   "cell_type": "code",
   "execution_count": 368,
   "metadata": {},
   "outputs": [
    {
     "name": "stdout",
     "output_type": "stream",
     "text": [
      "(1206, 250) (517, 250) (1206, 6) (517, 6)\n"
     ]
    }
   ],
   "source": [
    "from sklearn.model_selection import train_test_split\n",
    "\n",
    "X_train, X_test, y_train, y_test = train_test_split(\n",
    "    X_know, df_ohe_categories, test_size=0.30, \n",
    "    random_state=33, stratify=know_data['categoria'])\n",
    "\n",
    "print(X_train.shape, X_test.shape, y_train.shape, y_test.shape)"
   ]
  },
  {
   "cell_type": "markdown",
   "metadata": {},
   "source": [
    "## LSTM - Configuração:"
   ]
  },
  {
   "cell_type": "markdown",
   "metadata": {},
   "source": [
    "Configura a rede para classificação com LSTM."
   ]
  },
  {
   "cell_type": "code",
   "execution_count": 369,
   "metadata": {},
   "outputs": [
    {
     "name": "stdout",
     "output_type": "stream",
     "text": [
      "Model: \"sequential_12\"\n",
      "_________________________________________________________________\n",
      "Layer (type)                 Output Shape              Param #   \n",
      "=================================================================\n",
      "embedding_12 (Embedding)     (None, 250, 128)          3255296   \n",
      "_________________________________________________________________\n",
      "bidirectional_12 (Bidirectio (None, 64)                41216     \n",
      "_________________________________________________________________\n",
      "dense_26 (Dense)             (None, 32)                2080      \n",
      "_________________________________________________________________\n",
      "dense_27 (Dense)             (None, 6)                 198       \n",
      "=================================================================\n",
      "Total params: 3,298,790\n",
      "Trainable params: 3,298,790\n",
      "Non-trainable params: 0\n",
      "_________________________________________________________________\n"
     ]
    }
   ],
   "source": [
    "import tensorflow as tf\n",
    "\n",
    "# Setting Random Seeds:\n",
    "random_seed = 33\n",
    "np.random.seed(random_seed)\n",
    "tf.random.set_seed(random_seed)\n",
    "\n",
    "model = tf.keras.Sequential([\n",
    "\n",
    "    # Camada de entrada:\n",
    "    tf.keras.layers.Embedding(input_dim=len(vocabulary), output_dim=128, input_length=news_lenght),\n",
    "    \n",
    "    # Camada Bidiretional com LSTM\n",
    "    tf.keras.layers.Bidirectional(tf.keras.layers.LSTM(units=32)),\n",
    "    \n",
    "    # Utilizando relu ao invés de tanh ganhamos performance:\n",
    "    tf.keras.layers.Dense(32, activation='relu'),\n",
    "    \n",
    "    # Softmax converte a saida em probabilidade de distribuição:\n",
    "    tf.keras.layers.Dense(categories.shape[0], activation='softmax')\n",
    "])\n",
    "\n",
    "model.summary()"
   ]
  },
  {
   "cell_type": "markdown",
   "metadata": {},
   "source": [
    "## LSTM - Treinamento:"
   ]
  },
  {
   "cell_type": "markdown",
   "metadata": {},
   "source": [
    "Realiza o treinamento para classificação com LSTM."
   ]
  },
  {
   "cell_type": "code",
   "execution_count": 370,
   "metadata": {},
   "outputs": [
    {
     "name": "stdout",
     "output_type": "stream",
     "text": [
      "Epoch 1/50\n",
      "38/38 - 11s - loss: 0.1383 - accuracy: 0.4138 - val_loss: 0.1351 - val_accuracy: 0.4159\n",
      "Epoch 2/50\n",
      "38/38 - 7s - loss: 0.1147 - accuracy: 0.7695 - val_loss: 0.0700 - val_accuracy: 0.8607\n",
      "Epoch 3/50\n",
      "38/38 - 7s - loss: 0.0669 - accuracy: 0.9345 - val_loss: 0.0400 - val_accuracy: 0.9014\n",
      "Epoch 4/50\n",
      "38/38 - 7s - loss: 0.0411 - accuracy: 0.9735 - val_loss: 0.0366 - val_accuracy: 0.8743\n",
      "Epoch 5/50\n",
      "38/38 - 8s - loss: 0.0245 - accuracy: 0.9809 - val_loss: 0.0301 - val_accuracy: 0.8859\n",
      "Epoch 6/50\n",
      "38/38 - 7s - loss: 0.0119 - accuracy: 0.9818 - val_loss: 0.0304 - val_accuracy: 0.8859\n",
      "Epoch 7/50\n",
      "38/38 - 7s - loss: 0.0111 - accuracy: 0.9834 - val_loss: 0.0313 - val_accuracy: 0.8646\n",
      "Epoch 8/50\n",
      "38/38 - 7s - loss: 0.0029 - accuracy: 0.9892 - val_loss: 0.0280 - val_accuracy: 0.8936\n",
      "Epoch 9/50\n",
      "38/38 - 7s - loss: 0.0020 - accuracy: 0.9900 - val_loss: 0.0274 - val_accuracy: 0.8936\n",
      "Epoch 10/50\n",
      "38/38 - 8s - loss: 0.0016 - accuracy: 0.9909 - val_loss: 0.0268 - val_accuracy: 0.8956\n",
      "Epoch 11/50\n",
      "38/38 - 9s - loss: 0.0014 - accuracy: 0.9917 - val_loss: 0.0253 - val_accuracy: 0.9014\n",
      "Epoch 12/50\n",
      "38/38 - 8s - loss: 0.0012 - accuracy: 0.9934 - val_loss: 0.0293 - val_accuracy: 0.8781\n",
      "Epoch 13/50\n",
      "38/38 - 7s - loss: 0.0011 - accuracy: 0.9942 - val_loss: 0.0275 - val_accuracy: 0.8956\n",
      "Epoch 14/50\n",
      "38/38 - 7s - loss: 0.0011 - accuracy: 0.9942 - val_loss: 0.0265 - val_accuracy: 0.8936\n",
      "Epoch 15/50\n",
      "38/38 - 8s - loss: 8.6926e-04 - accuracy: 0.9950 - val_loss: 0.0258 - val_accuracy: 0.9014\n",
      "Epoch 16/50\n",
      "38/38 - 7s - loss: 8.0671e-04 - accuracy: 0.9959 - val_loss: 0.0257 - val_accuracy: 0.9014\n",
      "Epoch 17/50\n",
      "38/38 - 7s - loss: 7.5511e-04 - accuracy: 0.9959 - val_loss: 0.0255 - val_accuracy: 0.9014\n",
      "Epoch 18/50\n",
      "38/38 - 7s - loss: 7.5022e-04 - accuracy: 0.9959 - val_loss: 0.0253 - val_accuracy: 0.9033\n",
      "Epoch 19/50\n",
      "38/38 - 7s - loss: 7.3738e-04 - accuracy: 0.9959 - val_loss: 0.0251 - val_accuracy: 0.9033\n",
      "Epoch 20/50\n",
      "38/38 - 7s - loss: 7.2125e-04 - accuracy: 0.9959 - val_loss: 0.0251 - val_accuracy: 0.9014\n",
      "Epoch 21/50\n",
      "38/38 - 7s - loss: 6.9638e-04 - accuracy: 0.9959 - val_loss: 0.0250 - val_accuracy: 0.9014\n",
      "Epoch 22/50\n",
      "38/38 - 7s - loss: 6.8826e-04 - accuracy: 0.9959 - val_loss: 0.0249 - val_accuracy: 0.9033\n",
      "Epoch 23/50\n",
      "38/38 - 7s - loss: 6.8279e-04 - accuracy: 0.9959 - val_loss: 0.0250 - val_accuracy: 0.9033\n",
      "Epoch 24/50\n",
      "38/38 - 7s - loss: 6.8149e-04 - accuracy: 0.9959 - val_loss: 0.0249 - val_accuracy: 0.9072\n",
      "Epoch 25/50\n",
      "38/38 - 8s - loss: 6.8031e-04 - accuracy: 0.9959 - val_loss: 0.0248 - val_accuracy: 0.9072\n",
      "Epoch 26/50\n",
      "38/38 - 10s - loss: 6.5924e-04 - accuracy: 0.9959 - val_loss: 0.0250 - val_accuracy: 0.9052\n",
      "Epoch 27/50\n",
      "38/38 - 8s - loss: 6.4932e-04 - accuracy: 0.9959 - val_loss: 0.0250 - val_accuracy: 0.9072\n",
      "Epoch 28/50\n",
      "38/38 - 7s - loss: 6.2000e-04 - accuracy: 0.9959 - val_loss: 0.0250 - val_accuracy: 0.9072\n",
      "Epoch 29/50\n",
      "38/38 - 8s - loss: 6.1664e-04 - accuracy: 0.9959 - val_loss: 0.0249 - val_accuracy: 0.9072\n",
      "Epoch 30/50\n",
      "38/38 - 9s - loss: 5.8425e-04 - accuracy: 0.9959 - val_loss: 0.0249 - val_accuracy: 0.9072\n",
      "Epoch 31/50\n",
      "38/38 - 9s - loss: 5.8948e-04 - accuracy: 0.9959 - val_loss: 0.0252 - val_accuracy: 0.9052\n",
      "Epoch 32/50\n",
      "38/38 - 8s - loss: 5.7969e-04 - accuracy: 0.9959 - val_loss: 0.0252 - val_accuracy: 0.9052\n",
      "Epoch 33/50\n",
      "38/38 - 7s - loss: 5.6431e-04 - accuracy: 0.9959 - val_loss: 0.0251 - val_accuracy: 0.9052\n",
      "Epoch 34/50\n",
      "38/38 - 7s - loss: 5.5704e-04 - accuracy: 0.9959 - val_loss: 0.0247 - val_accuracy: 0.9033\n",
      "Epoch 35/50\n",
      "38/38 - 7s - loss: 5.5502e-04 - accuracy: 0.9959 - val_loss: 0.0253 - val_accuracy: 0.9033\n",
      "Epoch 36/50\n",
      "38/38 - 7s - loss: 5.5508e-04 - accuracy: 0.9959 - val_loss: 0.0245 - val_accuracy: 0.9033\n",
      "Epoch 37/50\n",
      "38/38 - 7s - loss: 5.4814e-04 - accuracy: 0.9959 - val_loss: 0.0254 - val_accuracy: 0.9014\n",
      "Epoch 38/50\n",
      "38/38 - 7s - loss: 5.5254e-04 - accuracy: 0.9959 - val_loss: 0.0241 - val_accuracy: 0.9033\n",
      "Epoch 39/50\n",
      "38/38 - 7s - loss: 5.4079e-04 - accuracy: 0.9959 - val_loss: 0.0253 - val_accuracy: 0.9014\n",
      "Epoch 40/50\n",
      "38/38 - 7s - loss: 5.4569e-04 - accuracy: 0.9959 - val_loss: 0.0254 - val_accuracy: 0.8994\n",
      "Epoch 41/50\n",
      "38/38 - 7s - loss: 5.5335e-04 - accuracy: 0.9959 - val_loss: 0.0244 - val_accuracy: 0.9033\n",
      "Epoch 42/50\n",
      "38/38 - 8s - loss: 5.1287e-04 - accuracy: 0.9959 - val_loss: 0.0252 - val_accuracy: 0.9014\n",
      "Epoch 43/50\n",
      "38/38 - 9s - loss: 7.2769e-04 - accuracy: 0.9942 - val_loss: 0.0303 - val_accuracy: 0.8781\n",
      "Epoch 44/50\n",
      "38/38 - 8s - loss: 9.7877e-04 - accuracy: 0.9934 - val_loss: 0.0287 - val_accuracy: 0.9014\n"
     ]
    }
   ],
   "source": [
    "model.compile(loss='mse', optimizer='adam', metrics=['accuracy'])\n",
    "\n",
    "history = model.fit(\n",
    "    pd.DataFrame(X_train),\n",
    "    y_train,\n",
    "    batch_size = 32,\n",
    "    epochs = 50,\n",
    "    class_weight = d_class_weights,\n",
    "    validation_data = (pd.DataFrame(X_test), y_test), \n",
    "    callbacks = [\n",
    "        tf.keras.callbacks.EarlyStopping(monitor='val_loss', patience=20, min_delta=0.0001),\n",
    "        tf.keras.callbacks.EarlyStopping(monitor='val_accuracy', patience=20, min_delta=0.0001)\n",
    "    ],\n",
    "    verbose = 2\n",
    ")"
   ]
  },
  {
   "cell_type": "code",
   "execution_count": 382,
   "metadata": {},
   "outputs": [],
   "source": [
    "model.save('noticias_g1_modelo_lstm.h5')"
   ]
  },
  {
   "cell_type": "markdown",
   "metadata": {},
   "source": [
    "## Resultado do Treinamento:"
   ]
  },
  {
   "cell_type": "markdown",
   "metadata": {},
   "source": [
    "Resultado apurado após o treinamento do modelo."
   ]
  },
  {
   "cell_type": "code",
   "execution_count": 371,
   "metadata": {},
   "outputs": [
    {
     "name": "stdout",
     "output_type": "stream",
     "text": [
      "17/17 [==============================] - 1s 36ms/step - loss: 0.0287 - accuracy: 0.9014\n",
      "[0.028720391914248466, 0.9013539552688599]\n",
      "Test set\n",
      "  Loss: 0.029\n",
      "  Accuracy: 0.901\n"
     ]
    }
   ],
   "source": [
    "accr = model.evaluate(pd.DataFrame(X_test), y_test)\n",
    "print(accr)\n",
    "print('Test set\\n  Loss: {:0.3f}\\n  Accuracy: {:0.3f}'.format(accr[0],accr[1]))"
   ]
  },
  {
   "cell_type": "code",
   "execution_count": 372,
   "metadata": {},
   "outputs": [
    {
     "data": {
      "image/png": "[encoded data removed]",
      "text/plain": [
       "<Figure size 432x288 with 1 Axes>"
      ]
     },
     "metadata": {
      "needs_background": "light"
     },
     "output_type": "display_data"
    },
    {
     "data": {
      "image/png": "[encoded data removed]",
      "text/plain": [
       "<Figure size 432x288 with 1 Axes>"
      ]
     },
     "metadata": {
      "needs_background": "light"
     },
     "output_type": "display_data"
    }
   ],
   "source": [
    "import matplotlib.pyplot as plt\n",
    "\n",
    "def plot_graphs(history, string):\n",
    "  plt.plot(history.history[string])\n",
    "  plt.plot(history.history['val_'+string])\n",
    "  plt.xlabel(\"Epochs\")\n",
    "  plt.ylabel(string)\n",
    "  plt.legend([string, 'val_'+string])\n",
    "  plt.show()\n",
    "  \n",
    "plot_graphs(history, \"accuracy\")\n",
    "plot_graphs(history, \"loss\")"
   ]
  },
  {
   "cell_type": "markdown",
   "metadata": {},
   "source": [
    "## Classificação da Massa de Teste:"
   ]
  },
  {
   "cell_type": "markdown",
   "metadata": {},
   "source": [
    "Será realizado teste com a massa de dados separada para esse fim. Os resultados serão avaliados mais abaixo."
   ]
  },
  {
   "cell_type": "code",
   "execution_count": 373,
   "metadata": {},
   "outputs": [
    {
     "data": {
      "text/plain": [
       "517"
      ]
     },
     "execution_count": 373,
     "metadata": {},
     "output_type": "execute_result"
    }
   ],
   "source": [
    "result = model.predict(pd.DataFrame(X_test))\n",
    "classificacao_massa_teste = []\n",
    "for pred in result:\n",
    "    classificacao_massa_teste.append(categorys[np.argmax(pred)])\n",
    "len(classificacao_massa_teste)"
   ]
  },
  {
   "cell_type": "markdown",
   "metadata": {},
   "source": [
    "## Teste com Notícias Fictícias:"
   ]
  },
  {
   "cell_type": "markdown",
   "metadata": {},
   "source": [
    "Teste com algumas notícias fictícias cujo contexto seja bastante claro."
   ]
  },
  {
   "cell_type": "code",
   "execution_count": 374,
   "metadata": {},
   "outputs": [
    {
     "name": "stderr",
     "output_type": "stream",
     "text": [
      "[nltk_data] Downloading package rslp to /Users/edprata/nltk_data...\n",
      "[nltk_data]   Package rslp is already up-to-date!\n"
     ]
    }
   ],
   "source": [
    "def higienizar_texto (texto):\n",
    "  import re\n",
    "  texto = re.sub('[^a-zA-ZéúíóáÉÚÍÓÁèùìòàÈÙÌÒÀõãñÕÃÑêûîôâÊÛÎÔÂëÿüïöäËYÜÏÖÄçÇ\\-\\s]', '', texto)\n",
    "  texto = re.sub('(\\-..es)|(\\-..e)|(\\-.e)|(\\-.os)|(\\-ei)', '', texto)\n",
    "  texto = re.sub('\\-+', '', texto)\n",
    "  return texto.lower()\n",
    "\n",
    "import nltk\n",
    "nltk.download('rslp')\n",
    "from nltk.stem import RSLPStemmer\n",
    "stemmer_ptbr = RSLPStemmer()\n",
    "\n",
    "def apply_stem (text):\n",
    "    return [stemmer_ptbr.stem(word) for word in text]\n",
    "\n",
    "def classify_news(model, categories, news_lenght, news):\n",
    "    higi = higienizar_texto(news)\n",
    "    stemmed = apply_stem(higi.split())\n",
    "    vectorized = tokenizer.texts_to_sequences([stemmed])\n",
    "    padded = pad_sequences(vectorized, padding='post', truncating='post', maxlen=news_lenght)\n",
    "    predic = model.predict(padded)[0]\n",
    "    return predic, categories[np.argmax(predic)]"
   ]
  },
  {
   "cell_type": "code",
   "execution_count": 375,
   "metadata": {},
   "outputs": [
    {
     "name": "stdout",
     "output_type": "stream",
     "text": [
      "educacao\n",
      "educacao\n",
      "educacao\n",
      "diversos\n",
      "diversos\n"
     ]
    }
   ],
   "source": [
    "array_noticias = [\n",
    "    'Exemplo de notícia inventada onde uma ação do governo causou instabilidade na bolsa e aumentou o dolar e o preço das mercadorias.',\n",
    "    'Notícia em que as escolas foram fechadas, professores ficaram parados, meses sem aulas impactando nas vidas das familias, o ministério da educação nada faz.',\n",
    "    'Os prefeitos não trataram adequadamente a crise e a população sofre as consequencias desse problema, os vereadores nada fazem, políticos não prestam',\n",
    "    'Em Minas Gerais acontece grande show com presença de famosos mesmo em plena pandemia para divertir a multidão',\n",
    "    'Um surto de gripe castiga a população do Rio Grande do Norte e os prefeitos buscam por alternativas'\n",
    "]\n",
    "\n",
    "for noticia in array_noticias:\n",
    "    print(classify_news(model, categories, news_lenght, noticia)[1])"
   ]
  },
  {
   "cell_type": "markdown",
   "metadata": {},
   "source": [
    "## Classificação da Base Desconhecida:"
   ]
  },
  {
   "cell_type": "markdown",
   "metadata": {},
   "source": [
    "Classificação da massa de dados cuja categoria não conhecemos a partir do modelo treinado."
   ]
  },
  {
   "cell_type": "code",
   "execution_count": 376,
   "metadata": {},
   "outputs": [
    {
     "data": {
      "text/plain": [
       "array(['diversos', 'economia', 'educacao', 'politica', 'pop-arte',\n",
       "       'saude'], dtype='<U8')"
      ]
     },
     "execution_count": 376,
     "metadata": {},
     "output_type": "execute_result"
    }
   ],
   "source": [
    "# Classificação:\n",
    "classification = model.predict(X_unknow)\n",
    "\n",
    "# Transformando índices em categorias legíveis:\n",
    "result = []\n",
    "for line in classification:\n",
    "    result.append(categorys[np.argmax(line)])\n",
    "\n",
    "classificacao_massa_desconhecida = result\n",
    "np.unique(classificacao_massa_desconhecida)"
   ]
  },
  {
   "cell_type": "markdown",
   "metadata": {},
   "source": [
    "## Análise dos Resultados: Distribuição por Categoria:"
   ]
  },
  {
   "cell_type": "markdown",
   "metadata": {},
   "source": [
    "Elabora gráficos para comparar a distribuição dos dados na massa de treino, de teste, e de classificação (cuja categoria é desconhecida)."
   ]
  },
  {
   "cell_type": "code",
   "execution_count": 377,
   "metadata": {},
   "outputs": [
    {
     "name": "stderr",
     "output_type": "stream",
     "text": [
      "/Users/edprata/anaconda3/lib/python3.7/site-packages/numpy/core/fromnumeric.py:58: FutureWarning: \n",
      "The current behaviour of 'Series.argmax' is deprecated, use 'idxmax'\n",
      "instead.\n",
      "The behavior of 'argmax' will be corrected to return the positional\n",
      "maximum in the future. For now, use 'series.values.argmax' or\n",
      "'np.argmax(np.array(values))' to get the position of the maximum\n",
      "row.\n",
      "  return bound(*args, **kwds)\n"
     ]
    },
    {
     "name": "stdout",
     "output_type": "stream",
     "text": [
      "Labels massa treino:  1206\n",
      "Labels massa teste:  517\n"
     ]
    }
   ],
   "source": [
    "# Array com labels das categorias da massade treino:\n",
    "df_cat_treino_labels = []\n",
    "for x in range(df_cat_treino.shape[0]):\n",
    "    df_cat_treino_labels.append(np.argmax(df_cat_treino.iloc[x])[0])\n",
    "print('Labels massa treino: ', len(df_cat_treino_labels))\n",
    "\n",
    "# Array com labels das categorias da massa de teste:\n",
    "df_cat_teste_labels = []\n",
    "for x in range(0, df_cat_teste.index.size):\n",
    "    df_cat_teste_labels.append(np.argmax(df_cat_teste.iloc[x])[0])\n",
    "print('Labels massa teste: ', len(df_cat_teste_labels))"
   ]
  },
  {
   "cell_type": "code",
   "execution_count": 378,
   "metadata": {},
   "outputs": [
    {
     "name": "stdout",
     "output_type": "stream",
     "text": [
      "(6, 2) (6, 2) (6, 2)\n"
     ]
    }
   ],
   "source": [
    "# Calculando a distribuição:\n",
    "\n",
    "from collections import Counter, OrderedDict\n",
    "\n",
    "counter = sorted(Counter(df_cat_treino_labels).items(), key=lambda i: i[0])\n",
    "dist_treino = pd.DataFrame(counter, columns=['cat', 'qtd'])\n",
    "\n",
    "counter = sorted(Counter(df_cat_teste_labels).items(), key=lambda i: i[0])\n",
    "dist_teste = pd.DataFrame(counter, columns=['cat', 'qtd'])\n",
    "\n",
    "counter = sorted(Counter(classificacao_massa_teste).items(), key=lambda i: i[0])\n",
    "dist_teste_ = pd.DataFrame(counter, columns=['cat', 'qtd'])\n",
    "\n",
    "counter = sorted(Counter(classificacao_massa_desconhecida).items(), key=lambda i: i[0])\n",
    "dist_classificacao = pd.DataFrame(counter, columns=['cat', 'qtd'])\n",
    "\n",
    "print(dist_teste.shape, dist_teste_.shape, dist_classificacao.shape)"
   ]
  },
  {
   "cell_type": "code",
   "execution_count": 379,
   "metadata": {},
   "outputs": [
    {
     "name": "stderr",
     "output_type": "stream",
     "text": [
      "/Users/edprata/anaconda3/lib/python3.7/site-packages/ipykernel_launcher.py:9: MatplotlibDeprecationWarning: Non-1D inputs to pie() are currently squeeze()d, but this behavior is deprecated since 3.1 and will be removed in 3.3; pass a 1D array instead.\n",
      "  if __name__ == '__main__':\n"
     ]
    },
    {
     "data": {
      "image/png": "[encoded data removed]",
      "text/plain": [
       "<Figure size 360x360 with 1 Axes>"
      ]
     },
     "metadata": {},
     "output_type": "display_data"
    },
    {
     "data": {
      "image/png": "[encoded data removed]",
      "text/plain": [
       "<Figure size 360x360 with 1 Axes>"
      ]
     },
     "metadata": {},
     "output_type": "display_data"
    },
    {
     "data": {
      "image/png": "[encoded data removed]",
      "text/plain": [
       "<Figure size 360x360 with 1 Axes>"
      ]
     },
     "metadata": {},
     "output_type": "display_data"
    },
    {
     "data": {
      "image/png": "[encoded data removed]",
      "text/plain": [
       "<Figure size 360x360 with 1 Axes>"
      ]
     },
     "metadata": {},
     "output_type": "display_data"
    }
   ],
   "source": [
    "import matplotlib.pyplot as plt\n",
    "\n",
    "def func(pct, allvals):\n",
    "    absolute = int(pct/100.*np.sum(allvals))\n",
    "    return \"{:.1f}% ({:d})\".format(pct, absolute)\n",
    "\n",
    "def pie(title, legend, data, label):\n",
    "  fig, ax = plt.subplots(figsize=(5, 5), subplot_kw=dict(aspect=\"equal\"))\n",
    "  wedges, texts, autotexts = ax.pie(data, autopct=lambda pct: func(pct, data), textprops=dict(color=\"w\"))\n",
    "  ax.legend(wedges, label, title=legend, loc=\"center left\", bbox_to_anchor=(1, 0, 0.5, 1))\n",
    "  plt.setp(autotexts, size=8, weight=\"bold\")\n",
    "  ax.set_title(title)\n",
    "  plt.show()\n",
    "\n",
    "pie(\"Treino: Classificação Real\", \"Categorias\", dist_treino[['qtd']], dist_teste['cat'])\n",
    "pie(\"Teste: Classificação Real\", \"Categorias\", dist_teste[['qtd']], dist_teste['cat'])\n",
    "pie(\"Teste: Classificação da Rede\", \"Categorias\", dist_teste_[['qtd']], dist_teste_['cat'])\n",
    "pie(\"Classificação Final\", \"Categorias\", dist_classificacao[['qtd']], dist_classificacao['cat'])"
   ]
  },
  {
   "cell_type": "markdown",
   "metadata": {},
   "source": [
    "## Matrix de Confusão"
   ]
  },
  {
   "cell_type": "code",
   "execution_count": 380,
   "metadata": {},
   "outputs": [
    {
     "data": {
      "image/png": "[encoded data removed]",
      "text/plain": [
       "<Figure size 288x288 with 1 Axes>"
      ]
     },
     "metadata": {
      "needs_background": "light"
     },
     "output_type": "display_data"
    }
   ],
   "source": [
    "from sklearn.metrics import confusion_matrix\n",
    "y_true = df_cat_teste_labels\n",
    "y_pred = classificacao_massa_teste\n",
    "matrix = confusion_matrix(y_true, y_pred, labels=np.unique(y_true))\n",
    "df_matrix = pd.DataFrame(matrix, index=np.unique(y_true), columns=np.unique(y_true))\n",
    "plt.matshow(df_matrix);"
   ]
  },
  {
   "cell_type": "markdown",
   "metadata": {},
   "source": [
    "## Heat Map"
   ]
  },
  {
   "cell_type": "code",
   "execution_count": 381,
   "metadata": {},
   "outputs": [
    {
     "data": {
      "text/plain": [
       "<matplotlib.axes._subplots.AxesSubplot at 0x7fddd523bc50>"
      ]
     },
     "execution_count": 381,
     "metadata": {},
     "output_type": "execute_result"
    },
    {
     "data": {
      "image/png": "[encoded data removed]",
      "text/plain": [
       "<Figure size 720x504 with 2 Axes>"
      ]
     },
     "metadata": {
      "needs_background": "light"
     },
     "output_type": "display_data"
    }
   ],
   "source": [
    "import seaborn as sn\n",
    "plt.figure(figsize=(10,7))\n",
    "plt.title(\"Heat Map\")\n",
    "sn.heatmap(df_matrix, annot=True, linewidths=.5, annot_kws={\"size\":10})"
   ]
  },
  {
   "cell_type": "code",
   "execution_count": null,
   "metadata": {},
   "outputs": [],
   "source": []
  }
 ],
 "metadata": {
  "kernelspec": {
   "display_name": "Python 3",
   "language": "python",
   "name": "python3"
  },
  "language_info": {
   "codemirror_mode": {
    "name": "ipython",
    "version": 3
   },
   "file_extension": ".py",
   "mimetype": "text/x-python",
   "name": "python",
   "nbconvert_exporter": "python",
   "pygments_lexer": "ipython3",
   "version": "3.7.4"
  }
 },
 "nbformat": 4,
 "nbformat_minor": 2
}
