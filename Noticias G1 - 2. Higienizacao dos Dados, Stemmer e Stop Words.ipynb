{
 "cells": [
  {
   "cell_type": "markdown",
   "metadata": {},
   "source": [
    "# Notícias G1 - 2. Higienização, Stemmer e Stop Words"
   ]
  },
  {
   "cell_type": "markdown",
   "metadata": {},
   "source": [
    "Aplicaremos técnicas de higienização de dados, stemmer e stop words na massa de dados obtida atravéz da extração do portal do G1 notícias. Essas técnicas serão explicadas ao longo do documento."
   ]
  },
  {
   "cell_type": "markdown",
   "metadata": {},
   "source": [
    "## Imports:"
   ]
  },
  {
   "cell_type": "markdown",
   "metadata": {},
   "source": [
    "Importes de bibliotecas usadas com frequência no código."
   ]
  },
  {
   "cell_type": "code",
   "execution_count": 1,
   "metadata": {},
   "outputs": [],
   "source": [
    "import pandas as pd\n",
    "import numpy as np"
   ]
  },
  {
   "cell_type": "markdown",
   "metadata": {},
   "source": [
    "## Recuperando Dados Gravados:"
   ]
  },
  {
   "cell_type": "markdown",
   "metadata": {},
   "source": [
    "Recuperando dados gravados pela extração do portal G1."
   ]
  },
  {
   "cell_type": "code",
   "execution_count": 2,
   "metadata": {},
   "outputs": [
    {
     "name": "stdout",
     "output_type": "stream",
     "text": [
      "(3956, 4)\n"
     ]
    },
    {
     "data": {
      "text/html": [
       "<div>\n",
       "<style scoped>\n",
       "    .dataframe tbody tr th:only-of-type {\n",
       "        vertical-align: middle;\n",
       "    }\n",
       "\n",
       "    .dataframe tbody tr th {\n",
       "        vertical-align: top;\n",
       "    }\n",
       "\n",
       "    .dataframe thead th {\n",
       "        text-align: right;\n",
       "    }\n",
       "</style>\n",
       "<table border=\"1\" class=\"dataframe\">\n",
       "  <thead>\n",
       "    <tr style=\"text-align: right;\">\n",
       "      <th></th>\n",
       "      <th>titulo</th>\n",
       "      <th>url</th>\n",
       "      <th>texto</th>\n",
       "      <th>categoria</th>\n",
       "    </tr>\n",
       "  </thead>\n",
       "  <tbody>\n",
       "    <tr>\n",
       "      <td>0</td>\n",
       "      <td>Entenda como uma ampla coalizão tirou Netanyah...</td>\n",
       "      <td>https://g1.globo.com/mundo/noticia/2021/06/13/...</td>\n",
       "      <td>O Parlamento de Israel confirmou neste doming...</td>\n",
       "      <td>mundo</td>\n",
       "    </tr>\n",
       "    <tr>\n",
       "      <td>1</td>\n",
       "      <td>Milionário de direita: quem é Naftali Bennett,...</td>\n",
       "      <td>https://g1.globo.com/mundo/noticia/2021/06/13/...</td>\n",
       "      <td>Milionário do setor de tecnologia, Naftali Be...</td>\n",
       "      <td>mundo</td>\n",
       "    </tr>\n",
       "    <tr>\n",
       "      <td>2</td>\n",
       "      <td>Governo de SP antecipa datas de vacinação; vej...</td>\n",
       "      <td>https://g1.globo.com/sp/sao-paulo/noticia/2021...</td>\n",
       "      <td>O governo de São Paulo antecipou em 30 dias o...</td>\n",
       "      <td>sp</td>\n",
       "    </tr>\n",
       "    <tr>\n",
       "      <td>3</td>\n",
       "      <td>ASSISTA: Gilberto Gil faz live de arraial no G...</td>\n",
       "      <td>https://globoplay.globo.com/arraial-do-gil/ao-...</td>\n",
       "      <td>NaN</td>\n",
       "      <td>arraial-do-gil</td>\n",
       "    </tr>\n",
       "    <tr>\n",
       "      <td>4</td>\n",
       "      <td>Athletico-PR bate o Grêmio e assume a liderança</td>\n",
       "      <td>https://ge.globo.com/rs/futebol/brasileirao-se...</td>\n",
       "      <td>NaN</td>\n",
       "      <td>rs</td>\n",
       "    </tr>\n",
       "  </tbody>\n",
       "</table>\n",
       "</div>"
      ],
      "text/plain": [
       "                                              titulo  \\\n",
       "0  Entenda como uma ampla coalizão tirou Netanyah...   \n",
       "1  Milionário de direita: quem é Naftali Bennett,...   \n",
       "2  Governo de SP antecipa datas de vacinação; vej...   \n",
       "3  ASSISTA: Gilberto Gil faz live de arraial no G...   \n",
       "4    Athletico-PR bate o Grêmio e assume a liderança   \n",
       "\n",
       "                                                 url  \\\n",
       "0  https://g1.globo.com/mundo/noticia/2021/06/13/...   \n",
       "1  https://g1.globo.com/mundo/noticia/2021/06/13/...   \n",
       "2  https://g1.globo.com/sp/sao-paulo/noticia/2021...   \n",
       "3  https://globoplay.globo.com/arraial-do-gil/ao-...   \n",
       "4  https://ge.globo.com/rs/futebol/brasileirao-se...   \n",
       "\n",
       "                                               texto       categoria  \n",
       "0   O Parlamento de Israel confirmou neste doming...           mundo  \n",
       "1   Milionário do setor de tecnologia, Naftali Be...           mundo  \n",
       "2   O governo de São Paulo antecipou em 30 dias o...              sp  \n",
       "3                                                NaN  arraial-do-gil  \n",
       "4                                                NaN              rs  "
      ]
     },
     "execution_count": 2,
     "metadata": {},
     "output_type": "execute_result"
    }
   ],
   "source": [
    "noticias = pd.read_csv('noticias_g1_baixadas.csv')\n",
    "print(noticias.shape)\n",
    "noticias.head()"
   ]
  },
  {
   "cell_type": "markdown",
   "metadata": {},
   "source": [
    "## Removendo Linhas em Branco:"
   ]
  },
  {
   "cell_type": "markdown",
   "metadata": {},
   "source": [
    "Removendo linhas em branco encontradas na massa de dados."
   ]
  },
  {
   "cell_type": "code",
   "execution_count": 3,
   "metadata": {},
   "outputs": [
    {
     "name": "stdout",
     "output_type": "stream",
     "text": [
      "(3834, 4)\n"
     ]
    }
   ],
   "source": [
    "noticias.dropna(inplace=True)\n",
    "noticias.reset_index(drop=True, inplace=True)\n",
    "print(noticias.shape)"
   ]
  },
  {
   "cell_type": "markdown",
   "metadata": {},
   "source": [
    "## Analisando e Tratando Categorias:"
   ]
  },
  {
   "cell_type": "markdown",
   "metadata": {},
   "source": [
    "### Categorias existentes:"
   ]
  },
  {
   "cell_type": "markdown",
   "metadata": {},
   "source": [
    "Verificando como as notícias estão originalmente classificadas para encontrar falhas e áreas de interesse."
   ]
  },
  {
   "cell_type": "code",
   "execution_count": 4,
   "metadata": {},
   "outputs": [
    {
     "name": "stdout",
     "output_type": "stream",
     "text": [
      "['mundo' 'sp' 'futebol' 'sc' 'rj' 'politica' 'es' 'pe' 'tenis' 'podcast'\n",
      " 'globo-reporter' 'economia' 'bemestar' 'pop-arte' 'ciencia-e-saude'\n",
      " 'olha-que-legal' 'df' 'fato-ou-fake' 'mg' 'educacao' 'ms' 'ro' 'pr' 'ce'\n",
      " 'especiais' 'am' 'rs' 'se' 'rr' 'pi' 'ap' 'monitor-da-violencia'\n",
      " 'loterias' 'pb' 'pa' 'natureza' 'to' 'go' 'ba' 'al' 'jornal-nacional']\n"
     ]
    }
   ],
   "source": [
    "print(noticias.categoria.unique())"
   ]
  },
  {
   "cell_type": "markdown",
   "metadata": {},
   "source": [
    "### Removendo categorias que não são relevantes para o problema:"
   ]
  },
  {
   "cell_type": "markdown",
   "metadata": {},
   "source": [
    "Algumas categorias não são representativas do ponto de vista do negócio, tais como as que são siglas de estados, aquelas cujo nome não identifica a natureza do conteúdo e também as que possuem pouquíssima representatividade (como futebol, por exemplo)."
   ]
  },
  {
   "cell_type": "code",
   "execution_count": 5,
   "metadata": {},
   "outputs": [
    {
     "name": "stdout",
     "output_type": "stream",
     "text": [
      "['futebol' 'politica' 'tenis' 'economia' 'bemestar' 'pop-arte'\n",
      " 'ciencia-e-saude' 'educacao' 'natureza']\n"
     ]
    }
   ],
   "source": [
    "cat_nao_relevantes = ['globonews', 'jornal-nacional', 'mundo', 'fato-ou-fake', 'podcast', 'olha-que-legal', 'globo-reporter', 'especiais', 'monitor-da-violencia', 'loterias', 'mg', 'ms', 'sp', 'rj', 'ce', 'es', 'go', 'mt', 'pr', 'sc', 'pe', 'rn', 'ba', 'ma', 'df', 'pb', 'se', 'ap', 'rs', 'ac', 'am', 'ro', 'rr', 'pi', 'pa', 'to', 'al']\n",
    "for cat in cat_nao_relevantes:\n",
    "  noticias.loc[noticias.categoria==cat, 'categoria'] = 'FALTANDO'\n",
    "\n",
    "categorias = noticias.categoria.unique()\n",
    "categorias = np.delete(categorias, np.where(categorias == 'FALTANDO'))\n",
    "\n",
    "print(categorias)"
   ]
  },
  {
   "cell_type": "markdown",
   "metadata": {},
   "source": [
    "### Distribuição por categoria:"
   ]
  },
  {
   "cell_type": "markdown",
   "metadata": {},
   "source": [
    "Vamos analisar a distribuição das categorias finais com relevância semântica e de interesse para o negócio. \n",
    "\n",
    "Podemos observar que as categorias não estão balanceadas e que isso pode gerar um viés na hora de classificas as notícias com categorias desconhecidas. \n",
    "\n",
    "Uma forma de tratar esse problema seria fazer um trabalho manual de classificação de algumas notícias para equilibrar o problema do desbalanceamento. Outra solução seria subamostrar as classes com alta representatividade."
   ]
  },
  {
   "cell_type": "code",
   "execution_count": 6,
   "metadata": {},
   "outputs": [
    {
     "name": "stdout",
     "output_type": "stream",
     "text": [
      "Total:  3834\n"
     ]
    },
    {
     "data": {
      "text/html": [
       "<div>\n",
       "<style scoped>\n",
       "    .dataframe tbody tr th:only-of-type {\n",
       "        vertical-align: middle;\n",
       "    }\n",
       "\n",
       "    .dataframe tbody tr th {\n",
       "        vertical-align: top;\n",
       "    }\n",
       "\n",
       "    .dataframe thead th {\n",
       "        text-align: right;\n",
       "    }\n",
       "</style>\n",
       "<table border=\"1\" class=\"dataframe\">\n",
       "  <thead>\n",
       "    <tr style=\"text-align: right;\">\n",
       "      <th></th>\n",
       "      <th>texto</th>\n",
       "    </tr>\n",
       "    <tr>\n",
       "      <th>categoria</th>\n",
       "      <th></th>\n",
       "    </tr>\n",
       "  </thead>\n",
       "  <tbody>\n",
       "    <tr>\n",
       "      <td>FALTANDO</td>\n",
       "      <td>2111</td>\n",
       "    </tr>\n",
       "    <tr>\n",
       "      <td>bemestar</td>\n",
       "      <td>151</td>\n",
       "    </tr>\n",
       "    <tr>\n",
       "      <td>ciencia-e-saude</td>\n",
       "      <td>49</td>\n",
       "    </tr>\n",
       "    <tr>\n",
       "      <td>economia</td>\n",
       "      <td>648</td>\n",
       "    </tr>\n",
       "    <tr>\n",
       "      <td>educacao</td>\n",
       "      <td>48</td>\n",
       "    </tr>\n",
       "    <tr>\n",
       "      <td>futebol</td>\n",
       "      <td>2</td>\n",
       "    </tr>\n",
       "    <tr>\n",
       "      <td>natureza</td>\n",
       "      <td>7</td>\n",
       "    </tr>\n",
       "    <tr>\n",
       "      <td>politica</td>\n",
       "      <td>494</td>\n",
       "    </tr>\n",
       "    <tr>\n",
       "      <td>pop-arte</td>\n",
       "      <td>323</td>\n",
       "    </tr>\n",
       "    <tr>\n",
       "      <td>tenis</td>\n",
       "      <td>1</td>\n",
       "    </tr>\n",
       "  </tbody>\n",
       "</table>\n",
       "</div>"
      ],
      "text/plain": [
       "                 texto\n",
       "categoria             \n",
       "FALTANDO          2111\n",
       "bemestar           151\n",
       "ciencia-e-saude     49\n",
       "economia           648\n",
       "educacao            48\n",
       "futebol              2\n",
       "natureza             7\n",
       "politica           494\n",
       "pop-arte           323\n",
       "tenis                1"
      ]
     },
     "execution_count": 6,
     "metadata": {},
     "output_type": "execute_result"
    }
   ],
   "source": [
    "distribuicao_noticias = noticias[['categoria', 'texto']].groupby('categoria').count()\n",
    "distribuicao_noticias_conhecidas = distribuicao_noticias.drop('FALTANDO')\n",
    "print('Total: ', distribuicao_noticias['texto'].sum())\n",
    "distribuicao_noticias"
   ]
  },
  {
   "cell_type": "markdown",
   "metadata": {},
   "source": [
    "### Trabalhando Categorias Com pouca Relevância e Amostragem:"
   ]
  },
  {
   "cell_type": "markdown",
   "metadata": {},
   "source": [
    "Vamos trabalhar as categorias com poucas amostras como \"tenis\", \"futebol\" e \"natureza\" criando uma categoria diversos. Vamos também unificar \"ciencia-e-saude\" com \"bemestar\" na nova categoria \"saude\"."
   ]
  },
  {
   "cell_type": "code",
   "execution_count": 7,
   "metadata": {},
   "outputs": [],
   "source": [
    "noticias.loc[noticias.categoria=='bemestar', 'categoria'] = 'saude'\n",
    "noticias.loc[noticias.categoria=='ciencia-e-saude', 'categoria'] = 'saude'\n",
    "noticias.loc[noticias.categoria=='tenis', 'categoria'] = 'diversos'\n",
    "noticias.loc[noticias.categoria=='futebol', 'categoria'] = 'diversos'\n",
    "noticias.loc[noticias.categoria=='natureza', 'categoria'] = 'diversos'"
   ]
  },
  {
   "cell_type": "code",
   "execution_count": 8,
   "metadata": {},
   "outputs": [
    {
     "data": {
      "text/html": [
       "<div>\n",
       "<style scoped>\n",
       "    .dataframe tbody tr th:only-of-type {\n",
       "        vertical-align: middle;\n",
       "    }\n",
       "\n",
       "    .dataframe tbody tr th {\n",
       "        vertical-align: top;\n",
       "    }\n",
       "\n",
       "    .dataframe thead th {\n",
       "        text-align: right;\n",
       "    }\n",
       "</style>\n",
       "<table border=\"1\" class=\"dataframe\">\n",
       "  <thead>\n",
       "    <tr style=\"text-align: right;\">\n",
       "      <th></th>\n",
       "      <th>texto</th>\n",
       "    </tr>\n",
       "    <tr>\n",
       "      <th>categoria</th>\n",
       "      <th></th>\n",
       "    </tr>\n",
       "  </thead>\n",
       "  <tbody>\n",
       "    <tr>\n",
       "      <td>FALTANDO</td>\n",
       "      <td>2111</td>\n",
       "    </tr>\n",
       "    <tr>\n",
       "      <td>diversos</td>\n",
       "      <td>10</td>\n",
       "    </tr>\n",
       "    <tr>\n",
       "      <td>economia</td>\n",
       "      <td>648</td>\n",
       "    </tr>\n",
       "    <tr>\n",
       "      <td>educacao</td>\n",
       "      <td>48</td>\n",
       "    </tr>\n",
       "    <tr>\n",
       "      <td>politica</td>\n",
       "      <td>494</td>\n",
       "    </tr>\n",
       "    <tr>\n",
       "      <td>pop-arte</td>\n",
       "      <td>323</td>\n",
       "    </tr>\n",
       "    <tr>\n",
       "      <td>saude</td>\n",
       "      <td>200</td>\n",
       "    </tr>\n",
       "  </tbody>\n",
       "</table>\n",
       "</div>"
      ],
      "text/plain": [
       "           texto\n",
       "categoria       \n",
       "FALTANDO    2111\n",
       "diversos      10\n",
       "economia     648\n",
       "educacao      48\n",
       "politica     494\n",
       "pop-arte     323\n",
       "saude        200"
      ]
     },
     "execution_count": 8,
     "metadata": {},
     "output_type": "execute_result"
    }
   ],
   "source": [
    "distribuicao_noticias = noticias[['categoria', 'texto']].groupby('categoria').count()\n",
    "distribuicao_noticias"
   ]
  },
  {
   "cell_type": "code",
   "execution_count": 15,
   "metadata": {},
   "outputs": [
    {
     "data": {
      "image/png": "[encoded data removed]",
      "text/plain": [
       "<Figure size 1080x360 with 1 Axes>"
      ]
     },
     "metadata": {
      "needs_background": "light"
     },
     "output_type": "display_data"
    }
   ],
   "source": [
    "import matplotlib.pyplot as plt \n",
    "import numpy\n",
    "\n",
    "plt.figure(figsize=[15,5])\n",
    "plt.title('Distribuição das Categorias')\n",
    "plt.xlabel('Categoria')\n",
    "plt.ylabel('Quantidade de Notícias')\n",
    "plt.bar(distribuicao_noticias.index, distribuicao_noticias['texto'])\n",
    "plt.show()"
   ]
  },
  {
   "cell_type": "markdown",
   "metadata": {},
   "source": [
    "## Higienização do Texto com Regex:"
   ]
  },
  {
   "cell_type": "markdown",
   "metadata": {},
   "source": [
    "Realizando higienização para remover elementos irrelevantes para a classificação:\n",
    "* Caracteres especiais\n",
    "* Mosóclises (alcançar-te-ei, falar-te-ei)\n",
    "* Ênclises (falar-me, alcançar-te)\n",
    "* Hífens perdidos"
   ]
  },
  {
   "cell_type": "code",
   "execution_count": 10,
   "metadata": {},
   "outputs": [
    {
     "data": {
      "text/html": [
       "<div>\n",
       "<style scoped>\n",
       "    .dataframe tbody tr th:only-of-type {\n",
       "        vertical-align: middle;\n",
       "    }\n",
       "\n",
       "    .dataframe tbody tr th {\n",
       "        vertical-align: top;\n",
       "    }\n",
       "\n",
       "    .dataframe thead th {\n",
       "        text-align: right;\n",
       "    }\n",
       "</style>\n",
       "<table border=\"1\" class=\"dataframe\">\n",
       "  <thead>\n",
       "    <tr style=\"text-align: right;\">\n",
       "      <th></th>\n",
       "      <th>titulo</th>\n",
       "      <th>url</th>\n",
       "      <th>texto</th>\n",
       "      <th>categoria</th>\n",
       "      <th>dado_tratado</th>\n",
       "    </tr>\n",
       "  </thead>\n",
       "  <tbody>\n",
       "    <tr>\n",
       "      <td>0</td>\n",
       "      <td>Entenda como uma ampla coalizão tirou Netanyah...</td>\n",
       "      <td>https://g1.globo.com/mundo/noticia/2021/06/13/...</td>\n",
       "      <td>O Parlamento de Israel confirmou neste doming...</td>\n",
       "      <td>FALTANDO</td>\n",
       "      <td>entenda como uma ampla coalizão tirou netanyah...</td>\n",
       "    </tr>\n",
       "    <tr>\n",
       "      <td>1</td>\n",
       "      <td>Milionário de direita: quem é Naftali Bennett,...</td>\n",
       "      <td>https://g1.globo.com/mundo/noticia/2021/06/13/...</td>\n",
       "      <td>Milionário do setor de tecnologia, Naftali Be...</td>\n",
       "      <td>FALTANDO</td>\n",
       "      <td>milionário de direita quem é naftali bennett o...</td>\n",
       "    </tr>\n",
       "    <tr>\n",
       "      <td>2</td>\n",
       "      <td>Governo de SP antecipa datas de vacinação; vej...</td>\n",
       "      <td>https://g1.globo.com/sp/sao-paulo/noticia/2021...</td>\n",
       "      <td>O governo de São Paulo antecipou em 30 dias o...</td>\n",
       "      <td>FALTANDO</td>\n",
       "      <td>governo de sp antecipa datas de vacinação veja...</td>\n",
       "    </tr>\n",
       "    <tr>\n",
       "      <td>3</td>\n",
       "      <td>PMs que mataram homens dentro de carro em SP s...</td>\n",
       "      <td>https://g1.globo.com/sp/sao-paulo/noticia/2021...</td>\n",
       "      <td>A Polícia Militar instaurou um inquérito poli...</td>\n",
       "      <td>FALTANDO</td>\n",
       "      <td>pms que mataram homens dentro de carro em sp s...</td>\n",
       "    </tr>\n",
       "    <tr>\n",
       "      <td>4</td>\n",
       "      <td>Após Venezuela e Bolívia, Colômbia confirma 2 ...</td>\n",
       "      <td>https://ge.globo.com/futebol/copa-america/noti...</td>\n",
       "      <td>A Federação Colombiana de Futebol informou ne...</td>\n",
       "      <td>diversos</td>\n",
       "      <td>após venezuela e bolívia colômbia confirma  ca...</td>\n",
       "    </tr>\n",
       "  </tbody>\n",
       "</table>\n",
       "</div>"
      ],
      "text/plain": [
       "                                              titulo  \\\n",
       "0  Entenda como uma ampla coalizão tirou Netanyah...   \n",
       "1  Milionário de direita: quem é Naftali Bennett,...   \n",
       "2  Governo de SP antecipa datas de vacinação; vej...   \n",
       "3  PMs que mataram homens dentro de carro em SP s...   \n",
       "4  Após Venezuela e Bolívia, Colômbia confirma 2 ...   \n",
       "\n",
       "                                                 url  \\\n",
       "0  https://g1.globo.com/mundo/noticia/2021/06/13/...   \n",
       "1  https://g1.globo.com/mundo/noticia/2021/06/13/...   \n",
       "2  https://g1.globo.com/sp/sao-paulo/noticia/2021...   \n",
       "3  https://g1.globo.com/sp/sao-paulo/noticia/2021...   \n",
       "4  https://ge.globo.com/futebol/copa-america/noti...   \n",
       "\n",
       "                                               texto categoria  \\\n",
       "0   O Parlamento de Israel confirmou neste doming...  FALTANDO   \n",
       "1   Milionário do setor de tecnologia, Naftali Be...  FALTANDO   \n",
       "2   O governo de São Paulo antecipou em 30 dias o...  FALTANDO   \n",
       "3   A Polícia Militar instaurou um inquérito poli...  FALTANDO   \n",
       "4   A Federação Colombiana de Futebol informou ne...  diversos   \n",
       "\n",
       "                                        dado_tratado  \n",
       "0  entenda como uma ampla coalizão tirou netanyah...  \n",
       "1  milionário de direita quem é naftali bennett o...  \n",
       "2  governo de sp antecipa datas de vacinação veja...  \n",
       "3  pms que mataram homens dentro de carro em sp s...  \n",
       "4  após venezuela e bolívia colômbia confirma  ca...  "
      ]
     },
     "execution_count": 10,
     "metadata": {},
     "output_type": "execute_result"
    }
   ],
   "source": [
    "def higienizar_texto (texto):\n",
    "  import re\n",
    "  texto = re.sub('[^a-zA-ZéúíóáÉÚÍÓÁèùìòàÈÙÌÒÀõãñÕÃÑêûîôâÊÛÎÔÂëÿüïöäËYÜÏÖÄçÇ\\-\\s]', '', texto)\n",
    "  texto = re.sub('(\\-..es)|(\\-..e)|(\\-.e)|(\\-.os)|(\\-ei)', '', texto)\n",
    "  texto = re.sub('\\-+', '', texto)\n",
    "  return texto.lower()\n",
    "\n",
    "noticias['dado_tratado'] = noticias['titulo'] + ' ' + noticias['texto']\n",
    "noticias['dado_tratado'] = noticias['dado_tratado'].apply(lambda x: higienizar_texto(x))\n",
    "noticias.head()"
   ]
  },
  {
   "cell_type": "markdown",
   "metadata": {},
   "source": [
    "## Stop-Words"
   ]
  },
  {
   "cell_type": "markdown",
   "metadata": {},
   "source": [
    "Fazendo tratamento de stop words que são palavras sem valor semântico e que não agregam na solução do problema de classificação. Como estamos tratando notícias de diversos assuntos, não teremos palavras extras para acrescentar, o que é comum quando se trata de um assunto específico onde sabe-se previamente quais palavras são mais importantes."
   ]
  },
  {
   "cell_type": "code",
   "execution_count": 11,
   "metadata": {},
   "outputs": [
    {
     "name": "stderr",
     "output_type": "stream",
     "text": [
      "[nltk_data] Downloading package stopwords to\n",
      "[nltk_data]     /Users/edprata/nltk_data...\n",
      "[nltk_data]   Package stopwords is already up-to-date!\n"
     ]
    },
    {
     "data": {
      "text/html": [
       "<div>\n",
       "<style scoped>\n",
       "    .dataframe tbody tr th:only-of-type {\n",
       "        vertical-align: middle;\n",
       "    }\n",
       "\n",
       "    .dataframe tbody tr th {\n",
       "        vertical-align: top;\n",
       "    }\n",
       "\n",
       "    .dataframe thead th {\n",
       "        text-align: right;\n",
       "    }\n",
       "</style>\n",
       "<table border=\"1\" class=\"dataframe\">\n",
       "  <thead>\n",
       "    <tr style=\"text-align: right;\">\n",
       "      <th></th>\n",
       "      <th>titulo</th>\n",
       "      <th>url</th>\n",
       "      <th>texto</th>\n",
       "      <th>categoria</th>\n",
       "      <th>dado_tratado</th>\n",
       "    </tr>\n",
       "  </thead>\n",
       "  <tbody>\n",
       "    <tr>\n",
       "      <td>0</td>\n",
       "      <td>Entenda como uma ampla coalizão tirou Netanyah...</td>\n",
       "      <td>https://g1.globo.com/mundo/noticia/2021/06/13/...</td>\n",
       "      <td>O Parlamento de Israel confirmou neste doming...</td>\n",
       "      <td>FALTANDO</td>\n",
       "      <td>[entenda, ampla, coalizão, tirou, netanyahu, p...</td>\n",
       "    </tr>\n",
       "    <tr>\n",
       "      <td>1</td>\n",
       "      <td>Milionário de direita: quem é Naftali Bennett,...</td>\n",
       "      <td>https://g1.globo.com/mundo/noticia/2021/06/13/...</td>\n",
       "      <td>Milionário do setor de tecnologia, Naftali Be...</td>\n",
       "      <td>FALTANDO</td>\n",
       "      <td>[milionário, direita, naftali, bennett, novo, ...</td>\n",
       "    </tr>\n",
       "    <tr>\n",
       "      <td>2</td>\n",
       "      <td>Governo de SP antecipa datas de vacinação; vej...</td>\n",
       "      <td>https://g1.globo.com/sp/sao-paulo/noticia/2021...</td>\n",
       "      <td>O governo de São Paulo antecipou em 30 dias o...</td>\n",
       "      <td>FALTANDO</td>\n",
       "      <td>[governo, sp, antecipa, datas, vacinação, veja...</td>\n",
       "    </tr>\n",
       "    <tr>\n",
       "      <td>3</td>\n",
       "      <td>PMs que mataram homens dentro de carro em SP s...</td>\n",
       "      <td>https://g1.globo.com/sp/sao-paulo/noticia/2021...</td>\n",
       "      <td>A Polícia Militar instaurou um inquérito poli...</td>\n",
       "      <td>FALTANDO</td>\n",
       "      <td>[pms, mataram, homens, dentro, carro, sp, afas...</td>\n",
       "    </tr>\n",
       "    <tr>\n",
       "      <td>4</td>\n",
       "      <td>Após Venezuela e Bolívia, Colômbia confirma 2 ...</td>\n",
       "      <td>https://ge.globo.com/futebol/copa-america/noti...</td>\n",
       "      <td>A Federação Colombiana de Futebol informou ne...</td>\n",
       "      <td>diversos</td>\n",
       "      <td>[após, venezuela, bolívia, colômbia, confirma,...</td>\n",
       "    </tr>\n",
       "  </tbody>\n",
       "</table>\n",
       "</div>"
      ],
      "text/plain": [
       "                                              titulo  \\\n",
       "0  Entenda como uma ampla coalizão tirou Netanyah...   \n",
       "1  Milionário de direita: quem é Naftali Bennett,...   \n",
       "2  Governo de SP antecipa datas de vacinação; vej...   \n",
       "3  PMs que mataram homens dentro de carro em SP s...   \n",
       "4  Após Venezuela e Bolívia, Colômbia confirma 2 ...   \n",
       "\n",
       "                                                 url  \\\n",
       "0  https://g1.globo.com/mundo/noticia/2021/06/13/...   \n",
       "1  https://g1.globo.com/mundo/noticia/2021/06/13/...   \n",
       "2  https://g1.globo.com/sp/sao-paulo/noticia/2021...   \n",
       "3  https://g1.globo.com/sp/sao-paulo/noticia/2021...   \n",
       "4  https://ge.globo.com/futebol/copa-america/noti...   \n",
       "\n",
       "                                               texto categoria  \\\n",
       "0   O Parlamento de Israel confirmou neste doming...  FALTANDO   \n",
       "1   Milionário do setor de tecnologia, Naftali Be...  FALTANDO   \n",
       "2   O governo de São Paulo antecipou em 30 dias o...  FALTANDO   \n",
       "3   A Polícia Militar instaurou um inquérito poli...  FALTANDO   \n",
       "4   A Federação Colombiana de Futebol informou ne...  diversos   \n",
       "\n",
       "                                        dado_tratado  \n",
       "0  [entenda, ampla, coalizão, tirou, netanyahu, p...  \n",
       "1  [milionário, direita, naftali, bennett, novo, ...  \n",
       "2  [governo, sp, antecipa, datas, vacinação, veja...  \n",
       "3  [pms, mataram, homens, dentro, carro, sp, afas...  \n",
       "4  [após, venezuela, bolívia, colômbia, confirma,...  "
      ]
     },
     "execution_count": 11,
     "metadata": {},
     "output_type": "execute_result"
    }
   ],
   "source": [
    "import nltk\n",
    "nltk.download('stopwords')\n",
    "stopwords = nltk.corpus.stopwords.words('portuguese')\n",
    "\n",
    "def tratar_stop_words (string):\n",
    "    return [word for word in string.split() if word not in stopwords]\n",
    "\n",
    "noticias['dado_tratado'] = noticias['dado_tratado'].apply(lambda x: tratar_stop_words(x))\n",
    "noticias.head()"
   ]
  },
  {
   "cell_type": "markdown",
   "metadata": {},
   "source": [
    "## Stemmer:"
   ]
  },
  {
   "cell_type": "markdown",
   "metadata": {},
   "source": [
    "Aplicando a técnica de Stemmer para reduzir o vocabulário, transformando palavras com o mesmo valor semântico em uma só variável para o problema. Exemplo comuns são o tratamento dos generos como se fosse um só e a redução das palavras ao seu radical, entre outras técnicas."
   ]
  },
  {
   "cell_type": "code",
   "execution_count": 12,
   "metadata": {},
   "outputs": [
    {
     "name": "stderr",
     "output_type": "stream",
     "text": [
      "[nltk_data] Downloading package rslp to /Users/edprata/nltk_data...\n",
      "[nltk_data]   Package rslp is already up-to-date!\n"
     ]
    },
    {
     "data": {
      "text/html": [
       "<div>\n",
       "<style scoped>\n",
       "    .dataframe tbody tr th:only-of-type {\n",
       "        vertical-align: middle;\n",
       "    }\n",
       "\n",
       "    .dataframe tbody tr th {\n",
       "        vertical-align: top;\n",
       "    }\n",
       "\n",
       "    .dataframe thead th {\n",
       "        text-align: right;\n",
       "    }\n",
       "</style>\n",
       "<table border=\"1\" class=\"dataframe\">\n",
       "  <thead>\n",
       "    <tr style=\"text-align: right;\">\n",
       "      <th></th>\n",
       "      <th>titulo</th>\n",
       "      <th>url</th>\n",
       "      <th>texto</th>\n",
       "      <th>categoria</th>\n",
       "      <th>dado_tratado</th>\n",
       "    </tr>\n",
       "  </thead>\n",
       "  <tbody>\n",
       "    <tr>\n",
       "      <td>0</td>\n",
       "      <td>Entenda como uma ampla coalizão tirou Netanyah...</td>\n",
       "      <td>https://g1.globo.com/mundo/noticia/2021/06/13/...</td>\n",
       "      <td>O Parlamento de Israel confirmou neste doming...</td>\n",
       "      <td>FALTANDO</td>\n",
       "      <td>[entend, ampl, coaliz, tir, netanyahu, pod, is...</td>\n",
       "    </tr>\n",
       "    <tr>\n",
       "      <td>1</td>\n",
       "      <td>Milionário de direita: quem é Naftali Bennett,...</td>\n",
       "      <td>https://g1.globo.com/mundo/noticia/2021/06/13/...</td>\n",
       "      <td>Milionário do setor de tecnologia, Naftali Be...</td>\n",
       "      <td>FALTANDO</td>\n",
       "      <td>[milion, direit, naftal, bennett, nov, premi, ...</td>\n",
       "    </tr>\n",
       "    <tr>\n",
       "      <td>2</td>\n",
       "      <td>Governo de SP antecipa datas de vacinação; vej...</td>\n",
       "      <td>https://g1.globo.com/sp/sao-paulo/noticia/2021...</td>\n",
       "      <td>O governo de São Paulo antecipou em 30 dias o...</td>\n",
       "      <td>FALTANDO</td>\n",
       "      <td>[govern, sp, antecip, dat, vacin, vej, nov, ca...</td>\n",
       "    </tr>\n",
       "    <tr>\n",
       "      <td>3</td>\n",
       "      <td>PMs que mataram homens dentro de carro em SP s...</td>\n",
       "      <td>https://g1.globo.com/sp/sao-paulo/noticia/2021...</td>\n",
       "      <td>A Polícia Militar instaurou um inquérito poli...</td>\n",
       "      <td>FALTANDO</td>\n",
       "      <td>[pm, mat, hom, dentr, carr, sp, afast, investi...</td>\n",
       "    </tr>\n",
       "    <tr>\n",
       "      <td>4</td>\n",
       "      <td>Após Venezuela e Bolívia, Colômbia confirma 2 ...</td>\n",
       "      <td>https://ge.globo.com/futebol/copa-america/noti...</td>\n",
       "      <td>A Federação Colombiana de Futebol informou ne...</td>\n",
       "      <td>diversos</td>\n",
       "      <td>[após, venezuel, bolív, colômb, confirm, cas, ...</td>\n",
       "    </tr>\n",
       "  </tbody>\n",
       "</table>\n",
       "</div>"
      ],
      "text/plain": [
       "                                              titulo  \\\n",
       "0  Entenda como uma ampla coalizão tirou Netanyah...   \n",
       "1  Milionário de direita: quem é Naftali Bennett,...   \n",
       "2  Governo de SP antecipa datas de vacinação; vej...   \n",
       "3  PMs que mataram homens dentro de carro em SP s...   \n",
       "4  Após Venezuela e Bolívia, Colômbia confirma 2 ...   \n",
       "\n",
       "                                                 url  \\\n",
       "0  https://g1.globo.com/mundo/noticia/2021/06/13/...   \n",
       "1  https://g1.globo.com/mundo/noticia/2021/06/13/...   \n",
       "2  https://g1.globo.com/sp/sao-paulo/noticia/2021...   \n",
       "3  https://g1.globo.com/sp/sao-paulo/noticia/2021...   \n",
       "4  https://ge.globo.com/futebol/copa-america/noti...   \n",
       "\n",
       "                                               texto categoria  \\\n",
       "0   O Parlamento de Israel confirmou neste doming...  FALTANDO   \n",
       "1   Milionário do setor de tecnologia, Naftali Be...  FALTANDO   \n",
       "2   O governo de São Paulo antecipou em 30 dias o...  FALTANDO   \n",
       "3   A Polícia Militar instaurou um inquérito poli...  FALTANDO   \n",
       "4   A Federação Colombiana de Futebol informou ne...  diversos   \n",
       "\n",
       "                                        dado_tratado  \n",
       "0  [entend, ampl, coaliz, tir, netanyahu, pod, is...  \n",
       "1  [milion, direit, naftal, bennett, nov, premi, ...  \n",
       "2  [govern, sp, antecip, dat, vacin, vej, nov, ca...  \n",
       "3  [pm, mat, hom, dentr, carr, sp, afast, investi...  \n",
       "4  [após, venezuel, bolív, colômb, confirm, cas, ...  "
      ]
     },
     "execution_count": 12,
     "metadata": {},
     "output_type": "execute_result"
    }
   ],
   "source": [
    "import nltk\n",
    "nltk.download('rslp')\n",
    "\n",
    "from nltk.stem import RSLPStemmer\n",
    "stemmer_ptbr = RSLPStemmer()\n",
    "\n",
    "def apply_stem (text):\n",
    "    return [stemmer_ptbr.stem(word) for word in text]\n",
    "\n",
    "noticias['dado_tratado'] = noticias['dado_tratado'].apply(lambda x: apply_stem(x))\n",
    "noticias.head()"
   ]
  },
  {
   "cell_type": "markdown",
   "metadata": {},
   "source": [
    "## Gravando dados Tratados:"
   ]
  },
  {
   "cell_type": "markdown",
   "metadata": {},
   "source": [
    "Gravando os dados em CSV para posterior utilização."
   ]
  },
  {
   "cell_type": "code",
   "execution_count": 13,
   "metadata": {},
   "outputs": [],
   "source": [
    "noticias.to_csv('noticias_g1_higienizadas.csv', index=False)"
   ]
  },
  {
   "cell_type": "code",
   "execution_count": null,
   "metadata": {},
   "outputs": [],
   "source": []
  }
 ],
 "metadata": {
  "kernelspec": {
   "display_name": "Python 3",
   "language": "python",
   "name": "python3"
  },
  "language_info": {
   "codemirror_mode": {
    "name": "ipython",
    "version": 3
   },
   "file_extension": ".py",
   "mimetype": "text/x-python",
   "name": "python",
   "nbconvert_exporter": "python",
   "pygments_lexer": "ipython3",
   "version": "3.7.4"
  }
 },
 "nbformat": 4,
 "nbformat_minor": 4
}
